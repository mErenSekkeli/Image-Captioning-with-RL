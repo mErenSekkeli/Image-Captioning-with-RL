{
 "cells": [
  {
   "cell_type": "code",
   "execution_count": 1,
   "metadata": {},
   "outputs": [
    {
     "data": {
      "text/plain": [
       "[{'filename': '03577_0',\n",
       "  'sentence1': 'a big blue building has been built in the middle of the scene ',\n",
       "  'sentence2': 'the bareland has been replaced by a blue building and a big blue building has been built ',\n",
       "  'sentence3': 'two big blue buildings have been replaced by a blue building '},\n",
       " {'filename': '03577_1',\n",
       "  'sentence1': 'a small blue building has been constructed on the bareland at the corner of the scene ',\n",
       "  'sentence2': 'many trees have appeared in many parts of the scene ',\n",
       "  'sentence3': 'many green trees have been constructed on the bareland and the grassland '},\n",
       " {'filename': '03577_2',\n",
       "  'sentence1': 'a big building has been constructed in many parts of the scene ',\n",
       "  'sentence2': 'a blue building has been constructed in the green area ',\n",
       "  'sentence3': 'a big building has been constructed in the green area '},\n",
       " {'filename': '03577_3',\n",
       "  'sentence1': 'two blue buildings have been built in many parts of the scene ',\n",
       "  'sentence2': 'two blue buildings have been built at the corner of the scene ',\n",
       "  'sentence3': 'the trees have grown up in many parts of the scene '}]"
      ]
     },
     "execution_count": 1,
     "metadata": {},
     "output_type": "execute_result"
    }
   ],
   "source": [
    "from load_data import load_json_data\n",
    "\n",
    "# Load data\n",
    "data = load_json_data(\"data/result.json\", 1000, 1520)\n",
    "data[-1]"
   ]
  },
  {
   "cell_type": "code",
   "execution_count": 3,
   "metadata": {},
   "outputs": [
    {
     "data": {
      "text/plain": [
       "[array([-2.852418  , -0.3598552 , -0.64396954, ..., -3.7601597 ,\n",
       "        -2.4142437 , -0.73389924], dtype=float32),\n",
       " array([-3.5670743 , -2.616459  , -2.4648798 , ..., -4.367136  ,\n",
       "        -0.19193462, -1.1204567 ], dtype=float32),\n",
       " array([-2.0376918,  2.6945443, -2.5628326, ..., -1.4267876,  1.356801 ,\n",
       "         1.0070316], dtype=float32),\n",
       " array([ 1.61934   ,  0.7839722 , -1.4668478 , ...,  2.6288903 ,\n",
       "         0.19116966, -1.5600281 ], dtype=float32),\n",
       " array([ 1.8105732 ,  1.0538902 ,  1.255107  , ...,  1.9745277 ,\n",
       "        -0.94601136, -4.8783593 ], dtype=float32),\n",
       " array([-1.4364594 , -0.7220393 ,  0.83130527, ..., -2.8415883 ,\n",
       "         1.8530447 , -1.3842025 ], dtype=float32),\n",
       " array([-1.325945  ,  1.6192777 , -0.28317976, ...,  0.35340035,\n",
       "        -0.7117377 , -1.4554265 ], dtype=float32),\n",
       " array([ 3.4042222 ,  3.2917116 , -0.21354564, ...,  1.0218418 ,\n",
       "        -0.2932795 ,  0.01013771], dtype=float32),\n",
       " array([ 1.9444352 ,  2.3477812 ,  0.16965462, ...,  8.649478  ,\n",
       "         2.0927649 , -3.079896  ], dtype=float32),\n",
       " array([ 5.315707 ,  2.3730872, -1.2025181, ...,  2.30734  , -1.3543609,\n",
       "        -2.6982386], dtype=float32),\n",
       " array([-1.3595278 , -0.4541487 , -3.9837923 , ..., -4.543173  ,\n",
       "        -0.21700445,  0.62093514], dtype=float32),\n",
       " array([ 3.3497286 ,  0.83393604, -0.9576024 , ...,  1.0060549 ,\n",
       "        -0.878334  , -1.7503549 ], dtype=float32),\n",
       " array([-0.00296474,  1.0750312 , -2.3362572 , ...,  0.6629033 ,\n",
       "         1.0235894 , -0.7786278 ], dtype=float32),\n",
       " array([ 0.77709275, -0.48277667, -2.232686  , ..., -7.0313272 ,\n",
       "         0.09708256,  3.1114695 ], dtype=float32),\n",
       " array([-3.0521271 , -2.7933936 , -0.8496126 , ..., -6.7777767 ,\n",
       "         0.39331177,  3.358064  ], dtype=float32),\n",
       " array([-1.161673  , -1.0994468 , -0.39837548, ..., -0.6436016 ,\n",
       "        -0.1291768 , -0.04139801], dtype=float32)]"
      ]
     },
     "execution_count": 3,
     "metadata": {},
     "output_type": "execute_result"
    }
   ],
   "source": [
    "# Path: RL_policy.ipynb\n",
    "from load_data import load_extracted_features\n",
    "features = load_extracted_features(\"02243\")\n",
    "features"
   ]
  },
  {
   "cell_type": "markdown",
   "metadata": {},
   "source": [
    "#### Prepare Training data"
   ]
  },
  {
   "cell_type": "code",
   "execution_count": 4,
   "metadata": {},
   "outputs": [
    {
     "data": {
      "text/plain": [
       "{'features': [array([-3.895567  , -0.7710196 , -1.379711  , ..., -4.317973  ,\n",
       "         -0.24954835, -0.5057722 ], dtype=float32),\n",
       "  array([ 0.29719004, -2.1620078 , -4.0901904 , ..., -1.0636894 ,\n",
       "         -0.65524375,  2.9486067 ], dtype=float32),\n",
       "  array([-4.715664 , -2.0460691, -1.6050384, ..., -6.1682596, -1.5817506,\n",
       "         -1.0122457], dtype=float32),\n",
       "  array([-0.8934293,  1.7406154,  2.1094537, ..., -6.358255 , -2.441966 ,\n",
       "          3.5570562], dtype=float32)],\n",
       " 'sentences': ['two buildings have been constructed on the bareland in the middle of the scene ',\n",
       "  'a huge building has been constructed on the green area at the corner of the scene ',\n",
       "  'two buildings have been constructed on the green area in the middle '],\n",
       " 'slider_values': [4, 2, 3]}"
      ]
     },
     "execution_count": 4,
     "metadata": {},
     "output_type": "execute_result"
    }
   ],
   "source": [
    "from load_data import load_extracted_features\n",
    "\n",
    "training_data = []\n",
    "\n",
    "for item_group in data:\n",
    "    for index, item in enumerate(item_group):\n",
    "        if \"slider1\" not in item:\n",
    "            continue\n",
    "        file_name = item['filename'].split(\"_\")[0]\n",
    "        features = load_extracted_features(file_name)\n",
    "        \n",
    "        # Her bir item için features listesini dörde böl ve ilgili parçayı kullan\n",
    "        item_features = []\n",
    "        for i in range(4):\n",
    "            item_features.append(features[index * 4 + i])\n",
    "\n",
    "        training_data.append({\n",
    "            \"features\": item_features,\n",
    "            \"sentences\": [item[\"sentence1\"], item[\"sentence2\"], item[\"sentence3\"]],\n",
    "            \"slider_values\": [item[\"slider1\"], item[\"slider2\"], item[\"slider3\"]]\n",
    "        })\n",
    "\n",
    "training_data[-1]"
   ]
  },
  {
   "cell_type": "markdown",
   "metadata": {},
   "source": [
    "#### Split The Data"
   ]
  },
  {
   "cell_type": "code",
   "execution_count": 5,
   "metadata": {},
   "outputs": [],
   "source": [
    "# Split data into train and test\n",
    "from sklearn.model_selection import train_test_split\n",
    "\n",
    "train_data, test_data = train_test_split(training_data, test_size=0.2, random_state=42)"
   ]
  },
  {
   "cell_type": "markdown",
   "metadata": {},
   "source": [
    "#### Q-Learning Class\n",
    "* Define Q-Learning Class"
   ]
  },
  {
   "cell_type": "code",
   "execution_count": 6,
   "metadata": {},
   "outputs": [],
   "source": [
    "import torch\n",
    "import torch.nn as nn\n",
    "import torch.optim as optim\n",
    "import random\n",
    "import numpy as np\n",
    "\n",
    "class DQN(nn.Module):\n",
    "    def __init__(self, input_size, output_size):\n",
    "        super(DQN, self).__init__()\n",
    "        self.fc1 = nn.Linear(input_size, 128)\n",
    "        self.relu1 = nn.ReLU()\n",
    "        self.dropout1 = nn.Dropout(0.5)  # Dropout katmanı\n",
    "        self.fc2 = nn.Linear(128, 64)  # Ekstra bir gizli katman\n",
    "        self.relu2 = nn.ReLU()\n",
    "        self.dropout2 = nn.Dropout(0.5)  # İkinci bir dropout katmanı\n",
    "        self.fc3 = nn.Linear(64, output_size)\n",
    "\n",
    "    def forward(self, x):\n",
    "        x = self.fc1(x)\n",
    "        x = self.relu1(x)\n",
    "        x = self.dropout1(x)\n",
    "        x = self.fc2(x)\n",
    "        x = self.relu2(x)\n",
    "        x = self.dropout2(x)\n",
    "        x = self.fc3(x)\n",
    "        return x\n",
    "\n",
    "class QLearningModel:\n",
    "    def __init__(self, state_size, action_size, learning_rate=0.001, discount_factor=0.9, exploration_rate=1.0, exploration_decay=0.995, use_gpu=False):\n",
    "        self.action_size = action_size\n",
    "        self.discount_factor = discount_factor\n",
    "        self.exploration_rate = exploration_rate\n",
    "        self.exploration_decay = exploration_decay\n",
    "        self.device = torch.device(\"cuda\" if use_gpu and torch.cuda.is_available() else \"cpu\")\n",
    "\n",
    "        self.model = DQN(state_size, action_size).to(self.device)\n",
    "        self.optimizer = optim.Adam(self.model.parameters(), lr=learning_rate)\n",
    "        self.criterion = nn.MSELoss()\n",
    "\n",
    "    def choose_action(self, state):\n",
    "        if random.uniform(0, 1) < self.exploration_rate:\n",
    "            return random.randint(0, self.action_size - 1)\n",
    "        else:\n",
    "            state = torch.tensor([state], dtype=torch.float32).to(self.device)\n",
    "            q_values = self.model(state)\n",
    "            _, action = torch.max(q_values, 1)\n",
    "            return action.item()\n",
    "        \n",
    "    def decay_exploration_rate(self):\n",
    "        self.exploration_rate *= self.exploration_decay\n",
    "        self.exploration_rate = max(0.01, self.exploration_rate)\n",
    "\n",
    "    def update(self, state, action, reward, next_state):\n",
    "        state = torch.tensor([state], dtype=torch.float32).to(self.device)\n",
    "        next_state = torch.tensor([next_state], dtype=torch.float32).to(self.device)\n",
    "        reward = torch.tensor(reward, dtype=torch.float32).to(self.device)\n",
    "        action = torch.tensor([action], dtype=torch.long).to(self.device)\n",
    "\n",
    "        current_q = self.model(state).gather(1, action.unsqueeze(1)).squeeze(1)\n",
    "        max_next_q = self.model(next_state).max(1)[0]\n",
    "        expected_q = reward + self.discount_factor * max_next_q\n",
    "\n",
    "        loss = self.criterion(current_q, expected_q)\n",
    "\n",
    "        self.optimizer.zero_grad()\n",
    "        loss.backward()\n",
    "        self.optimizer.step()\n",
    "\n",
    "    def save_model(self, path):\n",
    "        torch.save(self.model.state_dict(), path)\n",
    "\n",
    "    def load_model(self, path):\n",
    "        self.model.load_state_dict(torch.load(path, map_location=self.device))"
   ]
  },
  {
   "cell_type": "markdown",
   "metadata": {},
   "source": [
    "#### Early Stopping"
   ]
  },
  {
   "cell_type": "code",
   "execution_count": 7,
   "metadata": {},
   "outputs": [],
   "source": [
    "class EarlyStopping:\n",
    "    def __init__(self, patience=10, verbose=False, delta=0):\n",
    "        self.patience = patience\n",
    "        self.verbose = verbose\n",
    "        self.delta = delta\n",
    "        self.best_score = None\n",
    "        self.early_stop = False\n",
    "        self.counter = 0\n",
    "\n",
    "    def __call__(self, average_reward):\n",
    "        score = average_reward\n",
    "\n",
    "        if self.best_score is None:\n",
    "            self.best_score = score\n",
    "        elif score < self.best_score + self.delta:\n",
    "            self.counter += 1\n",
    "            if self.verbose:\n",
    "                print(f'EarlyStopping counter: {self.counter} out of {self.patience}')\n",
    "            if self.counter >= self.patience:\n",
    "                self.early_stop = True\n",
    "        else:\n",
    "            self.best_score = score\n",
    "            self.counter = 0"
   ]
  },
  {
   "cell_type": "markdown",
   "metadata": {},
   "source": [
    "#### Preprocess The Data\n",
    "* Using BERT Model We've to encode the sentences for Deep Q Learning Layer"
   ]
  },
  {
   "cell_type": "code",
   "execution_count": null,
   "metadata": {},
   "outputs": [],
   "source": [
    "import numpy as np\n",
    "import torch\n",
    "import tqdm\n",
    "from transformers import BertTokenizer, BertModel\n",
    "\n",
    "def bert_encode(sentences, bert_model, tokenizer, device, batch_size=32):\n",
    "    bert_model.to(device)\n",
    "    bert_model.eval()  # Modeli değerlendirme modunda çalıştır\n",
    "\n",
    "    # Tüm cümleleri batch'ler halinde işle\n",
    "    all_sentence_embeddings = []\n",
    "    for i in tqdm.tqdm(range(0, len(sentences), batch_size), desc=\"BERT Encoding\"):\n",
    "        batch_sentences = sentences[i:i+batch_size]\n",
    "        encoded = tokenizer.batch_encode_plus(\n",
    "            batch_sentences,\n",
    "            add_special_tokens=True,\n",
    "            max_length=512,\n",
    "            padding='max_length',\n",
    "            truncation=True,\n",
    "            return_attention_mask=True,\n",
    "            return_tensors='pt'\n",
    "        )\n",
    "\n",
    "        input_ids = encoded['input_ids'].to(device)\n",
    "        attention_mask = encoded['attention_mask'].to(device)\n",
    "\n",
    "        with torch.no_grad():\n",
    "            outputs = bert_model(input_ids, attention_mask=attention_mask)\n",
    "            sentence_embeddings = outputs[0][:, 0, :]  # [CLS] token'ın çıktısını al\n",
    "            all_sentence_embeddings.extend(sentence_embeddings.cpu().numpy())\n",
    "\n",
    "    return np.array(all_sentence_embeddings)\n",
    "\n",
    "def collect_all_sentences(data):\n",
    "    all_sentences = []\n",
    "    sentence_lengths = []\n",
    "    for data_point in data:\n",
    "        sentences = data_point['sentences']\n",
    "        all_sentences.extend(sentences)\n",
    "        sentence_lengths.append(len(sentences))\n",
    "    return all_sentences, sentence_lengths\n",
    "\n",
    "def distribute_embeddings_to_data_points(all_embeddings, data, sentence_lengths):\n",
    "    bert_encoded_data = []\n",
    "    start_index = 0\n",
    "    for data_point, length in zip(data, sentence_lengths):\n",
    "        encoded_sentences = all_embeddings[start_index:start_index + length]\n",
    "        encoded_sentences_array = np.array(encoded_sentences)\n",
    "        bert_encoded_data.append((data_point, encoded_sentences_array))\n",
    "        start_index += length\n",
    "    return bert_encoded_data\n",
    "\n",
    "device = torch.device(\"cuda\" if torch.cuda.is_available() else \"cpu\")\n",
    "bert_model = BertModel.from_pretrained('bert-base-uncased').to(device)\n",
    "tokenizer = BertTokenizer.from_pretrained('bert-base-uncased')\n",
    "batch_size = 128\n",
    "\n",
    "# Tüm cümleleri topla ve BERT kodlamalarını hesapla\n",
    "all_train_sentences, train_sentence_lengths = collect_all_sentences(train_data)\n",
    "all_train_embeddings = bert_encode(all_train_sentences, bert_model, tokenizer, device, batch_size)\n",
    "\n",
    "# Kodlamaları ilgili eğitim veri noktalarına dağıt\n",
    "train_data_with_bert = distribute_embeddings_to_data_points(all_train_embeddings, train_data, train_sentence_lengths)\n",
    "\n",
    "# Test verisi için de aynı işlemi yap\n",
    "all_test_sentences, test_sentence_lengths = collect_all_sentences(test_data)\n",
    "all_test_embeddings = bert_encode(all_test_sentences, bert_model, tokenizer, device, batch_size)\n",
    "test_data_with_bert = distribute_embeddings_to_data_points(all_test_embeddings, test_data, test_sentence_lengths)\n",
    "\n",
    "#free gpu memory\n",
    "if torch.cuda.is_available():\n",
    "    torch.cuda.empty_cache()\n"
   ]
  },
  {
   "cell_type": "markdown",
   "metadata": {},
   "source": [
    "#### Train The Model"
   ]
  },
  {
   "cell_type": "code",
   "execution_count": 16,
   "metadata": {},
   "outputs": [
    {
     "name": "stderr",
     "output_type": "stream",
     "text": [
      "Training:  96%|█████████▌| 478/500 [00:44<00:01, 11.02it/s]"
     ]
    },
    {
     "name": "stdout",
     "output_type": "stream",
     "text": [
      "Epoch 476: Train Avg Reward = -1.0655368926214757, Test Avg Reward = -0.9136690647482014\n",
      "Epoch 477: Train Avg Reward = -1.0137972405518896, Test Avg Reward = -0.8938848920863309\n",
      "Epoch 478: Train Avg Reward = -1.0137972405518896, Test Avg Reward = -0.8938848920863309\n"
     ]
    },
    {
     "name": "stderr",
     "output_type": "stream",
     "text": [
      "Training:  96%|█████████▋| 482/500 [00:44<00:01, 11.11it/s]"
     ]
    },
    {
     "name": "stdout",
     "output_type": "stream",
     "text": [
      "Epoch 479: Train Avg Reward = -1.0955308938212358, Test Avg Reward = -0.959832134292566\n",
      "Epoch 480: Train Avg Reward = -1.207258548290342, Test Avg Reward = -1.0719424460431655\n",
      "Epoch 481: Train Avg Reward = -1.0137972405518896, Test Avg Reward = -0.8938848920863309\n"
     ]
    },
    {
     "name": "stderr",
     "output_type": "stream",
     "text": [
      "Training:  97%|█████████▋| 484/500 [00:44<00:01, 11.36it/s]"
     ]
    },
    {
     "name": "stdout",
     "output_type": "stream",
     "text": [
      "Epoch 482: Train Avg Reward = -1.0955308938212358, Test Avg Reward = -0.959832134292566\n",
      "Epoch 483: Train Avg Reward = -1.0655368926214757, Test Avg Reward = -0.9136690647482014\n",
      "Epoch 484: Train Avg Reward = -1.0655368926214757, Test Avg Reward = -0.9136690647482014\n"
     ]
    },
    {
     "name": "stderr",
     "output_type": "stream",
     "text": [
      "Training:  98%|█████████▊| 488/500 [00:45<00:01, 10.97it/s]"
     ]
    },
    {
     "name": "stdout",
     "output_type": "stream",
     "text": [
      "Epoch 485: Train Avg Reward = -0.9838032393521295, Test Avg Reward = -0.8477218225419664\n",
      "Epoch 486: Train Avg Reward = -1.207258548290342, Test Avg Reward = -1.0719424460431655\n",
      "Epoch 487: Train Avg Reward = -0.9838032393521295, Test Avg Reward = -0.8477218225419664\n"
     ]
    },
    {
     "name": "stderr",
     "output_type": "stream",
     "text": [
      "Training:  98%|█████████▊| 490/500 [00:45<00:00, 11.21it/s]"
     ]
    },
    {
     "name": "stdout",
     "output_type": "stream",
     "text": [
      "Epoch 488: Train Avg Reward = -1.0655368926214757, Test Avg Reward = -0.9136690647482014\n",
      "Epoch 489: Train Avg Reward = -1.207258548290342, Test Avg Reward = -1.0719424460431655\n",
      "Epoch 490: Train Avg Reward = -1.0137972405518896, Test Avg Reward = -0.8938848920863309\n"
     ]
    },
    {
     "name": "stderr",
     "output_type": "stream",
     "text": [
      "Training:  99%|█████████▉| 494/500 [00:45<00:00, 11.40it/s]"
     ]
    },
    {
     "name": "stdout",
     "output_type": "stream",
     "text": [
      "Epoch 491: Train Avg Reward = -1.0137972405518896, Test Avg Reward = -0.8938848920863309\n",
      "Epoch 492: Train Avg Reward = -0.9838032393521295, Test Avg Reward = -0.8477218225419664\n",
      "Epoch 493: Train Avg Reward = -0.9538092381523695, Test Avg Reward = -0.8015587529976019\n"
     ]
    },
    {
     "name": "stderr",
     "output_type": "stream",
     "text": [
      "Training:  99%|█████████▉| 496/500 [00:45<00:00, 11.49it/s]"
     ]
    },
    {
     "name": "stdout",
     "output_type": "stream",
     "text": [
      "Epoch 494: Train Avg Reward = -0.9838032393521295, Test Avg Reward = -0.8477218225419664\n",
      "Epoch 495: Train Avg Reward = -0.9838032393521295, Test Avg Reward = -0.8477218225419664\n",
      "Epoch 496: Train Avg Reward = -1.0137972405518896, Test Avg Reward = -0.8938848920863309\n"
     ]
    },
    {
     "name": "stderr",
     "output_type": "stream",
     "text": [
      "                                                           "
     ]
    },
    {
     "name": "stdout",
     "output_type": "stream",
     "text": [
      "Epoch 497: Train Avg Reward = -0.9538092381523695, Test Avg Reward = -0.8015587529976019\n",
      "Epoch 498: Train Avg Reward = -1.0137972405518896, Test Avg Reward = -0.8938848920863309\n",
      "Epoch 499: Train Avg Reward = -0.9538092381523695, Test Avg Reward = -0.8015587529976019\n"
     ]
    },
    {
     "name": "stderr",
     "output_type": "stream",
     "text": [
      "\r"
     ]
    },
    {
     "data": {
      "image/png": "[encoded data removed]",
      "text/plain": [
       "<Figure size 640x480 with 1 Axes>"
      ]
     },
     "metadata": {},
     "output_type": "display_data"
    }
   ],
   "source": [
    "import numpy as np\n",
    "import torch\n",
    "import tqdm\n",
    "from matplotlib import pyplot as plt\n",
    "from transformers import BertTokenizer, BertModel\n",
    "\n",
    "def bert_encode(sentences, bert_model, tokenizer, device, batch_size=32):\n",
    "    bert_model.to(device)\n",
    "    bert_model.eval()  # Modeli değerlendirme modunda çalıştır\n",
    "\n",
    "    # Tüm cümleleri batch'ler halinde işle\n",
    "    all_sentence_embeddings = []\n",
    "    for i in tqdm.tqdm(range(0, len(sentences), batch_size), desc=\"BERT Encoding\"):\n",
    "        batch_sentences = sentences[i:i+batch_size]\n",
    "        encoded = tokenizer.batch_encode_plus(\n",
    "            batch_sentences,\n",
    "            add_special_tokens=True,\n",
    "            max_length=512,\n",
    "            padding='max_length',\n",
    "            truncation=True,\n",
    "            return_attention_mask=True,\n",
    "            return_tensors='pt'\n",
    "        )\n",
    "\n",
    "        input_ids = encoded['input_ids'].to(device)\n",
    "        attention_mask = encoded['attention_mask'].to(device)\n",
    "\n",
    "        with torch.no_grad():\n",
    "            outputs = bert_model(input_ids, attention_mask=attention_mask)\n",
    "            sentence_embeddings = outputs[0][:, 0, :]  # [CLS] token'ın çıktısını al\n",
    "            all_sentence_embeddings.extend(sentence_embeddings.cpu().numpy())\n",
    "\n",
    "    return np.array(all_sentence_embeddings)\n",
    "\n",
    "def evaluate_performance(model, data_with_bert, device):\n",
    "    total_reward = 0\n",
    "    total_features = 0\n",
    "\n",
    "    for data_point, encoded_sentences in data_with_bert:\n",
    "        # Eğer encoded_sentences boyutu data_point['features'] boyutundan küçükse, son elemanı kopyala\n",
    "        if len(encoded_sentences) < len(data_point['features']):\n",
    "            last_embedding = encoded_sentences[-1]\n",
    "            # Eksik boyut kadar son elemanın kopyasını ekle\n",
    "            for _ in range(len(data_point['features']) - len(encoded_sentences)):\n",
    "                encoded_sentences = np.append(encoded_sentences, [last_embedding], axis=0)\n",
    "\n",
    "        for state_index, feature in enumerate(data_point['features']):\n",
    "            state = np.concatenate((feature, encoded_sentences[state_index]))\n",
    "            state_tensor = torch.tensor([state], dtype=torch.float32).to(device)\n",
    "            with torch.no_grad():\n",
    "                q_values = model.model(state_tensor)\n",
    "            _, action = torch.max(q_values, 1)\n",
    "            reward = data_point['slider_values'][action.item()]\n",
    "            total_reward += reward\n",
    "            total_features += 1\n",
    "\n",
    "    return total_reward / total_features\n",
    "\n",
    "\n",
    "\n",
    "def visualize_performance(performance_history):\n",
    "    train_rewards, test_rewards = zip(*performance_history)\n",
    "    plt.plot(train_rewards, label=\"Train Avg Reward\")\n",
    "    plt.plot(test_rewards, label=\"Test Avg Reward\")\n",
    "    plt.xlabel(\"Epoch\")\n",
    "    plt.ylabel(\"Average Reward\")\n",
    "    plt.legend()\n",
    "    plt.show()\n",
    "\n",
    "def train_model(model, train_data_with_bert, test_data_with_bert, epochs, optimizer, criterion):\n",
    "    performance_history = []\n",
    "    early_stopping = EarlyStopping(patience=10, delta=0)\n",
    "    try:\n",
    "        for epoch in tqdm.tqdm(range(epochs), desc=\"Training\", leave=False):\n",
    "            for data_point, encoded_sentences in train_data_with_bert:\n",
    "                # Tüm cümlelerin ortalamasını alarak tek bir temsilci vektör oluştur\n",
    "\n",
    "                sentence_representation = np.mean(encoded_sentences, axis=0)\n",
    "                for state_index, feature in enumerate(data_point['features']):\n",
    "                    # Her bir feature ile tüm cümlelerin temsili birleştiriliyor\n",
    "                    state = np.concatenate((feature, sentence_representation))\n",
    "                    action = model.choose_action(state)\n",
    "                    reward = data_point['slider_values'][action]\n",
    "                    next_state_index = (state_index + 1) % len(data_point['features'])\n",
    "                    next_state = np.concatenate((data_point['features'][next_state_index], sentence_representation))\n",
    "                    model.update(state, action, reward, next_state)\n",
    "\n",
    "            model.decay_exploration_rate()\n",
    "            train_avg_reward = evaluate_performance(model, train_data_with_bert, model.device)\n",
    "            test_avg_reward = evaluate_performance(model, test_data_with_bert, model.device)\n",
    "            performance_history.append((train_avg_reward, test_avg_reward))\n",
    "            print(f\"Epoch {epoch}: Train Avg Reward = {train_avg_reward}, Test Avg Reward = {test_avg_reward}\")\n",
    "\n",
    "            if early_stopping(test_avg_reward):\n",
    "                print(\"Early stopping\")\n",
    "                break\n",
    "    except Exception as e:\n",
    "        print(e)\n",
    "        if torch.cuda.is_available():\n",
    "            torch.cuda.empty_cache()\n",
    "        raise e\n",
    "\n",
    "    return performance_history\n",
    "\n",
    "\n",
    "state_size = len(train_data[0]['features'][0]) + 768\n",
    "action_size = 3\n",
    "learning_rate = 0.01\n",
    "discount_factor = 0.9\n",
    "exploration_rate = 0.5\n",
    "use_gpu = True\n",
    "epochs = 100\n",
    "\n",
    "model = QLearningModel(state_size, action_size, learning_rate, discount_factor, exploration_rate, use_gpu)\n",
    "\n",
    "optimizer = optim.RMSprop(model.model.parameters(), lr=learning_rate)\n",
    "criterion = nn.MSELoss()\n",
    "\n",
    "performance_history = train_model(model, train_data_with_bert, test_data_with_bert, epochs, optimizer, criterion)\n",
    "visualize_performance(performance_history)"
   ]
  },
  {
   "cell_type": "markdown",
   "metadata": {},
   "source": [
    "#### Visualize Sample And Get Rewards"
   ]
  },
  {
   "cell_type": "code",
   "execution_count": 52,
   "metadata": {},
   "outputs": [
    {
     "name": "stdout",
     "output_type": "stream",
     "text": [
      "Cümleler ve Modelin Tahmin Ettiği Ödüller:\n",
      "a blue roofed building has been constructed in the middle of the scene  - Tahmin Edilen Ödül: 0.00\n",
      "the white roofed building has changed its color of the scene  - Tahmin Edilen Ödül: 0.00\n",
      "The white roofed building has changed to the blue building in the middle of the scene  - Tahmin Edilen Ödül: 0.00\n",
      "\n",
      "Cümleler ve Gerçek Ödüller:\n",
      "a blue roofed building has been constructed in the middle of the scene  - Gerçek Ödül: -5.00\n",
      "the white roofed building has changed its color of the scene  - Gerçek Ödül: -5.00\n",
      "The white roofed building has changed to the blue building in the middle of the scene  - Gerçek Ödül: -5.00\n"
     ]
    }
   ],
   "source": [
    "import random\n",
    "\n",
    "def display_predictions(model, data_with_bert, device):\n",
    "    # Test veri setinden rastgele bir örnek seç\n",
    "    data_point, encoded_sentences = random.choice(data_with_bert)\n",
    "    sentence_representation = np.mean(encoded_sentences, axis=0)\n",
    "\n",
    "    predicted_scores = []\n",
    "    real_scores = data_point['slider_values']\n",
    "    sentences = data_point['sentences']\n",
    "\n",
    "    for state_index, feature in enumerate(data_point['features']):\n",
    "        state = np.concatenate((feature, sentence_representation))\n",
    "        state_tensor = torch.tensor([state], dtype=torch.float32).to(device)\n",
    "\n",
    "        with torch.no_grad():\n",
    "            q_values = model.model(state_tensor)\n",
    "        _, action = torch.max(q_values, 1)\n",
    "        predicted_score = action.item()\n",
    "\n",
    "        predicted_scores.append(predicted_score)\n",
    "\n",
    "    # Sonuçları göster\n",
    "    print(\"Cümleler ve Tahmin Edilen / Gerçek Puanlar:\\n\")\n",
    "    for i in range(len(sentences)):\n",
    "        print(f\"Cümle {i+1}: {sentences[i]}\")\n",
    "        print(f\"Tahmin Edilen Puan: {predicted_scores[i]}, Gerçek Puan: {real_scores[i]}\\n\")\n",
    "\n",
    "# Fonksiyonu kullanma\n",
    "display_predictions(model, test_data_with_bert, model.device)"
   ]
  }
 ],
 "metadata": {
  "kernelspec": {
   "display_name": "requirements",
   "language": "python",
   "name": "python3"
  },
  "language_info": {
   "codemirror_mode": {
    "name": "ipython",
    "version": 3
   },
   "file_extension": ".py",
   "mimetype": "text/x-python",
   "name": "python",
   "nbconvert_exporter": "python",
   "pygments_lexer": "ipython3",
   "version": "3.10.13"
  }
 },
 "nbformat": 4,
 "nbformat_minor": 2
}
