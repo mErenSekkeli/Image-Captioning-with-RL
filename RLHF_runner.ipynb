{
  "cells": [
    {
      "cell_type": "code",
      "execution_count": null,
      "metadata": {
        "id": "3n3gfVPL0DYx",
        "colab": {
          "base_uri": "https://localhost:8080/"
        },
        "outputId": "673e00ee-0700-4370-8ca2-36cec9d3c916"
      },
      "outputs": [
        {
          "output_type": "stream",
          "name": "stdout",
          "text": [
            "Mounted at /content/drive\n"
          ]
        }
      ],
      "source": [
        "üğğfrom google.colab import drive\n",
        "drive.mount('/content/drive')"
      ]
    },
    {
      "cell_type": "code",
      "execution_count": null,
      "metadata": {
        "colab": {
          "base_uri": "https://localhost:8080/"
        },
        "id": "a9ntsSRgzfbz",
        "outputId": "552f3fc9-9aae-4ae1-bd72-54b05f3c9173"
      },
      "outputs": [
        {
          "output_type": "stream",
          "name": "stdout",
          "text": [
            "/content/drive/My Drive/Colab Notebooks/RLHF_final\n",
            " best_model_cross_attention.pth   extract_features.py\n",
            " best_model_final.h5\t\t 'extract_features.py adlı dosyanın kopyası'\n",
            " best_model.h5\t\t\t  load_data.py\n",
            " best_model_seperated_nn.h5\t  __pycache__\n",
            " data\n"
          ]
        }
      ],
      "source": [
        "FOLDERNAME = 'Colab Notebooks/RLHF_final'\n",
        "%cd /content/drive/My\\ Drive/$FOLDERNAME/\n",
        "!ls"
      ]
    },
    {
      "cell_type": "code",
      "source": [
        "!python extract_features.py --add_augment"
      ],
      "metadata": {
        "colab": {
          "base_uri": "https://localhost:8080/"
        },
        "id": "gbHlJs-W1KCE",
        "outputId": "bac3244b-e25c-4b01-9b79-7c9b68a68589"
      },
      "execution_count": null,
      "outputs": [
        {
          "output_type": "stream",
          "name": "stdout",
          "text": [
            "Namespace(add_augment=True, batch_size=32)\n",
            "Extracting 270 degree rotated images for im1...\n",
            "/usr/local/lib/python3.10/dist-packages/torchvision/models/_utils.py:208: UserWarning: The parameter 'pretrained' is deprecated since 0.13 and may be removed in the future, please use 'weights' instead.\n",
            "  warnings.warn(\n",
            "/usr/local/lib/python3.10/dist-packages/torchvision/models/_utils.py:223: UserWarning: Arguments other than a weight enum or `None` for 'weights' are deprecated since 0.13 and may be removed in the future. The current behavior is equivalent to passing `weights=ResNet101_Weights.IMAGENET1K_V1`. You can also use `weights=ResNet101_Weights.DEFAULT` to get the most up-to-date weights.\n",
            "  warnings.warn(msg)\n",
            "Downloading: \"https://download.pytorch.org/models/resnet101-63fe2227.pth\" to /root/.cache/torch/hub/checkpoints/resnet101-63fe2227.pth\n",
            "100% 171M/171M [00:01<00:00, 154MB/s]\n",
            "Extracting features: 100% 66/66 [00:10<00:00,  6.17it/s]\n",
            "im1_270_degree shape: (2084, 2048, 1, 1)\n",
            "Extracting 270 degree rotated images for im2...\n",
            "Extracting features: 100% 66/66 [00:09<00:00,  6.62it/s]\n",
            "im2_270_degree shape: (2084, 2048, 1, 1)\n"
          ]
        }
      ]
    },
    {
      "cell_type": "code",
      "execution_count": null,
      "metadata": {
        "id": "ajKyHgeQcjCF",
        "colab": {
          "base_uri": "https://localhost:8080/"
        },
        "outputId": "e674a0b1-20ab-49e7-ab85-af5784fdcf4a"
      },
      "outputs": [
        {
          "output_type": "stream",
          "name": "stdout",
          "text": [
            "/content/drive/My Drive/Colab Notebooks/RLHF_final\n"
          ]
        },
        {
          "output_type": "execute_result",
          "data": {
            "text/plain": [
              "[{'filename': '03573_0',\n",
              "  'sentence1': 'A building has been constructed on the empty area at the edge of the scene ',\n",
              "  'sentence2': 'The roof of the buildings at the edge of the scene has turned from blue to gray ',\n",
              "  'sentence3': 'the roof of the buildings at the edge of the scene has turned from blue to gray ',\n",
              "  'slider1': -5,\n",
              "  'slider2': -2,\n",
              "  'slider3': -2},\n",
              " {'filename': '03573_1',\n",
              "  'sentence1': 'A building has been constructed on the green area at the edge of the scene ',\n",
              "  'sentence2': 'The blue building at the edge of the scene has turned blue ',\n",
              "  'sentence3': 'The green area at the edge of the scene has turned blue ',\n",
              "  'slider1': 4,\n",
              "  'slider2': -5,\n",
              "  'slider3': 1},\n",
              " {'filename': '03573_2',\n",
              "  'sentence1': 'many trees appear on the bareland at the corner of the scene ',\n",
              "  'sentence2': 'the bareland appears on the edge of the scene ',\n",
              "  'sentence3': 'bareland appears on the buildings at the corner of the scene ',\n",
              "  'slider1': -5,\n",
              "  'slider2': -4,\n",
              "  'slider3': -5},\n",
              " {'filename': '03573_3',\n",
              "  'sentence1': 'two buildings have been constructed on the bareland in the middle of the scene ',\n",
              "  'sentence2': 'a huge building has been constructed on the green area at the corner of the scene ',\n",
              "  'sentence3': 'two buildings have been constructed on the green area in the middle ',\n",
              "  'slider1': 4,\n",
              "  'slider2': 2,\n",
              "  'slider3': 3}]"
            ]
          },
          "metadata": {},
          "execution_count": 4
        }
      ],
      "source": [
        "%cd /content/drive/My\\ Drive/$FOLDERNAME/\n",
        "from load_data import load_json_data\n",
        "\n",
        "# Load data\n",
        "data = load_json_data(\"data/result.json\", 1000, 1519)\n",
        "data[-1]"
      ]
    },
    {
      "cell_type": "code",
      "execution_count": null,
      "metadata": {
        "colab": {
          "base_uri": "https://localhost:8080/"
        },
        "id": "4pTl9I8nFnDp",
        "outputId": "c0868751-c361-4063-c362-34b6b4a820e3"
      },
      "outputs": [
        {
          "output_type": "execute_result",
          "data": {
            "text/plain": [
              "((2084, 2048), (2084, 2048))"
            ]
          },
          "metadata": {},
          "execution_count": 5
        }
      ],
      "source": [
        "import numpy as np\n",
        "\n",
        "features_im1 = np.load(f\"data/features/im1.npy\")\n",
        "features_im1 = features_im1.reshape((2084, 2048))\n",
        "\n",
        "features_im2 = np.load(f\"data/features/im2.npy\")\n",
        "features_im2 = features_im2.reshape((2084, 2048))\n",
        "\n",
        "features_im1.shape, features_im2.shape"
      ]
    },
    {
      "cell_type": "markdown",
      "metadata": {
        "id": "wj9WF5w4FoGk"
      },
      "source": [
        "#### Encoding The Sentences With BERT model"
      ]
    },
    {
      "cell_type": "code",
      "execution_count": null,
      "metadata": {
        "colab": {
          "base_uri": "https://localhost:8080/"
        },
        "id": "-NJEdv1wFv0q",
        "outputId": "8ce28c71-e36c-4509-adc8-60d147ce5480"
      },
      "outputs": [
        {
          "output_type": "stream",
          "name": "stdout",
          "text": [
            "(6252, 768)\n",
            "Sentence embeddings loaded from file\n"
          ]
        }
      ],
      "source": [
        "import numpy as np\n",
        "import torch\n",
        "import tqdm\n",
        "from transformers import BertTokenizer, BertModel\n",
        "import os\n",
        "\n",
        "if os.path.exists(\"data/features/sentence_embeddings.npy\"):\n",
        "    sentence_embeddings = np.load(\"data/features/sentence_embeddings.npy\")\n",
        "    #sentence_embeddings = np.concatenate((sentence_embeddings, sentence_embeddings, sentence_embeddings, sentence_embeddings), axis=0)\n",
        "    print(sentence_embeddings.shape)\n",
        "    print(\"Sentence embeddings loaded from file\")\n",
        "else:\n",
        "\n",
        "  def bert_encode(sentences, bert_model, tokenizer, device, batch_size=32):\n",
        "      bert_model.to(device)\n",
        "      bert_model.eval()  # Modeli değerlendirme modunda çalıştır\n",
        "\n",
        "      # Tüm cümleleri batch'ler halinde işle\n",
        "      all_sentence_embeddings = []\n",
        "      for i in tqdm.tqdm(range(0, len(sentences), batch_size), desc=\"BERT Encoding\"):\n",
        "          batch_sentences = sentences[i:i+batch_size]\n",
        "          encoded = tokenizer.batch_encode_plus(\n",
        "              batch_sentences,\n",
        "              add_special_tokens=True,\n",
        "              max_length=512,\n",
        "              padding='max_length',\n",
        "              truncation=True,\n",
        "              return_attention_mask=True,\n",
        "              return_tensors='pt'\n",
        "          )\n",
        "\n",
        "          input_ids = encoded['input_ids'].to(device)\n",
        "          attention_mask = encoded['attention_mask'].to(device)\n",
        "\n",
        "          with torch.no_grad():\n",
        "              outputs = bert_model(input_ids, attention_mask=attention_mask)\n",
        "              sentence_embeddings = outputs[0][:, 0, :]  # [CLS] token'ın çıktısını al\n",
        "              all_sentence_embeddings.extend(sentence_embeddings.cpu().numpy())\n",
        "\n",
        "      return np.array(all_sentence_embeddings)\n",
        "\n",
        "  def collect_all_sentences(data):\n",
        "      all_sentences = []\n",
        "      sentence_lengths = []\n",
        "      for data_point in data:\n",
        "          for data_point_caption in data_point:\n",
        "              for i in range(1, 4):\n",
        "                  all_sentences.append(data_point_caption[\"sentence\" + str(i)])\n",
        "      return all_sentences\n",
        "\n",
        "\n",
        "  # Load BERT model\n",
        "  bert_model = BertModel.from_pretrained('bert-base-uncased')\n",
        "  tokenizer = BertTokenizer.from_pretrained('bert-base-uncased')\n",
        "  device = torch.device(\"cuda\" if torch.cuda.is_available() else \"cpu\")\n",
        "\n",
        "  # Collect all sentences\n",
        "  all_sentences = collect_all_sentences(data)\n",
        "\n",
        "  # Encode sentences\n",
        "  sentence_embeddings = bert_encode(all_sentences, bert_model, tokenizer, device, batch_size=128)\n",
        "\n",
        "  #free gpu memory\n",
        "  if torch.cuda.is_available():\n",
        "      torch.cuda.empty_cache()\n",
        "\n",
        "  import os\n",
        "  if not os.path.exists(\"data/features\"):\n",
        "      os.makedirs(\"data/features\")\n",
        "  np.save(\"data/features/sentence_embeddings.npy\", sentence_embeddings)\n",
        "\n",
        "\n",
        "  sentence_embeddings.shape"
      ]
    },
    {
      "cell_type": "markdown",
      "source": [
        "#### Encoding The Sentences With GPT2"
      ],
      "metadata": {
        "id": "ASP9MWOJAYTN"
      }
    },
    {
      "cell_type": "code",
      "source": [
        "import numpy as np\n",
        "import torch\n",
        "import tqdm\n",
        "from transformers import GPT2Tokenizer, GPT2Model\n",
        "import os\n",
        "\n",
        "if os.path.exists(\"data/features/sentence_embeddings.npy\"):\n",
        "    sentence_embeddings = np.load(\"data/features/sentence_embeddings.npy\")\n",
        "    print(\"Sentence embeddings loaded from file\")\n",
        "else:\n",
        "    def gpt2_encode(sentences, gpt2_model, tokenizer, device, batch_size=32):\n",
        "        gpt2_model.to(device)\n",
        "        gpt2_model.eval()\n",
        "        tokenizer.pad_token = tokenizer.eos_token\n",
        "        # Process all sentences in batches\n",
        "        all_sentence_embeddings = []\n",
        "        for i in tqdm.tqdm(range(0, len(sentences), batch_size), desc=\"GPT-2 Encoding\"):\n",
        "            batch_sentences = sentences[i:i + batch_size]\n",
        "            encoded = tokenizer.batch_encode_plus(\n",
        "                batch_sentences,\n",
        "                add_special_tokens=True,\n",
        "                max_length=512,\n",
        "                padding='max_length',\n",
        "                truncation=True,\n",
        "                return_attention_mask=True,\n",
        "                return_tensors='pt'\n",
        "            )\n",
        "\n",
        "            input_ids = encoded['input_ids'].to(device)\n",
        "            attention_mask = encoded['attention_mask'].to(device)\n",
        "\n",
        "            with torch.no_grad():\n",
        "                outputs = gpt2_model(input_ids, attention_mask=attention_mask)\n",
        "                # We take the last hidden states of the model\n",
        "                sentence_embeddings = outputs.last_hidden_state.mean(dim=1)\n",
        "                all_sentence_embeddings.extend(sentence_embeddings.cpu().numpy())\n",
        "\n",
        "        return np.array(all_sentence_embeddings)\n",
        "\n",
        "    def collect_all_sentences(data):\n",
        "      all_sentences = []\n",
        "      sentence_lengths = []\n",
        "      for data_point in data:\n",
        "          for data_point_caption in data_point:\n",
        "              for i in range(1, 4):\n",
        "                  all_sentences.append(data_point_caption[\"sentence\" + str(i)])\n",
        "      return all_sentences\n",
        "\n",
        "    # Load GPT-2 model\n",
        "    gpt2_model = GPT2Model.from_pretrained('gpt2')\n",
        "    tokenizer = GPT2Tokenizer.from_pretrained('gpt2')\n",
        "    device = torch.device(\"cuda\" if torch.cuda.is_available() else \"cpu\")\n",
        "\n",
        "    # Assuming 'collect_all_sentences' and 'data' are defined as in your BERT example\n",
        "    all_sentences = collect_all_sentences(data)\n",
        "\n",
        "    # Encode sentences\n",
        "    sentence_embeddings = gpt2_encode(all_sentences, gpt2_model, tokenizer, device, batch_size=32)\n",
        "\n",
        "    # Free GPU memory\n",
        "    if torch.cuda.is_available():\n",
        "        torch.cuda.empty_cache()\n",
        "\n",
        "    # Save embeddings\n",
        "    if not os.path.exists(\"data/features\"):\n",
        "        os.makedirs(\"data/features\")\n",
        "    np.save(\"data/features/sentence_embeddings.npy\", sentence_embeddings)\n",
        "\n",
        "    sentence_embeddings.shape"
      ],
      "metadata": {
        "id": "AVODxSacAc_v"
      },
      "execution_count": null,
      "outputs": []
    },
    {
      "cell_type": "markdown",
      "source": [
        "#### Encoding the sentences with RoBERTa"
      ],
      "metadata": {
        "id": "s376b5xfBOMa"
      }
    },
    {
      "cell_type": "code",
      "source": [
        "import numpy as np\n",
        "import torch\n",
        "import tqdm\n",
        "from transformers import RobertaModel, RobertaTokenizer\n",
        "import os\n",
        "\n",
        "if os.path.exists(\"data/features/sentence_embeddings.npy\"):\n",
        "    sentence_embeddings = np.load(\"data/features/sentence_embeddings.npy\")\n",
        "    print(\"Sentence embeddings loaded from file\")\n",
        "else:\n",
        "    def roberta_encode(sentences, model, tokenizer, device, batch_size=32):\n",
        "        model.to(device)\n",
        "        model.eval()\n",
        "\n",
        "        # Process all sentences in batches\n",
        "        all_sentence_embeddings = []\n",
        "        for i in tqdm.tqdm(range(0, len(sentences), batch_size), desc=\"RoBERTa Encoding\"):\n",
        "            batch_sentences = sentences[i:i + batch_size]\n",
        "            encoded = tokenizer.batch_encode_plus(\n",
        "                batch_sentences,\n",
        "                add_special_tokens=True,\n",
        "                max_length=512,\n",
        "                padding='max_length',\n",
        "                truncation=True,\n",
        "                return_attention_mask=True,\n",
        "                return_tensors='pt'\n",
        "            )\n",
        "\n",
        "            input_ids = encoded['input_ids'].to(device)\n",
        "            attention_mask = encoded['attention_mask'].to(device)\n",
        "\n",
        "            with torch.no_grad():\n",
        "                outputs = model(input_ids, attention_mask=attention_mask)\n",
        "                # We take the last hidden states of the model\n",
        "                sentence_embeddings = outputs.last_hidden_state.mean(dim=1)\n",
        "                all_sentence_embeddings.extend(sentence_embeddings.cpu().numpy())\n",
        "\n",
        "        return np.array(all_sentence_embeddings)\n",
        "\n",
        "    def collect_all_sentences(data):\n",
        "      all_sentences = []\n",
        "      sentence_lengths = []\n",
        "      for data_point in data:\n",
        "          for data_point_caption in data_point:\n",
        "              for i in range(1, 4):\n",
        "                  all_sentences.append(data_point_caption[\"sentence\" + str(i)])\n",
        "      return all_sentences\n",
        "\n",
        "    roberta_model  = RobertaModel.from_pretrained('roberta-base')\n",
        "    tokenizer = RobertaTokenizer.from_pretrained('roberta-base')\n",
        "    device = torch.device(\"cuda\" if torch.cuda.is_available() else \"cpu\")\n",
        "\n",
        "    all_sentences = collect_all_sentences(data)\n",
        "\n",
        "    # Encode sentences\n",
        "    sentence_embeddings = roberta_encode(all_sentences, roberta_model, tokenizer, device, batch_size=32)\n",
        "\n",
        "    # Free GPU memory\n",
        "    if torch.cuda.is_available():\n",
        "        torch.cuda.empty_cache()\n",
        "\n",
        "    # Save embeddings\n",
        "    if not os.path.exists(\"data/features\"):\n",
        "        os.makedirs(\"data/features\")\n",
        "    np.save(\"data/features/sentence_embeddings.npy\", sentence_embeddings)\n",
        "\n",
        "    sentence_embeddings.shape"
      ],
      "metadata": {
        "id": "fc4KG7W-BSZV"
      },
      "execution_count": null,
      "outputs": []
    },
    {
      "cell_type": "code",
      "source": [
        "!pip install sentencepiece"
      ],
      "metadata": {
        "id": "h9ngWp6nQYDQ"
      },
      "execution_count": null,
      "outputs": []
    },
    {
      "cell_type": "markdown",
      "source": [
        "#### Encoding the sentences with XLNet NLP Model"
      ],
      "metadata": {
        "id": "RxTrnCdZO6UD"
      }
    },
    {
      "cell_type": "code",
      "source": [
        "import numpy as np\n",
        "import torch\n",
        "import tqdm\n",
        "from transformers import XLNetTokenizer, XLNetModel\n",
        "import os\n",
        "\n",
        "if os.path.exists(\"data/features/sentence_embeddings.npy\"):\n",
        "    sentence_embeddings = np.load(\"data/features/sentence_embeddings.npy\")\n",
        "    print(\"Sentence embeddings loaded from file\")\n",
        "else:\n",
        "    def xlnet_encode(sentences, model, tokenizer, device, batch_size=32):\n",
        "        model.to(device)\n",
        "        model.eval()\n",
        "\n",
        "        # Process all sentences in batches\n",
        "        all_sentence_embeddings = []\n",
        "        for i in tqdm.tqdm(range(0, len(sentences), batch_size), desc=\"RoBERTa Encoding\"):\n",
        "            batch_sentences = sentences[i:i + batch_size]\n",
        "            encoded = tokenizer.batch_encode_plus(\n",
        "                batch_sentences,\n",
        "                add_special_tokens=True,\n",
        "                max_length=512,\n",
        "                padding='max_length',\n",
        "                truncation=True,\n",
        "                return_attention_mask=True,\n",
        "                return_tensors='pt'\n",
        "            )\n",
        "\n",
        "            input_ids = encoded['input_ids'].to(device)\n",
        "            attention_mask = encoded['attention_mask'].to(device)\n",
        "\n",
        "            with torch.no_grad():\n",
        "                outputs = model(input_ids, attention_mask=attention_mask)\n",
        "                # We take the last hidden states of the model\n",
        "                sentence_embeddings = outputs.last_hidden_state.mean(dim=1)\n",
        "                all_sentence_embeddings.extend(sentence_embeddings.cpu().numpy())\n",
        "\n",
        "        return np.array(all_sentence_embeddings)\n",
        "\n",
        "    def collect_all_sentences(data):\n",
        "      all_sentences = []\n",
        "      sentence_lengths = []\n",
        "      for data_point in data:\n",
        "          for data_point_caption in data_point:\n",
        "              for i in range(1, 4):\n",
        "                  all_sentences.append(data_point_caption[\"sentence\" + str(i)])\n",
        "      return all_sentences\n",
        "\n",
        "    xlnet_model = XLNetModel.from_pretrained('xlnet-base-cased')\n",
        "    tokenizer = XLNetTokenizer.from_pretrained('xlnet-base-cased')\n",
        "    device = torch.device(\"cuda\" if torch.cuda.is_available() else \"cpu\")\n",
        "\n",
        "    all_sentences = collect_all_sentences(data)\n",
        "\n",
        "    # Encode sentences\n",
        "    sentence_embeddings = xlnet_encode(all_sentences, xlnet_model, tokenizer, device, batch_size=32)\n",
        "\n",
        "    # Free GPU memory\n",
        "    if torch.cuda.is_available():\n",
        "        torch.cuda.empty_cache()\n",
        "\n",
        "    # Save embeddings\n",
        "    if not os.path.exists(\"data/features\"):\n",
        "        os.makedirs(\"data/features\")\n",
        "    np.save(\"data/features/sentence_embeddings.npy\", sentence_embeddings)\n",
        "\n",
        "    sentence_embeddings.shape"
      ],
      "metadata": {
        "id": "eXE_a-VrO_0N"
      },
      "execution_count": null,
      "outputs": []
    },
    {
      "cell_type": "markdown",
      "metadata": {
        "id": "DEtlcOc40e_t"
      },
      "source": [
        "#### Prepare Training Data"
      ]
    },
    {
      "cell_type": "code",
      "execution_count": null,
      "metadata": {
        "colab": {
          "base_uri": "https://localhost:8080/"
        },
        "id": "Smhpf1020g0A",
        "outputId": "ede39947-87ea-44d2-f803-dce5b4b1e557"
      },
      "outputs": [
        {
          "output_type": "execute_result",
          "data": {
            "text/plain": [
              "(6252,)"
            ]
          },
          "metadata": {},
          "execution_count": 7
        }
      ],
      "source": [
        "combined_features = []\n",
        "combined_labels = []\n",
        "slider_values = []\n",
        "\n",
        "for data_point in data:\n",
        "    for i in range(0, 4):\n",
        "        for j in range(1, 4):\n",
        "            slider_values.append(data_point[i][\"slider\" + str(j)])\n",
        "\n",
        "slider_values = np.array(slider_values)\n",
        "#slider_values = np.concatenate((slider_values, slider_values, slider_values, slider_values), axis=0)\n",
        "slider_values.shape"
      ]
    },
    {
      "cell_type": "markdown",
      "source": [
        "#### Categorize the data between 0 and 2\n",
        "* If you want to reduce prediction range then run given below cell"
      ],
      "metadata": {
        "id": "RdBcrFdR0pEI"
      }
    },
    {
      "cell_type": "code",
      "source": [
        "def categorize_labels(value):\n",
        "    if value <= -2:\n",
        "        return 0\n",
        "    elif value >= 2:\n",
        "        return 2\n",
        "    else:\n",
        "        return 1\n",
        "\n",
        "slider_values = np.array([categorize_labels(value) for value in slider_values])\n",
        "slider_values[0]"
      ],
      "metadata": {
        "id": "jj8kRyey02xv",
        "colab": {
          "base_uri": "https://localhost:8080/"
        },
        "outputId": "2b0b4496-0572-414b-96a9-497f2ec0d75c"
      },
      "execution_count": null,
      "outputs": [
        {
          "output_type": "execute_result",
          "data": {
            "text/plain": [
              "2"
            ]
          },
          "metadata": {},
          "execution_count": 6
        }
      ]
    },
    {
      "cell_type": "markdown",
      "source": [
        "#### Categorize the data for binary classification\n",
        "* If you want to categorize the data with binary classification then run the below cell"
      ],
      "metadata": {
        "id": "5RmdrdMaVgJ1"
      }
    },
    {
      "cell_type": "code",
      "source": [
        "def categorize_labels(value):\n",
        "    if value < 0:\n",
        "        return 0\n",
        "    else:\n",
        "        return 1\n",
        "\n",
        "slider_values = np.array([categorize_labels(value) for value in slider_values])\n",
        "slider_values[0]"
      ],
      "metadata": {
        "colab": {
          "base_uri": "https://localhost:8080/"
        },
        "id": "L2dtXENHVlg6",
        "outputId": "9fb9c2e9-9d01-4482-dd52-9e6f6a1d9f5c"
      },
      "execution_count": null,
      "outputs": [
        {
          "output_type": "execute_result",
          "data": {
            "text/plain": [
              "1"
            ]
          },
          "metadata": {},
          "execution_count": 8
        }
      ]
    },
    {
      "cell_type": "markdown",
      "source": [
        "### Section 1\n",
        "#### If you want to create neural network using combined data then run below cell\n",
        "* If you want to create it seperately, then go to section 2"
      ],
      "metadata": {
        "id": "oZU12P8SjaLN"
      }
    },
    {
      "cell_type": "code",
      "execution_count": null,
      "metadata": {
        "colab": {
          "base_uri": "https://localhost:8080/"
        },
        "id": "8VjcBCWwQ5Bh",
        "outputId": "b3fe4b9f-b252-441d-9be5-6aeff611d41b"
      },
      "outputs": [
        {
          "output_type": "stream",
          "name": "stdout",
          "text": [
            "shape is :  6252\n",
            "indices:  [   0    1    2 ... 6249 6250 6251]\n",
            "Indices of X_train: [3547  238   92 ... 5226 5390  860]\n",
            "Shape of X_train: (4376, 4864)\n"
          ]
        }
      ],
      "source": [
        "import numpy as np\n",
        "from sklearn.model_selection import train_test_split\n",
        "import torch\n",
        "from torch.nn.functional import normalize\n",
        "\n",
        "# Assuming the following shapes\n",
        "# before_feature.shape = (2084, 2048)\n",
        "# after_feature.shape = (2084, 2048)\n",
        "# bert_encoded_sentences.shape = (6252, 768)\n",
        "# slider_values.shape = (6252,)\n",
        "\n",
        "before_features_tensor = torch.tensor(features_im1, dtype=torch.float32)\n",
        "after_features_tensor = torch.tensor(features_im2, dtype=torch.float32)\n",
        "bert_encoded_sentences_tensor = torch.tensor(sentence_embeddings, dtype=torch.float32)\n",
        "\n",
        "before_features_norm = normalize(before_features_tensor, p = 2, dim = 1)\n",
        "after_features_norm = normalize(after_features_tensor, p = 2, dim = 1)\n",
        "sentences_norm = normalize(bert_encoded_sentences_tensor, p=2, dim=1)\n",
        "\n",
        "before_features_repeated = before_features_norm.repeat_interleave(3, dim=0)\n",
        "after_features_repeated = after_features_norm.repeat_interleave(3, dim=0)\n",
        "\n",
        "combined_features = torch.cat([before_features_repeated, after_features_repeated, sentences_norm], dim = 1)\n",
        "\n",
        "combined_features = combined_features.numpy()\n",
        "print(\"shape is : \", combined_features.shape[0])\n",
        "indices = np.arange(combined_features.shape[0])\n",
        "print(\"indices: \", indices)\n",
        "# First, split indices into training + validation/test and then validation/test\n",
        "train_indices, testVal_indices = train_test_split(indices, test_size=0.3, random_state=42, shuffle=True)\n",
        "val_indices, test_indices = train_test_split(testVal_indices, test_size=0.66, random_state=42, shuffle=True)\n",
        "\n",
        "# Use these indices to create the datasets\n",
        "X_train = combined_features[train_indices]\n",
        "y_train = slider_values[train_indices]\n",
        "\n",
        "X_val = combined_features[val_indices]\n",
        "y_val = slider_values[val_indices]\n",
        "\n",
        "X_test = combined_features[test_indices]\n",
        "y_test = slider_values[test_indices]\n",
        "\n",
        "# Now you have the indices corresponding to each set\n",
        "print(\"Indices of X_train:\", train_indices)\n",
        "print(\"Shape of X_train:\", X_train.shape)"
      ]
    },
    {
      "cell_type": "markdown",
      "source": [
        "#### Data Augmentation\n",
        "* If you want to add data to train data set, run this below cell"
      ],
      "metadata": {
        "id": "k0fXWWUOcv0h"
      }
    },
    {
      "cell_type": "code",
      "source": [
        "import numpy as np\n",
        "from sklearn.model_selection import train_test_split\n",
        "import torch\n",
        "from torch.nn.functional import normalize\n",
        "\n",
        "features_im1_1 = np.load(f\"data/features/im1_90_degree.npy\")\n",
        "features_im1_1 = features_im1_1.reshape((2084, 2048))\n",
        "\n",
        "features_im1_2 = np.load(f\"data/features/im1_180_degree.npy\")\n",
        "features_im1_2 = features_im1_2.reshape((2084, 2048))\n",
        "\n",
        "features_im1_3 = np.load(f\"data/features/im1_270_degree.npy\")\n",
        "features_im1_3 = features_im1_3.reshape((2084, 2048))\n",
        "\n",
        "features_im2_1 = np.load(f\"data/features/im2_90_degree.npy\")\n",
        "features_im2_1 = features_im2_1.reshape((2084, 2048))\n",
        "\n",
        "features_im2_2 = np.load(f\"data/features/im2_180_degree.npy\")\n",
        "features_im2_2 = features_im2_2.reshape((2084, 2048))\n",
        "\n",
        "features_im2_3 = np.load(f\"data/features/im2_270_degree.npy\")\n",
        "features_im2_3 = features_im2_3.reshape((2084, 2048))\n",
        "\n",
        "\n",
        "sentence_embeddings = np.load(\"data/features/sentence_embeddings.npy\")\n",
        "print(\"Sentence Shape: \", sentence_embeddings.shape)\n",
        "\n",
        "augmented_slider_values = []\n",
        "\n",
        "for data_point in data:\n",
        "    for i in range(0, 4):\n",
        "        for j in range(1, 4):\n",
        "            augmented_slider_values.append(data_point[i][\"slider\" + str(j)])\n",
        "\n",
        "augmented_slider_values = np.array(augmented_slider_values)\n",
        "augmented_slider_values = np.concatenate((augmented_slider_values, augmented_slider_values, augmented_slider_values), axis=0)\n",
        "print(\"Slider Value Shape: \", augmented_slider_values.shape)\n",
        "\n",
        "def categorize_labels_binary(value):\n",
        "    if value < 0:\n",
        "        return 0\n",
        "    else:\n",
        "        return 1\n",
        "\n",
        "def categorize_labels_multiple_class(value):\n",
        "    if value <= -2:\n",
        "        return 0\n",
        "    elif value >= 2:\n",
        "        return 2\n",
        "    else:\n",
        "        return 1\n",
        "\n",
        "augmented_slider_values = np.array([categorize_labels_binary(value) for value in augmented_slider_values])\n",
        "\n",
        "\n",
        "def prepare_augmented_tensors(features_im1, features_im2, sentence_embeddings):\n",
        "    before_features_tensor = torch.tensor(features_im1, dtype=torch.float32)\n",
        "    after_features_tensor = torch.tensor(features_im2, dtype=torch.float32)\n",
        "    bert_encoded_sentences_tensor = torch.tensor(sentence_embeddings, dtype=torch.float32)\n",
        "\n",
        "    before_features_norm = normalize(before_features_tensor, p=2, dim=1)\n",
        "    after_features_norm = normalize(after_features_tensor, p=2, dim=1)\n",
        "    sentences_norm = normalize(bert_encoded_sentences_tensor, p=2, dim=1)\n",
        "\n",
        "    before_features_repeated = before_features_norm.repeat_interleave(3, dim=0)\n",
        "    after_features_repeated = after_features_norm.repeat_interleave(3, dim=0)\n",
        "    concatenated_datas = torch.cat([before_features_repeated, after_features_repeated, sentences_norm], dim = 1).numpy()\n",
        "    return concatenated_datas\n",
        "\n",
        "# Prepare augmented features\n",
        "augmented_features_90 = prepare_augmented_tensors(features_im1_1, features_im2_1, sentence_embeddings)\n",
        "augmented_features_180 = prepare_augmented_tensors(features_im1_2, features_im2_2, sentence_embeddings)\n",
        "augmented_features_270 = prepare_augmented_tensors(features_im1_3, features_im2_3, sentence_embeddings)\n",
        "\n",
        "# Augmenting only the training indices\n",
        "X_train_augmented_90 = augmented_features_90[train_indices]\n",
        "X_train_augmented_180 = augmented_features_180[train_indices]\n",
        "X_train_augmented_270 = augmented_features_270[train_indices]\n",
        "\n",
        "# Augmenting slider values (assuming augmented_slider_values is prepared correctly)\n",
        "y_train_augmented = augmented_slider_values[train_indices]\n",
        "\n",
        "# Combine augmented data with original X_train and y_train\n",
        "X_train_final = np.vstack([X_train, X_train_augmented_90, X_train_augmented_180, X_train_augmented_270])\n",
        "y_train_final = np.hstack([y_train, y_train_augmented, y_train_augmented, y_train_augmented])\n",
        "\n",
        "print(\"Final Train Shapes:\", X_train_final.shape, y_train_final.shape)"
      ],
      "metadata": {
        "colab": {
          "base_uri": "https://localhost:8080/"
        },
        "id": "RroOn8dkan-Y",
        "outputId": "35a6330a-4257-40bc-f0ec-5df08ff8bd99"
      },
      "execution_count": null,
      "outputs": [
        {
          "output_type": "stream",
          "name": "stdout",
          "text": [
            "Sentence Shape:  (6252, 768)\n",
            "Slider Value Shape:  (18756,)\n",
            "Final Train Shapes: (17504, 4864) (17504,)\n"
          ]
        }
      ]
    },
    {
      "cell_type": "markdown",
      "metadata": {
        "id": "h3ROcD3mY61r"
      },
      "source": [
        "#### Scaling The Data\n",
        "* If you've already used normalizing the data via pytorch, don't use the StandardScaler"
      ]
    },
    {
      "cell_type": "code",
      "execution_count": null,
      "metadata": {
        "id": "rCrhcb97Y6F7"
      },
      "outputs": [],
      "source": [
        "# Scale the data\n",
        "#TODO: torch normalize\n",
        "\n",
        "from sklearn.preprocessing import StandardScaler\n",
        "scaler = StandardScaler()\n",
        "scaler.fit(X_train)\n",
        "X_train = scaler.transform(X_train)\n",
        "X_test = scaler.transform(X_test)\n",
        "\n",
        "X_test[0]"
      ]
    },
    {
      "cell_type": "code",
      "source": [
        "# cover label to the categorical if necessary\n",
        "import matplotlib.pyplot as plt\n",
        "from tensorflow.keras.utils import to_categorical\n",
        "\n",
        "y_train_categorical = to_categorical(y_train_final, num_classes=3)\n",
        "y_test_categorical = to_categorical(y_test, num_classes=3)\n",
        "y_val_categorical = to_categorical(y_val)\n",
        "\n",
        "train_distr = np.sum(y_train_categorical, axis=0)\n",
        "test_distr = np.sum(y_test_categorical, axis=0)\n",
        "\n",
        "# Set the labels for the classes\n",
        "classes = ['0', '1', '2']\n",
        "\n",
        "# Plot\n",
        "fig, ax = plt.subplots(figsize=(10, 6))\n",
        "\n",
        "# Create bar positions\n",
        "bar_width = 0.35\n",
        "indices = np.arange(len(classes))\n",
        "\n",
        "# Plotting both distributions side by side\n",
        "train_bar = ax.bar(indices, train_distr, bar_width, label='Train')\n",
        "test_bar = ax.bar(indices + bar_width, test_distr, bar_width, label='Test')\n",
        "\n",
        "# Labeling\n",
        "ax.set_xlabel('Classes')\n",
        "ax.set_ylabel('Frequency')\n",
        "ax.set_title('Distribution of One-Hot Encoded Labels')\n",
        "ax.set_xticks(indices + bar_width / 2)\n",
        "ax.set_xticklabels(classes)\n",
        "ax.legend()\n",
        "\n",
        "# Display\n",
        "plt.show()"
      ],
      "metadata": {
        "id": "BkJGSVvRT0wH",
        "colab": {
          "base_uri": "https://localhost:8080/",
          "height": 564
        },
        "outputId": "f0e834f0-84cb-4729-eab4-2c0b706bdf1a"
      },
      "execution_count": null,
      "outputs": [
        {
          "output_type": "display_data",
          "data": {
            "text/plain": [
              "<Figure size 1000x600 with 1 Axes>"
            ],
            "image/png": "[encoded data removed]"
          },
          "metadata": {}
        }
      ]
    },
    {
      "cell_type": "markdown",
      "source": [
        "#### Oversampling the minority classes"
      ],
      "metadata": {
        "id": "OAjgNPlB_W3J"
      }
    },
    {
      "cell_type": "code",
      "source": [
        "from imblearn.over_sampling import SMOTE\n",
        "from sklearn.preprocessing import LabelEncoder\n",
        "import tensorflow as tf\n",
        "\n",
        "# If y_train is one-hot encoded, convert it to single labels\n",
        "# Assumes y_train_categorical is an array of one-hot encoded labels\n",
        "y_train_labels = np.argmax(y_train_categorical, axis=1)\n",
        "\n",
        "# Initialize SMOTE\n",
        "smote = SMOTE()\n",
        "\n",
        "# Fit SMOTE\n",
        "X_train_smote, y_train_smote = smote.fit_resample(X_train, y_train_labels)\n",
        "\n",
        "y_train_smote_categorical = tf.keras.utils.to_categorical(y_train_smote, num_classes=3)\n",
        "\n",
        "y_train_smote_categorical.shape"
      ],
      "metadata": {
        "id": "ykYtT2wZ_aan"
      },
      "execution_count": null,
      "outputs": []
    },
    {
      "cell_type": "markdown",
      "metadata": {
        "id": "ComFEWp1i1ul"
      },
      "source": [
        "#### Train The Model"
      ]
    },
    {
      "cell_type": "code",
      "execution_count": null,
      "metadata": {
        "id": "NW6yAwhp-djM",
        "colab": {
          "base_uri": "https://localhost:8080/"
        },
        "outputId": "d0c74c6f-f4b5-4a15-808e-03f4147f5d12"
      },
      "outputs": [
        {
          "output_type": "stream",
          "name": "stdout",
          "text": [
            "Model: \"sequential\"\n",
            "_________________________________________________________________\n",
            " Layer (type)                Output Shape              Param #   \n",
            "=================================================================\n",
            " dense (Dense)               (None, 2048)              9963520   \n",
            "                                                                 \n",
            " batch_normalization (Batch  (None, 2048)              8192      \n",
            " Normalization)                                                  \n",
            "                                                                 \n",
            " activation (Activation)     (None, 2048)              0         \n",
            "                                                                 \n",
            " dropout (Dropout)           (None, 2048)              0         \n",
            "                                                                 \n",
            " dense_1 (Dense)             (None, 1024)              2098176   \n",
            "                                                                 \n",
            " batch_normalization_1 (Bat  (None, 1024)              4096      \n",
            " chNormalization)                                                \n",
            "                                                                 \n",
            " activation_1 (Activation)   (None, 1024)              0         \n",
            "                                                                 \n",
            " dropout_1 (Dropout)         (None, 1024)              0         \n",
            "                                                                 \n",
            " dense_2 (Dense)             (None, 512)               524800    \n",
            "                                                                 \n",
            " batch_normalization_2 (Bat  (None, 512)               2048      \n",
            " chNormalization)                                                \n",
            "                                                                 \n",
            " activation_2 (Activation)   (None, 512)               0         \n",
            "                                                                 \n",
            " dropout_2 (Dropout)         (None, 512)               0         \n",
            "                                                                 \n",
            " dense_3 (Dense)             (None, 256)               131328    \n",
            "                                                                 \n",
            " batch_normalization_3 (Bat  (None, 256)               1024      \n",
            " chNormalization)                                                \n",
            "                                                                 \n",
            " activation_3 (Activation)   (None, 256)               0         \n",
            "                                                                 \n",
            " dropout_3 (Dropout)         (None, 256)               0         \n",
            "                                                                 \n",
            " dense_4 (Dense)             (None, 1)                 257       \n",
            "                                                                 \n",
            "=================================================================\n",
            "Total params: 12733441 (48.57 MB)\n",
            "Trainable params: 12725761 (48.54 MB)\n",
            "Non-trainable params: 7680 (30.00 KB)\n",
            "_________________________________________________________________\n",
            "Epoch 1/500\n",
            "136/137 [============================>.] - ETA: 0s - loss: 5.9245 - accuracy: 0.5449"
          ]
        },
        {
          "output_type": "stream",
          "name": "stderr",
          "text": [
            "/usr/local/lib/python3.10/dist-packages/keras/src/engine/training.py:3103: UserWarning: You are saving your model as an HDF5 file via `model.save()`. This file format is considered legacy. We recommend using instead the native Keras format, e.g. `model.save('my_model.keras')`.\n",
            "  saving_api.save_model(\n"
          ]
        },
        {
          "output_type": "stream",
          "name": "stdout",
          "text": [
            "\b\b\b\b\b\b\b\b\b\b\b\b\b\b\b\b\b\b\b\b\b\b\b\b\b\b\b\b\b\b\b\b\b\b\b\b\b\b\b\b\b\b\b\b\b\b\b\b\b\b\b\b\b\b\b\b\b\b\b\b\b\b\b\b\b\b\b\b\b\b\b\b\b\b\b\b\b\b\b\b\b\b\b\b\r137/137 [==============================] - 21s 56ms/step - loss: 5.9238 - accuracy: 0.5448 - val_loss: 5.7836 - val_accuracy: 0.4349 - lr: 1.0000e-04\n",
            "Epoch 2/500\n",
            "137/137 [==============================] - 3s 24ms/step - loss: 5.6315 - accuracy: 0.6302 - val_loss: 5.5690 - val_accuracy: 0.4615 - lr: 1.0000e-04\n",
            "Epoch 3/500\n",
            "137/137 [==============================] - 3s 20ms/step - loss: 5.3594 - accuracy: 0.6884 - val_loss: 5.3444 - val_accuracy: 0.5557 - lr: 1.0000e-04\n",
            "Epoch 4/500\n",
            "137/137 [==============================] - 3s 18ms/step - loss: 5.0951 - accuracy: 0.7383 - val_loss: 5.1016 - val_accuracy: 0.6358 - lr: 1.0000e-04\n",
            "Epoch 5/500\n",
            "137/137 [==============================] - 3s 19ms/step - loss: 4.8335 - accuracy: 0.7800 - val_loss: 4.8696 - val_accuracy: 0.7017 - lr: 1.0000e-04\n",
            "Epoch 6/500\n",
            "137/137 [==============================] - 3s 19ms/step - loss: 4.5823 - accuracy: 0.8175 - val_loss: 4.7679 - val_accuracy: 0.6845 - lr: 1.0000e-04\n",
            "Epoch 7/500\n",
            "137/137 [==============================] - 3s 25ms/step - loss: 4.3435 - accuracy: 0.8483 - val_loss: 4.6048 - val_accuracy: 0.7127 - lr: 1.0000e-04\n",
            "Epoch 8/500\n",
            "137/137 [==============================] - 3s 23ms/step - loss: 4.1262 - accuracy: 0.8643 - val_loss: 4.4436 - val_accuracy: 0.7190 - lr: 1.0000e-04\n",
            "Epoch 9/500\n",
            "137/137 [==============================] - 2s 13ms/step - loss: 3.9096 - accuracy: 0.8869 - val_loss: 4.4489 - val_accuracy: 0.7002 - lr: 1.0000e-04\n",
            "Epoch 10/500\n",
            "137/137 [==============================] - 2s 18ms/step - loss: 3.7233 - accuracy: 0.8959 - val_loss: 4.1753 - val_accuracy: 0.7174 - lr: 1.0000e-04\n",
            "Epoch 11/500\n",
            "137/137 [==============================] - 2s 18ms/step - loss: 3.5340 - accuracy: 0.9074 - val_loss: 4.0880 - val_accuracy: 0.7284 - lr: 1.0000e-04\n",
            "Epoch 12/500\n",
            "137/137 [==============================] - 5s 33ms/step - loss: 3.3464 - accuracy: 0.9214 - val_loss: 3.9944 - val_accuracy: 0.7300 - lr: 1.0000e-04\n",
            "Epoch 13/500\n",
            "137/137 [==============================] - 3s 22ms/step - loss: 3.1787 - accuracy: 0.9258 - val_loss: 3.9096 - val_accuracy: 0.7159 - lr: 1.0000e-04\n",
            "Epoch 14/500\n",
            "137/137 [==============================] - 3s 23ms/step - loss: 3.0162 - accuracy: 0.9309 - val_loss: 3.7956 - val_accuracy: 0.7221 - lr: 1.0000e-04\n",
            "Epoch 15/500\n",
            "137/137 [==============================] - 2s 18ms/step - loss: 2.8576 - accuracy: 0.9376 - val_loss: 3.6557 - val_accuracy: 0.7206 - lr: 1.0000e-04\n",
            "Epoch 16/500\n",
            "137/137 [==============================] - 2s 18ms/step - loss: 2.7043 - accuracy: 0.9428 - val_loss: 3.5898 - val_accuracy: 0.7206 - lr: 1.0000e-04\n",
            "Epoch 17/500\n",
            "137/137 [==============================] - 2s 15ms/step - loss: 2.5641 - accuracy: 0.9475 - val_loss: 3.6406 - val_accuracy: 0.6735 - lr: 1.0000e-04\n",
            "Epoch 18/500\n",
            "137/137 [==============================] - 3s 25ms/step - loss: 2.4261 - accuracy: 0.9512 - val_loss: 3.4381 - val_accuracy: 0.6970 - lr: 1.0000e-04\n",
            "Epoch 19/500\n",
            "137/137 [==============================] - 3s 21ms/step - loss: 2.2986 - accuracy: 0.9528 - val_loss: 3.2061 - val_accuracy: 0.7159 - lr: 1.0000e-04\n",
            "Epoch 20/500\n",
            "137/137 [==============================] - 2s 13ms/step - loss: 2.1742 - accuracy: 0.9552 - val_loss: 3.2322 - val_accuracy: 0.7064 - lr: 1.0000e-04\n",
            "Epoch 21/500\n",
            "137/137 [==============================] - 2s 18ms/step - loss: 2.0566 - accuracy: 0.9548 - val_loss: 3.1284 - val_accuracy: 0.7064 - lr: 1.0000e-04\n",
            "Epoch 22/500\n",
            "137/137 [==============================] - 2s 18ms/step - loss: 1.9440 - accuracy: 0.9600 - val_loss: 2.9906 - val_accuracy: 0.7096 - lr: 1.0000e-04\n",
            "Epoch 23/500\n",
            "137/137 [==============================] - 4s 29ms/step - loss: 1.8491 - accuracy: 0.9553 - val_loss: 2.9260 - val_accuracy: 0.7049 - lr: 1.0000e-04\n",
            "Epoch 24/500\n",
            "137/137 [==============================] - 2s 17ms/step - loss: 1.7411 - accuracy: 0.9606 - val_loss: 3.0658 - val_accuracy: 0.6593 - lr: 1.0000e-04\n",
            "Epoch 25/500\n",
            "137/137 [==============================] - 2s 18ms/step - loss: 1.6452 - accuracy: 0.9634 - val_loss: 2.7747 - val_accuracy: 0.7253 - lr: 1.0000e-04\n",
            "Epoch 26/500\n",
            "137/137 [==============================] - 2s 18ms/step - loss: 1.5554 - accuracy: 0.9636 - val_loss: 2.7398 - val_accuracy: 0.7284 - lr: 1.0000e-04\n",
            "Epoch 27/500\n",
            "137/137 [==============================] - 3s 19ms/step - loss: 1.4666 - accuracy: 0.9661 - val_loss: 2.7483 - val_accuracy: 0.7017 - lr: 1.0000e-04\n",
            "Epoch 28/500\n",
            "137/137 [==============================] - 3s 19ms/step - loss: 1.3856 - accuracy: 0.9678 - val_loss: 2.7203 - val_accuracy: 0.7174 - lr: 1.0000e-04\n",
            "Epoch 29/500\n",
            "137/137 [==============================] - 3s 23ms/step - loss: 1.3227 - accuracy: 0.9638 - val_loss: 2.5756 - val_accuracy: 0.7033 - lr: 1.0000e-04\n",
            "Epoch 30/500\n",
            "137/137 [==============================] - 2s 17ms/step - loss: 1.2495 - accuracy: 0.9660 - val_loss: 3.0176 - val_accuracy: 0.6468 - lr: 1.0000e-04\n",
            "Epoch 31/500\n",
            "137/137 [==============================] - 2s 18ms/step - loss: 1.1843 - accuracy: 0.9677 - val_loss: 2.4188 - val_accuracy: 0.6986 - lr: 1.0000e-04\n",
            "Epoch 32/500\n",
            "137/137 [==============================] - 2s 13ms/step - loss: 1.1193 - accuracy: 0.9699 - val_loss: 2.5753 - val_accuracy: 0.6970 - lr: 1.0000e-04\n",
            "Epoch 33/500\n",
            "137/137 [==============================] - 3s 18ms/step - loss: 1.0655 - accuracy: 0.9681 - val_loss: 2.4130 - val_accuracy: 0.7111 - lr: 1.0000e-04\n",
            "Epoch 34/500\n",
            "137/137 [==============================] - 3s 18ms/step - loss: 1.0141 - accuracy: 0.9678 - val_loss: 2.3758 - val_accuracy: 0.6813 - lr: 1.0000e-04\n",
            "Epoch 35/500\n",
            "137/137 [==============================] - 3s 22ms/step - loss: 0.9673 - accuracy: 0.9676 - val_loss: 2.1903 - val_accuracy: 0.7033 - lr: 1.0000e-04\n",
            "Epoch 36/500\n",
            "137/137 [==============================] - 2s 17ms/step - loss: 0.9115 - accuracy: 0.9717 - val_loss: 2.2436 - val_accuracy: 0.7143 - lr: 1.0000e-04\n",
            "Epoch 37/500\n",
            "137/137 [==============================] - 2s 14ms/step - loss: 0.8681 - accuracy: 0.9712 - val_loss: 2.2649 - val_accuracy: 0.7111 - lr: 1.0000e-04\n",
            "Epoch 38/500\n",
            "137/137 [==============================] - 2s 18ms/step - loss: 0.8270 - accuracy: 0.9719 - val_loss: 2.0994 - val_accuracy: 0.7190 - lr: 1.0000e-04\n",
            "Epoch 39/500\n",
            "137/137 [==============================] - 2s 13ms/step - loss: 0.7921 - accuracy: 0.9703 - val_loss: 2.2644 - val_accuracy: 0.6797 - lr: 1.0000e-04\n",
            "Epoch 40/500\n",
            "137/137 [==============================] - 2s 18ms/step - loss: 0.7585 - accuracy: 0.9722 - val_loss: 2.0854 - val_accuracy: 0.7111 - lr: 1.0000e-04\n",
            "Epoch 41/500\n",
            "137/137 [==============================] - 2s 13ms/step - loss: 0.7232 - accuracy: 0.9719 - val_loss: 2.0920 - val_accuracy: 0.6970 - lr: 1.0000e-04\n",
            "Epoch 42/500\n",
            "137/137 [==============================] - 3s 22ms/step - loss: 0.6906 - accuracy: 0.9735 - val_loss: 2.0537 - val_accuracy: 0.7127 - lr: 1.0000e-04\n",
            "Epoch 43/500\n",
            "137/137 [==============================] - 2s 17ms/step - loss: 0.6649 - accuracy: 0.9735 - val_loss: 2.0828 - val_accuracy: 0.6860 - lr: 1.0000e-04\n",
            "Epoch 44/500\n",
            "137/137 [==============================] - 3s 20ms/step - loss: 0.6417 - accuracy: 0.9723 - val_loss: 1.9828 - val_accuracy: 0.6907 - lr: 1.0000e-04\n",
            "Epoch 45/500\n",
            "137/137 [==============================] - 2s 12ms/step - loss: 0.6244 - accuracy: 0.9705 - val_loss: 2.0114 - val_accuracy: 0.6923 - lr: 1.0000e-04\n",
            "Epoch 46/500\n",
            "137/137 [==============================] - 3s 22ms/step - loss: 0.6003 - accuracy: 0.9705 - val_loss: 1.9242 - val_accuracy: 0.7221 - lr: 1.0000e-04\n",
            "Epoch 47/500\n",
            "137/137 [==============================] - 2s 12ms/step - loss: 0.5730 - accuracy: 0.9741 - val_loss: 1.9466 - val_accuracy: 0.7033 - lr: 1.0000e-04\n",
            "Epoch 48/500\n",
            "137/137 [==============================] - 3s 19ms/step - loss: 0.5476 - accuracy: 0.9761 - val_loss: 1.8855 - val_accuracy: 0.7316 - lr: 1.0000e-04\n",
            "Epoch 49/500\n",
            "137/137 [==============================] - 2s 17ms/step - loss: 0.5320 - accuracy: 0.9756 - val_loss: 1.9114 - val_accuracy: 0.7017 - lr: 1.0000e-04\n",
            "Epoch 50/500\n",
            "137/137 [==============================] - 2s 16ms/step - loss: 0.5160 - accuracy: 0.9757 - val_loss: 2.1090 - val_accuracy: 0.6766 - lr: 1.0000e-04\n",
            "Epoch 51/500\n",
            "137/137 [==============================] - 2s 13ms/step - loss: 0.4972 - accuracy: 0.9759 - val_loss: 1.9608 - val_accuracy: 0.6860 - lr: 1.0000e-04\n",
            "Epoch 52/500\n",
            "137/137 [==============================] - 2s 18ms/step - loss: 0.4937 - accuracy: 0.9713 - val_loss: 1.8799 - val_accuracy: 0.7190 - lr: 1.0000e-04\n",
            "Epoch 53/500\n",
            "137/137 [==============================] - 2s 13ms/step - loss: 0.4695 - accuracy: 0.9767 - val_loss: 1.9282 - val_accuracy: 0.6970 - lr: 1.0000e-04\n",
            "Epoch 54/500\n",
            "137/137 [==============================] - 2s 13ms/step - loss: 0.4603 - accuracy: 0.9757 - val_loss: 2.0878 - val_accuracy: 0.6829 - lr: 1.0000e-04\n",
            "Epoch 55/500\n",
            "137/137 [==============================] - 2s 18ms/step - loss: 0.4538 - accuracy: 0.9744 - val_loss: 1.8675 - val_accuracy: 0.7206 - lr: 1.0000e-04\n",
            "Epoch 56/500\n",
            "137/137 [==============================] - 3s 24ms/step - loss: 0.4397 - accuracy: 0.9763 - val_loss: 1.8648 - val_accuracy: 0.7080 - lr: 1.0000e-04\n",
            "Epoch 57/500\n",
            "137/137 [==============================] - 3s 23ms/step - loss: 0.4346 - accuracy: 0.9761 - val_loss: 1.7694 - val_accuracy: 0.7284 - lr: 1.0000e-04\n",
            "Epoch 58/500\n",
            "137/137 [==============================] - 2s 17ms/step - loss: 0.4166 - accuracy: 0.9773 - val_loss: 1.8109 - val_accuracy: 0.7080 - lr: 1.0000e-04\n",
            "Epoch 59/500\n",
            "137/137 [==============================] - 2s 18ms/step - loss: 0.4050 - accuracy: 0.9793 - val_loss: 1.7046 - val_accuracy: 0.7159 - lr: 1.0000e-04\n",
            "Epoch 60/500\n",
            "137/137 [==============================] - 2s 13ms/step - loss: 0.3982 - accuracy: 0.9773 - val_loss: 1.8603 - val_accuracy: 0.7049 - lr: 1.0000e-04\n",
            "Epoch 61/500\n",
            "137/137 [==============================] - 2s 12ms/step - loss: 0.3973 - accuracy: 0.9763 - val_loss: 1.8186 - val_accuracy: 0.7064 - lr: 1.0000e-04\n",
            "Epoch 62/500\n",
            "137/137 [==============================] - 3s 22ms/step - loss: 0.3916 - accuracy: 0.9770 - val_loss: 1.6645 - val_accuracy: 0.7174 - lr: 1.0000e-04\n",
            "Epoch 63/500\n",
            "137/137 [==============================] - 2s 17ms/step - loss: 0.3762 - accuracy: 0.9783 - val_loss: 1.7208 - val_accuracy: 0.7127 - lr: 1.0000e-04\n",
            "Epoch 64/500\n",
            "137/137 [==============================] - 2s 15ms/step - loss: 0.3757 - accuracy: 0.9764 - val_loss: 2.0025 - val_accuracy: 0.6845 - lr: 1.0000e-04\n",
            "Epoch 65/500\n",
            "137/137 [==============================] - 2s 13ms/step - loss: 0.3694 - accuracy: 0.9771 - val_loss: 1.8741 - val_accuracy: 0.6845 - lr: 1.0000e-04\n",
            "Epoch 66/500\n",
            "137/137 [==============================] - 2s 12ms/step - loss: 0.3531 - accuracy: 0.9803 - val_loss: 1.7105 - val_accuracy: 0.6923 - lr: 1.0000e-04\n",
            "Epoch 67/500\n",
            "137/137 [==============================] - 2s 16ms/step - loss: 0.3543 - accuracy: 0.9778 - val_loss: 1.6870 - val_accuracy: 0.7127 - lr: 1.0000e-04\n",
            "Epoch 68/500\n",
            "137/137 [==============================] - 2s 13ms/step - loss: 0.3485 - accuracy: 0.9787 - val_loss: 1.8012 - val_accuracy: 0.7143 - lr: 1.0000e-04\n",
            "Epoch 69/500\n",
            "137/137 [==============================] - 2s 13ms/step - loss: 0.3432 - accuracy: 0.9796 - val_loss: 1.6828 - val_accuracy: 0.7190 - lr: 1.0000e-04\n",
            "Epoch 70/500\n",
            "137/137 [==============================] - 2s 17ms/step - loss: 0.3443 - accuracy: 0.9767 - val_loss: 1.9130 - val_accuracy: 0.6892 - lr: 1.0000e-04\n",
            "Epoch 71/500\n",
            "137/137 [==============================] - 2s 17ms/step - loss: 0.3367 - accuracy: 0.9772 - val_loss: 1.9712 - val_accuracy: 0.6876 - lr: 1.0000e-04\n",
            "Epoch 72/500\n",
            "135/137 [============================>.] - ETA: 0s - loss: 0.3313 - accuracy: 0.9786\n",
            "Epoch 72: ReduceLROnPlateau reducing learning rate to 4.999999873689376e-05.\n",
            "137/137 [==============================] - 2s 15ms/step - loss: 0.3311 - accuracy: 0.9787 - val_loss: 1.9350 - val_accuracy: 0.6907 - lr: 1.0000e-04\n",
            "Epoch 73/500\n",
            "137/137 [==============================] - 2s 13ms/step - loss: 0.3065 - accuracy: 0.9873 - val_loss: 1.6741 - val_accuracy: 0.7002 - lr: 5.0000e-05\n",
            "Epoch 74/500\n",
            "137/137 [==============================] - 3s 19ms/step - loss: 0.2898 - accuracy: 0.9898 - val_loss: 1.7394 - val_accuracy: 0.7127 - lr: 5.0000e-05\n",
            "Epoch 75/500\n",
            "137/137 [==============================] - 2s 13ms/step - loss: 0.2800 - accuracy: 0.9909 - val_loss: 1.7857 - val_accuracy: 0.7096 - lr: 5.0000e-05\n",
            "Epoch 76/500\n",
            "137/137 [==============================] - 2s 12ms/step - loss: 0.2715 - accuracy: 0.9921 - val_loss: 1.7160 - val_accuracy: 0.7080 - lr: 5.0000e-05\n",
            "Epoch 77/500\n",
            "137/137 [==============================] - 2s 13ms/step - loss: 0.2641 - accuracy: 0.9916 - val_loss: 1.7769 - val_accuracy: 0.7127 - lr: 5.0000e-05\n",
            "Epoch 78/500\n",
            "137/137 [==============================] - 2s 16ms/step - loss: 0.2624 - accuracy: 0.9909 - val_loss: 1.8073 - val_accuracy: 0.7190 - lr: 5.0000e-05\n",
            "Epoch 79/500\n",
            "137/137 [==============================] - 2s 17ms/step - loss: 0.2587 - accuracy: 0.9903 - val_loss: 1.7733 - val_accuracy: 0.7221 - lr: 5.0000e-05\n",
            "Epoch 80/500\n",
            "137/137 [==============================] - 2s 14ms/step - loss: 0.2516 - accuracy: 0.9911 - val_loss: 1.8017 - val_accuracy: 0.7206 - lr: 5.0000e-05\n",
            "Epoch 81/500\n",
            "137/137 [==============================] - 2s 13ms/step - loss: 0.2416 - accuracy: 0.9928 - val_loss: 1.7691 - val_accuracy: 0.7096 - lr: 5.0000e-05\n",
            "Epoch 82/500\n",
            "137/137 [==============================] - ETA: 0s - loss: 0.2406 - accuracy: 0.9917\n",
            "Epoch 82: ReduceLROnPlateau reducing learning rate to 2.499999936844688e-05.\n",
            "137/137 [==============================] - 2s 13ms/step - loss: 0.2406 - accuracy: 0.9917 - val_loss: 1.8675 - val_accuracy: 0.7143 - lr: 5.0000e-05\n",
            "Epoch 83/500\n",
            "137/137 [==============================] - 2s 12ms/step - loss: 0.2336 - accuracy: 0.9930 - val_loss: 1.8689 - val_accuracy: 0.6986 - lr: 2.5000e-05\n",
            "Epoch 84/500\n",
            "137/137 [==============================] - 2s 12ms/step - loss: 0.2265 - accuracy: 0.9938 - val_loss: 1.7802 - val_accuracy: 0.7190 - lr: 2.5000e-05\n",
            "Epoch 85/500\n",
            "137/137 [==============================] - 2s 13ms/step - loss: 0.2191 - accuracy: 0.9954 - val_loss: 1.7886 - val_accuracy: 0.7143 - lr: 2.5000e-05\n",
            "Epoch 86/500\n",
            "137/137 [==============================] - 2s 17ms/step - loss: 0.2155 - accuracy: 0.9961 - val_loss: 1.8262 - val_accuracy: 0.7002 - lr: 2.5000e-05\n",
            "Epoch 87/500\n",
            "137/137 [==============================] - 2s 17ms/step - loss: 0.2135 - accuracy: 0.9955 - val_loss: 1.8873 - val_accuracy: 0.7159 - lr: 2.5000e-05\n",
            "Epoch 88/500\n",
            "137/137 [==============================] - 2s 15ms/step - loss: 0.2086 - accuracy: 0.9958 - val_loss: 1.8447 - val_accuracy: 0.7080 - lr: 2.5000e-05\n",
            "Epoch 89/500\n",
            "137/137 [==============================] - 2s 13ms/step - loss: 0.2031 - accuracy: 0.9966 - val_loss: 1.8530 - val_accuracy: 0.7033 - lr: 2.5000e-05\n",
            "Epoch 90/500\n",
            "137/137 [==============================] - 2s 13ms/step - loss: 0.2006 - accuracy: 0.9969 - val_loss: 1.8303 - val_accuracy: 0.7049 - lr: 2.5000e-05\n",
            "Epoch 91/500\n",
            "137/137 [==============================] - 2s 13ms/step - loss: 0.1991 - accuracy: 0.9959 - val_loss: 1.9181 - val_accuracy: 0.7049 - lr: 2.5000e-05\n",
            "Epoch 92/500\n",
            "137/137 [==============================] - ETA: 0s - loss: 0.1971 - accuracy: 0.9951\n",
            "Epoch 92: ReduceLROnPlateau reducing learning rate to 1.249999968422344e-05.\n",
            "137/137 [==============================] - 2s 13ms/step - loss: 0.1971 - accuracy: 0.9951 - val_loss: 1.8835 - val_accuracy: 0.7253 - lr: 2.5000e-05\n",
            "39/39 [==============================] - 0s 4ms/step - loss: 1.6835 - accuracy: 0.7199\n",
            "Loss: 1.6834865808486938, Accuracy: 0.719935417175293\n"
          ]
        }
      ],
      "source": [
        "from tensorflow.keras.models import Sequential\n",
        "from tensorflow.keras.layers import Dense, Dropout, Activation\n",
        "from tensorflow.keras.callbacks import EarlyStopping, ModelCheckpoint, ReduceLROnPlateau\n",
        "from tensorflow.keras.optimizers import Adam\n",
        "from tensorflow.keras import regularizers\n",
        "from tensorflow.keras.layers import BatchNormalization, LeakyReLU\n",
        "from sklearn.utils.class_weight import compute_class_weight\n",
        "from tensorflow.keras.callbacks import ReduceLROnPlateau\n",
        "\n",
        "y_train_binary = (y_train_final == 1).astype(int)\n",
        "y_test_binary = (y_test == 1).astype(int)\n",
        "y_val_binary = (y_val == 1).astype(int)\n",
        "\n",
        "model = Sequential()\n",
        "\n",
        "# Adjusted model architecture\n",
        "model.add(Dense(2048, input_dim=4864, kernel_regularizer=regularizers.l2(0.001)))\n",
        "model.add(BatchNormalization())\n",
        "model.add(Activation('relu'))\n",
        "model.add(Dropout(0.5))\n",
        "\n",
        "model.add(Dense(1024, kernel_regularizer=regularizers.l2(0.001)))\n",
        "model.add(BatchNormalization())\n",
        "model.add(Activation('relu'))\n",
        "model.add(Dropout(0.4))\n",
        "\n",
        "model.add(Dense(512, kernel_regularizer=regularizers.l2(0.001)))\n",
        "model.add(BatchNormalization())\n",
        "model.add(Activation('relu'))\n",
        "model.add(Dropout(0.3))\n",
        "\n",
        "model.add(Dense(256, kernel_regularizer=regularizers.l2(0.001)))\n",
        "model.add(BatchNormalization())\n",
        "model.add(Activation('relu'))\n",
        "model.add(Dropout(0.2))\n",
        "\n",
        "# Output layer for binary\n",
        "model.add(Dense(1, activation=\"sigmoid\"))\n",
        "\n",
        "# Output layer for multiple classification\n",
        "#model.add(Dense(3, activation=\"softmax\"))\n",
        "\n",
        "#model.add(Dense(1, activation=None))\n",
        "\n",
        "# Compile model with adjusted learning rate\n",
        "optimizer = Adam(learning_rate=0.0001)\n",
        "reduce_lr = ReduceLROnPlateau(monitor='val_loss', factor=0.5, patience=10, min_lr=0.000001, verbose=1)\n",
        "\n",
        "#binary\n",
        "model.compile(loss='binary_crossentropy', optimizer=optimizer, metrics=['accuracy'])\n",
        "\n",
        "#multiple classification\n",
        "#model.compile(loss='categorical_crossentropy', optimizer=optimizer, metrics=['accuracy'])\n",
        "\n",
        "# Callbacks\n",
        "early_stop = EarlyStopping(monitor='val_loss', patience=30, restore_best_weights=True)\n",
        "model_checkpoint = ModelCheckpoint('best_model.h5', monitor='val_loss', save_best_only=True)\n",
        "\n",
        "# Summary\n",
        "model.summary()\n",
        "\n",
        "# Fit model\n",
        "history = model.fit(\n",
        "    X_train_final, y_train_binary,\n",
        "    epochs=500,\n",
        "    batch_size=128,\n",
        "    validation_data=(X_val, y_val_binary),\n",
        "    callbacks=[early_stop, model_checkpoint, reduce_lr]\n",
        ")\n",
        "\n",
        "loss, accuracy = model.evaluate(X_test, y_test_binary)\n",
        "print(f'Loss: {loss}, Accuracy: {accuracy}')"
      ]
    },
    {
      "cell_type": "code",
      "execution_count": null,
      "metadata": {
        "id": "rjDt1xaDUzA9",
        "colab": {
          "base_uri": "https://localhost:8080/",
          "height": 872
        },
        "outputId": "421c9ec5-2a34-4047-ffdb-5f91a9a341de"
      },
      "outputs": [
        {
          "output_type": "display_data",
          "data": {
            "text/plain": [
              "<Figure size 1000x1000 with 2 Axes>"
            ],
            "image/png": "[encoded data removed]"
          },
          "metadata": {}
        }
      ],
      "source": [
        "import pandas as pd\n",
        "import matplotlib.pyplot as plt\n",
        "\n",
        "# Convert model history into a Pandas DataFrame\n",
        "losses_df = pd.DataFrame(history.history)\n",
        "\n",
        "# Plot the losses and MSE on separate subplots\n",
        "fig, axes = plt.subplots(nrows=2, ncols=1, figsize=(10, 10), sharex=True)\n",
        "\n",
        "# Loss plot\n",
        "axes[0].plot(losses_df['loss'], label='Training Loss')\n",
        "axes[0].plot(losses_df['val_loss'], label='Validation Loss')\n",
        "axes[0].set_title('Training and Validation Loss')\n",
        "axes[0].set_ylabel('Loss')\n",
        "axes[0].legend()\n",
        "axes[0].set_yscale('log')\n",
        "\n",
        "# MSE plot\n",
        "axes[1].plot(losses_df['mean_squared_error'], label='Training MSE', linestyle='--')\n",
        "axes[1].plot(losses_df['val_mean_squared_error'], label='Validation MSE', linestyle='--')\n",
        "axes[1].set_title('Training and Validation MSE')\n",
        "axes[1].set_ylabel('MSE')\n",
        "axes[1].set_xlabel('Epoch')\n",
        "axes[1].legend()\n",
        "axes[1].set_yscale('log')\n",
        "\n",
        "# Show the plot\n",
        "plt.show()\n"
      ]
    },
    {
      "cell_type": "code",
      "execution_count": null,
      "metadata": {
        "id": "8cWz9KA7UaeD",
        "colab": {
          "base_uri": "https://localhost:8080/",
          "height": 616
        },
        "outputId": "a919b250-ad72-4453-df09-90bff036d61b"
      },
      "outputs": [
        {
          "output_type": "stream",
          "name": "stdout",
          "text": [
            "39/39 [==============================] - 0s 2ms/step\n",
            "Mean Squared Error: 1.162805154481314\n",
            "Mean Absolute Error: 0.5700960869241665\n"
          ]
        },
        {
          "output_type": "display_data",
          "data": {
            "text/plain": [
              "<Figure size 1500x600 with 1 Axes>"
            ],
            "image/png": "[encoded data removed]"
          },
          "metadata": {}
        }
      ],
      "source": [
        "import numpy as np\n",
        "import matplotlib.pyplot as plt\n",
        "from sklearn.metrics import mean_squared_error, mean_absolute_error\n",
        "\n",
        "# Make predictions on the test set\n",
        "y_pred = model.predict(X_test).flatten()\n",
        "\n",
        "# Calculate MSE and MAE\n",
        "mse = mean_squared_error(y_test, y_pred)\n",
        "mae = mean_absolute_error(y_test, y_pred)\n",
        "print(\"Mean Squared Error:\", mse)\n",
        "print(\"Mean Absolute Error:\", mae)\n",
        "\n",
        "# Sort by actual values while keeping track of predictions\n",
        "N = 300\n",
        "sorted_indices = np.argsort(y_test[:N])\n",
        "sorted_actual = y_test[sorted_indices]\n",
        "sorted_predicted = y_pred[sorted_indices]\n",
        "\n",
        "# Plotting the first N test samples for comparison after sorting\n",
        "plt.figure(figsize=(15, 6))\n",
        "plt.scatter(range(N), sorted_actual, label='Actual', marker='o')\n",
        "plt.scatter(range(N), sorted_predicted, label='Predicted', marker='x')\n",
        "plt.title('Comparison of Actual and Predicted Values')\n",
        "plt.xlabel('Sample')\n",
        "plt.ylabel('Slider Value')\n",
        "plt.legend()\n",
        "plt.show()"
      ]
    },
    {
      "cell_type": "markdown",
      "source": [
        "#### Plotting Accuracy and loss for categorical predicting"
      ],
      "metadata": {
        "id": "YEkQA68TPXF3"
      }
    },
    {
      "cell_type": "code",
      "source": [
        "import numpy as np\n",
        "import matplotlib.pyplot as plt\n",
        "from sklearn.metrics import accuracy_score, confusion_matrix, classification_report\n",
        "import seaborn as sns\n",
        "\n",
        "y_pred = model.predict(X_test)\n",
        "\n",
        "# Convert predictions from one-hot encoded to class labels if necessary\n",
        "y_pred_labels = np.argmax(y_pred, axis=1)\n",
        "y_test_labels = np.argmax(y_test_categorical, axis=1)\n",
        "\n",
        "accuracy = accuracy_score(y_test_labels, y_pred_labels)\n",
        "print(\"Accuracy:\", accuracy)\n",
        "print(classification_report(y_test_labels, y_pred_labels))\n",
        "\n",
        "cm = confusion_matrix(y_test_labels, y_pred_labels)\n",
        "plt.figure(figsize=(8, 6))\n",
        "sns.heatmap(cm, annot=True, fmt='d', cmap='Blues')\n",
        "plt.title('Confusion Matrix')\n",
        "plt.xlabel('Predicted Label')\n",
        "plt.ylabel('True Label')\n",
        "plt.show()\n",
        "\n",
        "plt.figure(figsize=(10, 5))\n",
        "plt.hist(y_test_labels, bins=np.arange(-0.5, 3, 1), alpha=0.5, label='Actual')\n",
        "plt.hist(y_pred_labels, bins=np.arange(-0.5, 3, 1), alpha=0.5, label='Predicted')\n",
        "plt.xticks([0, 1, 2])\n",
        "plt.title('Comparison of Actual and Predicted Class Distributions')\n",
        "plt.xlabel('Class')\n",
        "plt.ylabel('Frequency')\n",
        "plt.legend()\n",
        "plt.show()"
      ],
      "metadata": {
        "id": "xBFw1lPMQ7OP",
        "colab": {
          "base_uri": "https://localhost:8080/",
          "height": 1000
        },
        "outputId": "5cdecdb5-bdd5-4057-f491-13964cbe408b"
      },
      "execution_count": null,
      "outputs": [
        {
          "output_type": "stream",
          "name": "stdout",
          "text": [
            "39/39 [==============================] - 0s 3ms/step\n",
            "Accuracy: 0.6206618240516546\n",
            "              precision    recall  f1-score   support\n",
            "\n",
            "           0       0.73      0.74      0.74       672\n",
            "           1       0.25      0.34      0.29       134\n",
            "           2       0.60      0.52      0.55       433\n",
            "\n",
            "    accuracy                           0.62      1239\n",
            "   macro avg       0.53      0.53      0.53      1239\n",
            "weighted avg       0.63      0.62      0.62      1239\n",
            "\n"
          ]
        },
        {
          "output_type": "display_data",
          "data": {
            "text/plain": [
              "<Figure size 800x600 with 2 Axes>"
            ],
            "image/png": "[encoded data removed]"
          },
          "metadata": {}
        },
        {
          "output_type": "display_data",
          "data": {
            "text/plain": [
              "<Figure size 1000x500 with 1 Axes>"
            ],
            "image/png": "[encoded data removed]"
          },
          "metadata": {}
        }
      ]
    },
    {
      "cell_type": "markdown",
      "source": [
        "#### Binary classification confusion matrix"
      ],
      "metadata": {
        "id": "yGA6CGe0RruE"
      }
    },
    {
      "cell_type": "code",
      "source": [
        "import numpy as np\n",
        "import matplotlib.pyplot as plt\n",
        "from sklearn.metrics import accuracy_score, confusion_matrix, classification_report\n",
        "import seaborn as sns\n",
        "\n",
        "# Predict probabilities for the positive class\n",
        "y_pred_probs = model.predict(X_test)\n",
        "\n",
        "# Convert probabilities to class labels using a threshold (e.g., 0.5)\n",
        "y_pred_labels = (y_pred_probs > 0.5).astype(int)\n",
        "\n",
        "# y_test_binary should be the binary labels for your test set\n",
        "y_test_binary = (y_test == 1).astype(int)\n",
        "\n",
        "accuracy = accuracy_score(y_test_binary, y_pred_labels)\n",
        "print(\"Accuracy:\", accuracy)\n",
        "print(classification_report(y_test_binary, y_pred_labels))\n",
        "\n",
        "cm = confusion_matrix(y_test_binary, y_pred_labels)\n",
        "plt.figure(figsize=(8, 6))\n",
        "sns.heatmap(cm, annot=True, fmt='d', cmap='Blues')\n",
        "plt.title('Confusion Matrix')\n",
        "plt.xlabel('Predicted Label')\n",
        "plt.ylabel('True Label')\n",
        "plt.show()\n",
        "\n",
        "plt.figure(figsize=(10, 5))\n",
        "plt.hist(y_test_binary, bins=np.arange(-0.5, 2, 1), alpha=0.5, label='Actual')\n",
        "plt.hist(y_pred_labels, bins=np.arange(-0.5, 2, 1), alpha=0.5, label='Predicted')\n",
        "plt.xticks([0, 1])\n",
        "plt.title('Comparison of Actual and Predicted Class Distributions')\n",
        "plt.xlabel('Class')\n",
        "plt.ylabel('Frequency')\n",
        "plt.legend()\n",
        "plt.show()"
      ],
      "metadata": {
        "colab": {
          "base_uri": "https://localhost:8080/",
          "height": 1000
        },
        "id": "xS0PqgdWRg0V",
        "outputId": "212bba9d-50e6-4f83-8414-252fdbbeb6b7"
      },
      "execution_count": null,
      "outputs": [
        {
          "output_type": "stream",
          "name": "stdout",
          "text": [
            "39/39 [==============================] - 0s 4ms/step\n",
            "Accuracy: 0.7199354317998385\n",
            "              precision    recall  f1-score   support\n",
            "\n",
            "           0       0.75      0.77      0.76       707\n",
            "           1       0.68      0.65      0.67       532\n",
            "\n",
            "    accuracy                           0.72      1239\n",
            "   macro avg       0.71      0.71      0.71      1239\n",
            "weighted avg       0.72      0.72      0.72      1239\n",
            "\n"
          ]
        },
        {
          "output_type": "display_data",
          "data": {
            "text/plain": [
              "<Figure size 800x600 with 2 Axes>"
            ],
            "image/png": "[encoded data removed]"
          },
          "metadata": {}
        },
        {
          "output_type": "display_data",
          "data": {
            "text/plain": [
              "<Figure size 1000x500 with 1 Axes>"
            ],
            "image/png": "[encoded data removed]"
          },
          "metadata": {}
        }
      ]
    },
    {
      "cell_type": "markdown",
      "source": [
        "### Section 2\n",
        "* In this section, we're going to implement different neural network. It's train the data one by one.\n",
        "* First train the image feature data then combined with sentences vectors data and train it again"
      ],
      "metadata": {
        "id": "kXV8l68uj2-e"
      }
    },
    {
      "cell_type": "code",
      "source": [
        "import numpy as np\n",
        "import torch\n",
        "from sklearn.model_selection import train_test_split\n",
        "from keras.models import Sequential\n",
        "from keras.layers import Dense, Activation, Dropout, BatchNormalization\n",
        "from keras import regularizers\n",
        "from keras.optimizers import Adam\n",
        "from keras.callbacks import EarlyStopping, ModelCheckpoint\n",
        "from keras.utils import to_categorical\n",
        "from imblearn.over_sampling import SMOTE\n",
        "\n",
        "# Assuming 'features_im1', 'features_im2', and 'sentence_embeddings' are your initial datasets\n",
        "before_features_tensor = torch.tensor(features_im1, dtype=torch.float32)\n",
        "after_features_tensor = torch.tensor(features_im2, dtype=torch.float32)\n",
        "bert_encoded_sentences_tensor = torch.tensor(sentence_embeddings, dtype=torch.float32)\n",
        "\n",
        "# Normalize the features\n",
        "def normalize(tensor):\n",
        "    return tensor / tensor.norm(dim=1, keepdim=True)\n",
        "\n",
        "before_features_norm = normalize(before_features_tensor)\n",
        "after_features_norm = normalize(after_features_tensor)\n",
        "\n",
        "before_features_norm = before_features_norm.repeat_interleave(3, dim=0)\n",
        "after_features_norm = after_features_norm.repeat_interleave(3, dim=0)\n",
        "\n",
        "# Combine before and after image features\n",
        "combined_image_features = torch.cat([before_features_norm, after_features_norm], dim=1).numpy()\n",
        "\n",
        "# Assume 'slider_values' are your target labels\n",
        "X_train, X_testVal, y_train, y_testVal = train_test_split(combined_image_features, slider_values, test_size=0.3, random_state=42, shuffle=True)\n",
        "X_val, X_test, y_val, y_test = train_test_split(X_testVal, y_testVal, test_size=0.66, random_state=42, shuffle=True)"
      ],
      "metadata": {
        "id": "h-MNDVrVkc_8"
      },
      "execution_count": null,
      "outputs": []
    },
    {
      "cell_type": "code",
      "source": [
        "from keras.layers import Input\n",
        "from keras.models import Model\n",
        "input_shape = 4096  # Combined shape of before and after images\n",
        "output_shape = 768  # Desired feature vector size\n",
        "\n",
        "input_layer = Input(shape=(input_shape,))\n",
        "x = Dense(1024, kernel_regularizer=regularizers.l2(0.001))(input_layer)\n",
        "x = BatchNormalization()(x)\n",
        "x = Activation('relu')(x)\n",
        "x = Dropout(0.5)(x)\n",
        "\n",
        "# Additional layers can be added here\n",
        "\n",
        "x = Dense(512, kernel_regularizer=regularizers.l2(0.001))(x)\n",
        "x = BatchNormalization()(x)\n",
        "x = Activation('relu')(x)\n",
        "x = Dropout(0.4)(x)\n",
        "\n",
        "x = Dense(256, kernel_regularizer=regularizers.l2(0.001))(x)\n",
        "x = BatchNormalization()(x)\n",
        "x = Activation('relu')(x)\n",
        "x = Dropout(0.3)(x)\n",
        "\n",
        "# Output layer\n",
        "output_layer = Dense(output_shape, activation='relu')(x)\n",
        "\n",
        "model_image = Model(inputs=input_layer, outputs=output_layer)\n",
        "\n",
        "optimizer = Adam(learning_rate=0.00005)\n",
        "model_image.compile(loss='mse', optimizer=optimizer, metrics=['mean_absolute_error'])\n",
        "\n",
        "model_image.summary()\n",
        "\n",
        "# Fit model\n",
        "early_stop = EarlyStopping(monitor='val_loss', patience=20, restore_best_weights=True)\n",
        "\n",
        "model_image.fit(\n",
        "    X_train, y_train,\n",
        "    epochs=500,\n",
        "    batch_size=32,\n",
        "    validation_data=(X_val, y_val),\n",
        "    callbacks=[early_stop]\n",
        ")\n"
      ],
      "metadata": {
        "id": "oC7DV18BlgWd"
      },
      "execution_count": null,
      "outputs": []
    },
    {
      "cell_type": "code",
      "source": [
        "import pandas as pd\n",
        "import matplotlib.pyplot as plt\n",
        "\n",
        "# Convert model history into a Pandas DataFrame\n",
        "losses_df = pd.DataFrame(model_image.history.history)\n",
        "# Plot the losses and MSE on separate subplots\n",
        "fig, axes = plt.subplots(nrows=2, ncols=1, figsize=(10, 10), sharex=True)\n",
        "\n",
        "# Loss plot\n",
        "axes[0].plot(losses_df['loss'], label='Training Loss')\n",
        "axes[0].plot(losses_df['val_loss'], label='Validation Loss')\n",
        "axes[0].set_title('Training and Validation Loss')\n",
        "axes[0].set_ylabel('Loss')\n",
        "axes[0].legend()\n",
        "axes[0].set_yscale('log')\n",
        "\n",
        "# MSE plot\n",
        "axes[1].plot(losses_df['mean_absolute_error'], label='Training MAE', linestyle='--')\n",
        "axes[1].plot(losses_df['val_mean_absolute_error'], label='Validation MAE', linestyle='--')\n",
        "axes[1].set_title('Training and Validation MAE')\n",
        "axes[1].set_ylabel('MAE')\n",
        "axes[1].set_xlabel('Epoch')\n",
        "axes[1].legend()\n",
        "axes[1].set_yscale('log')\n",
        "\n",
        "# Show the plot\n",
        "plt.show()"
      ],
      "metadata": {
        "id": "VMfhsvYRzmo4"
      },
      "execution_count": null,
      "outputs": []
    },
    {
      "cell_type": "code",
      "source": [
        "transformed_image_features = model_image.predict(combined_image_features)\n",
        "combined_features_step2 = np.concatenate([transformed_image_features, bert_encoded_sentences_tensor.numpy()], axis=1)\n",
        "\n",
        "# Split the combined features for training the second model\n",
        "X_train_combined, X_testVal_combined, _, _ = train_test_split(combined_features_step2, slider_values, test_size=0.3, random_state=42, shuffle=True)\n",
        "X_val_combined, X_test_combined, _, _ = train_test_split(X_testVal_combined, y_testVal, test_size=0.66, random_state=42, shuffle=True)\n",
        "\n",
        "# Prepare categorical labels for the second model\n",
        "y_train_categorical = to_categorical(y_train, num_classes=3)\n",
        "y_val_categorical = to_categorical(y_val)\n",
        "y_test_categorical = to_categorical(y_test)"
      ],
      "metadata": {
        "id": "oP6naO9Yz6X6"
      },
      "execution_count": null,
      "outputs": []
    },
    {
      "cell_type": "code",
      "source": [
        "from sklearn.utils.class_weight import compute_class_weight\n",
        "\n",
        "class_weights = compute_class_weight('balanced', classes=np.unique(y_train), y=y_train)\n",
        "class_weight_dict = dict(enumerate(class_weights))\n",
        "\n",
        "model_final = Sequential()\n",
        "model_final.add(Dense(1024, input_dim=combined_features_step2.shape[1], kernel_regularizer=regularizers.l2(0.001)))\n",
        "model_final.add(BatchNormalization())\n",
        "model_final.add(Activation('relu'))\n",
        "model_final.add(Dropout(0.5))\n",
        "\n",
        "model_final.add(Dense(512, kernel_regularizer=regularizers.l2(0.001)))\n",
        "model_final.add(BatchNormalization())\n",
        "model_final.add(Activation('relu'))\n",
        "model_final.add(Dropout(0.3))\n",
        "\n",
        "model_final.add(Dense(256, kernel_regularizer=regularizers.l2(0.001)))\n",
        "model_final.add(BatchNormalization())\n",
        "model_final.add(Activation('relu'))\n",
        "model_final.add(Dropout(0.2))\n",
        "\n",
        "model_final.add(Dense(3, activation='softmax'))\n",
        "optimizer = Adam(learning_rate=0.00005)\n",
        "model_final.compile(loss='categorical_crossentropy', optimizer=optimizer, metrics=['accuracy'])\n",
        "\n",
        "# Callbacks\n",
        "early_stop = EarlyStopping(monitor='val_loss', patience=20, restore_best_weights=True)\n",
        "model_checkpoint = ModelCheckpoint('best_model_seperated_nn.h5', monitor='val_loss', save_best_only=True)\n",
        "\n",
        "# Fit the final model\n",
        "model_final.fit(X_train_combined, y_train_categorical,\n",
        "                epochs=500,\n",
        "                batch_size=32,\n",
        "                validation_data=(X_val_combined, y_val_categorical),\n",
        "                callbacks=[early_stop, model_checkpoint],\n",
        "                class_weight=class_weight_dict)\n",
        "\n",
        "# Evaluate the model\n",
        "loss, accuracy = model_final.evaluate(X_test_combined, y_test_categorical)\n",
        "print(f'Loss: {loss}, Accuracy: {accuracy}')"
      ],
      "metadata": {
        "id": "A4IcLXLv0AGB"
      },
      "execution_count": null,
      "outputs": []
    },
    {
      "cell_type": "code",
      "source": [
        "import numpy as np\n",
        "import matplotlib.pyplot as plt\n",
        "from sklearn.metrics import accuracy_score, confusion_matrix, classification_report\n",
        "import seaborn as sns\n",
        "\n",
        "y_pred = model_final.predict(X_test_combined)\n",
        "\n",
        "# Convert predictions from one-hot encoded to class labels if necessary\n",
        "y_pred_labels = np.argmax(y_pred, axis=1)\n",
        "y_test_labels = np.argmax(y_test_categorical, axis=1)\n",
        "\n",
        "accuracy = accuracy_score(y_test_labels, y_pred_labels)\n",
        "print(\"Accuracy:\", accuracy)\n",
        "print(classification_report(y_test_labels, y_pred_labels))\n",
        "\n",
        "cm = confusion_matrix(y_test_labels, y_pred_labels)\n",
        "plt.figure(figsize=(8, 6))\n",
        "sns.heatmap(cm, annot=True, fmt='d', cmap='Blues')\n",
        "plt.title('Confusion Matrix')\n",
        "plt.xlabel('Predicted Label')\n",
        "plt.ylabel('True Label')\n",
        "plt.show()\n",
        "\n",
        "plt.figure(figsize=(10, 5))\n",
        "plt.hist(y_test_labels, bins=np.arange(-0.5, 3, 1), alpha=0.5, label='Actual')\n",
        "plt.hist(y_pred_labels, bins=np.arange(-0.5, 3, 1), alpha=0.5, label='Predicted')\n",
        "plt.xticks([0, 1, 2])\n",
        "plt.title('Comparison of Actual and Predicted Class Distributions')\n",
        "plt.xlabel('Class')\n",
        "plt.ylabel('Frequency')\n",
        "plt.legend()\n",
        "plt.show()"
      ],
      "metadata": {
        "id": "1qTKePmT57zG"
      },
      "execution_count": null,
      "outputs": []
    },
    {
      "cell_type": "markdown",
      "source": [
        "#### Section 3 Cross Attention Model"
      ],
      "metadata": {
        "id": "BtsJKSKHN-jf"
      }
    },
    {
      "cell_type": "code",
      "source": [
        "import torch\n",
        "import torch.nn as nn\n",
        "import torch.nn.functional as F\n",
        "\n",
        "# Custom Cross Attention Layer\n",
        "class CrossAttentionLayer(nn.Module):\n",
        "    def __init__(self, query_dim, key_dim, value_dim):\n",
        "        super(CrossAttentionLayer, self).__init__()\n",
        "        self.query_dim = query_dim\n",
        "        self.key_dim = key_dim\n",
        "        self.value_dim = value_dim\n",
        "\n",
        "        self.query_transform = nn.Linear(query_dim, value_dim)\n",
        "        self.key_transform = nn.Linear(key_dim, value_dim)\n",
        "        self.value_transform = nn.Linear(key_dim, value_dim)\n",
        "        self.softmax = nn.Softmax(dim=-1)\n",
        "\n",
        "    def forward(self, query, key, value):\n",
        "        query_t = self.query_transform(query)\n",
        "        key_t = self.key_transform(key)\n",
        "        value_t = self.value_transform(value)\n",
        "\n",
        "        attention_scores = torch.matmul(query_t, key_t.transpose(-2, -1)) / self.value_dim ** 0.5\n",
        "        attention_weights = self.softmax(attention_scores)\n",
        "\n",
        "        attended_values = torch.matmul(attention_weights, value_t)\n",
        "        return attended_values\n",
        "\n",
        "# Custom Model with Cross Attention\n",
        "class CustomModel(nn.Module):\n",
        "    def __init__(self):\n",
        "        super(CustomModel, self).__init__()\n",
        "        self.cross_attention = CrossAttentionLayer(query_dim=768, key_dim=2048, value_dim=2048)\n",
        "\n",
        "        # Define layers after attention\n",
        "        self.fc1 = nn.Linear(2048 * 2 + 768, 2048)\n",
        "        self.bn1 = nn.BatchNorm1d(2048)\n",
        "        self.dropout1 = nn.Dropout(0.5)\n",
        "\n",
        "        self.fc2 = nn.Linear(2048, 1024)\n",
        "        self.bn2 = nn.BatchNorm1d(1024)\n",
        "        self.dropout2 = nn.Dropout(0.4)\n",
        "\n",
        "        self.fc3 = nn.Linear(1024, 512)\n",
        "        self.bn3 = nn.BatchNorm1d(512)\n",
        "        self.dropout3 = nn.Dropout(0.3)\n",
        "\n",
        "        self.fc4 = nn.Linear(512, 256)\n",
        "        self.bn4 = nn.BatchNorm1d(256)\n",
        "        self.dropout4 = nn.Dropout(0.2)\n",
        "\n",
        "        self.fc5 = nn.Linear(256, 1)  # Assuming 1 classes for the output\n",
        "\n",
        "    def forward(self, before_features, after_features, text_features):\n",
        "        attended_before = self.cross_attention(text_features, before_features, before_features)\n",
        "        attended_after = self.cross_attention(text_features, after_features, after_features)\n",
        "\n",
        "        combined = torch.cat([attended_before, attended_after, text_features], dim=1)\n",
        "\n",
        "        x = F.relu(self.bn1(self.fc1(combined)))\n",
        "        x = self.dropout1(x)\n",
        "\n",
        "        x = F.relu(self.bn2(self.fc2(x)))\n",
        "        x = self.dropout2(x)\n",
        "\n",
        "        x = F.relu(self.bn3(self.fc3(x)))\n",
        "        x = self.dropout3(x)\n",
        "\n",
        "        x = F.relu(self.bn4(self.fc4(x)))\n",
        "        x = self.dropout4(x)\n",
        "\n",
        "        x = self.fc5(x)  # No activation here, assuming you'll use softmax with the loss function\n",
        "        return x"
      ],
      "metadata": {
        "id": "KS5aqFuqOHw8"
      },
      "execution_count": null,
      "outputs": []
    },
    {
      "cell_type": "code",
      "source": [
        "import torch\n",
        "import torch.nn as nn\n",
        "import torch.nn.functional as F\n",
        "from torch.utils.data import DataLoader, TensorDataset\n",
        "from torch.optim import Adam\n",
        "\n",
        "y_train_binary = (y_train_final == 1).astype(int)\n",
        "y_test_binary = (y_test == 1).astype(int)\n",
        "y_val_binary = (y_val == 1).astype(int)\n",
        "\n",
        "# Convert numpy arrays back to torch tensors\n",
        "X_train_tensor = torch.tensor(X_train_final, dtype=torch.float32)\n",
        "y_train_tensor = torch.tensor(y_train_binary, dtype=torch.float32)\n",
        "X_val_tensor = torch.tensor(X_val, dtype=torch.float32)\n",
        "y_val_tensor = torch.tensor(y_val_binary, dtype=torch.float32)\n",
        "X_test_tensor = torch.tensor(X_test, dtype=torch.float32)\n",
        "y_test_tensor = torch.tensor(y_test_binary, dtype=torch.float32)\n",
        "\n",
        "# Assuming the concatenated feature tensor is of shape [N, 2048 + 2048 + 768]\n",
        "num_before_features = 2048  # Number of features in before_features\n",
        "num_after_features = 2048   # Number of features in after_features\n",
        "\n",
        "# Splitting the features\n",
        "before_feats_train = X_train_tensor[:, :num_before_features]\n",
        "after_feats_train = X_train_tensor[:, num_before_features:num_before_features + num_after_features]\n",
        "text_feats_train = X_train_tensor[:, num_before_features + num_after_features:]\n",
        "\n",
        "before_feats_val = X_val_tensor[:, :num_before_features]\n",
        "after_feats_val = X_val_tensor[:, num_before_features:num_before_features + num_after_features]\n",
        "text_feats_val = X_val_tensor[:, num_before_features + num_after_features:]\n",
        "\n",
        "before_feats_test = X_test_tensor[:, :num_before_features]\n",
        "after_feats_test = X_test_tensor[:, num_before_features:num_before_features + num_after_features]\n",
        "text_feats_test = X_test_tensor[:, num_before_features + num_after_features:]\n",
        "\n",
        "# Create TensorDatasets\n",
        "train_dataset = TensorDataset(before_feats_train, after_feats_train, text_feats_train, y_train_tensor)\n",
        "val_dataset = TensorDataset(before_feats_val, after_feats_val, text_feats_val, y_val_tensor)\n",
        "test_dataset = TensorDataset(before_feats_test, after_feats_test, text_feats_test, y_test_tensor)\n",
        "\n",
        "# Create DataLoaders\n",
        "train_loader = DataLoader(dataset=train_dataset, batch_size=64, shuffle=True)\n",
        "val_loader = DataLoader(dataset=val_dataset, batch_size=64, shuffle=False)\n",
        "test_loader = DataLoader(dataset=test_dataset, batch_size=64, shuffle=False)\n",
        "\n",
        "# Create the model instance\n",
        "model = CustomModel()\n",
        "\n",
        "# Move model to GPU if available\n",
        "device = torch.device(\"cuda\" if torch.cuda.is_available() else \"cpu\")\n",
        "model.to(device)\n",
        "\n",
        "# Loss function and optimizer\n",
        "criterion = nn.BCEWithLogitsLoss()  # Binary Cross Entropy Loss for binary classification\n",
        "optimizer = Adam(model.parameters(), lr=0.001)\n",
        "\n",
        "# Function to calculate accuracy\n",
        "def calculate_accuracy(outputs, labels):\n",
        "    predicted = torch.sigmoid(outputs) >= 0.5\n",
        "    correct = (predicted == labels).sum().item()\n",
        "    return correct / labels.size(0)\n",
        "\n",
        "# Training loop\n",
        "num_epochs = 100\n",
        "best_val_loss = float('inf')\n",
        "\n",
        "for epoch in range(num_epochs):\n",
        "    model.train()\n",
        "    train_loss, train_correct, train_total = 0, 0, 0\n",
        "\n",
        "    for before_feats, after_feats, text_feats, labels in train_loader:\n",
        "        before_feats, after_feats, text_feats, labels = before_feats.to(device), after_feats.to(device), text_feats.to(device), labels.to(device)\n",
        "        optimizer.zero_grad()\n",
        "        outputs = model(before_feats, after_feats, text_feats)\n",
        "        loss = criterion(outputs.squeeze(1), labels)\n",
        "        loss.backward()\n",
        "        optimizer.step()\n",
        "        train_loss += loss.item()\n",
        "        train_correct += (torch.sigmoid(outputs) >= 0.5).eq(labels).sum().item()\n",
        "        train_total += labels.size(0)\n",
        "\n",
        "    train_accuracy = train_correct / train_total\n",
        "\n",
        "    # Validation loop\n",
        "    model.eval()\n",
        "    val_loss, val_correct, val_total = 0, 0, 0\n",
        "    with torch.no_grad():\n",
        "        for before_feats, after_feats, text_feats, labels in val_loader:\n",
        "            before_feats, after_feats, text_feats, labels = before_feats.to(device), after_feats.to(device), text_feats.to(device), labels.to(device)\n",
        "            outputs = model(before_feats, after_feats, text_feats)\n",
        "            loss = criterion(outputs.squeeze(1), labels)\n",
        "            val_loss += loss.item()\n",
        "            val_correct += (torch.sigmoid(outputs) >= 0.5).eq(labels).sum().item()\n",
        "            val_total += labels.size(0)\n",
        "\n",
        "    val_accuracy = val_correct / val_total\n",
        "\n",
        "    print(f\"Epoch {epoch+1}/{num_epochs}, Train Loss: {train_loss/train_total:.4f}, Train Acc: {train_accuracy:.4f}, Val Loss: {val_loss/val_total:.4f}, Val Acc: {val_accuracy:.4f}\")\n",
        "\n",
        "    # Save the best model\n",
        "    if val_loss < best_val_loss:\n",
        "        best_val_loss = val_loss\n",
        "        torch.save(model.state_dict(), 'best_model_cross_attention.pth')\n",
        "\n",
        "# Testing the model\n",
        "model.load_state_dict(torch.load('best_model_cross_attention.pth'))\n",
        "model.eval()\n",
        "test_loss, test_correct, test_total = 0, 0, 0\n",
        "with torch.no_grad():\n",
        "    for before_feats, after_feats, text_feats, labels in test_loader:\n",
        "        before_feats, after_feats, text_feats, labels = before_feats.to(device), after_feats.to(device), text_feats.to(device), labels.to(device)\n",
        "        outputs = model(before_feats, after_feats, text_feats)\n",
        "        loss = criterion(outputs.squeeze(1), labels)\n",
        "        test_loss += loss.item()\n",
        "        test_correct += (torch.sigmoid(outputs) >= 0.5).eq(labels).sum().item()\n",
        "        test_total += labels.size(0)\n",
        "\n",
        "test_accuracy = test_correct / test_total\n",
        "print(f\"Test Loss: {test_loss/test_total:.4f}, Test Acc: {test_accuracy:.4f}\")\n"
      ],
      "metadata": {
        "colab": {
          "base_uri": "https://localhost:8080/"
        },
        "id": "j135erWaZ0Wa",
        "outputId": "761dd225-7f10-4b14-9726-842e6f7889ce"
      },
      "execution_count": null,
      "outputs": [
        {
          "output_type": "stream",
          "name": "stdout",
          "text": [
            "Epoch 1/100, Train Loss: 0.0098, Train Acc: 32.6966, Val Loss: 0.0431, Val Acc: 35.9953\n",
            "Epoch 2/100, Train Loss: 0.0090, Train Acc: 32.4594, Val Loss: 0.0132, Val Acc: 28.3046\n",
            "Epoch 3/100, Train Loss: 0.0085, Train Acc: 32.3402, Val Loss: 0.0153, Val Acc: 28.5212\n",
            "Epoch 4/100, Train Loss: 0.0081, Train Acc: 32.3984, Val Loss: 0.0171, Val Acc: 31.8399\n",
            "Epoch 5/100, Train Loss: 0.0077, Train Acc: 32.3123, Val Loss: 0.0715, Val Acc: 35.9953\n",
            "Epoch 6/100, Train Loss: 0.0075, Train Acc: 32.2860, Val Loss: 0.0319, Val Acc: 35.9953\n",
            "Epoch 7/100, Train Loss: 0.0071, Train Acc: 32.3223, Val Loss: 0.0526, Val Acc: 35.9953\n",
            "Epoch 8/100, Train Loss: 0.0068, Train Acc: 32.2939, Val Loss: 0.1759, Val Acc: 27.7300\n",
            "Epoch 9/100, Train Loss: 0.0067, Train Acc: 32.3520, Val Loss: 0.0143, Val Acc: 33.9027\n",
            "Epoch 10/100, Train Loss: 0.0064, Train Acc: 32.2764, Val Loss: 0.0170, Val Acc: 34.2041\n",
            "Epoch 11/100, Train Loss: 0.0062, Train Acc: 32.4261, Val Loss: 0.0282, Val Acc: 28.0502\n",
            "Epoch 12/100, Train Loss: 0.0060, Train Acc: 32.3000, Val Loss: 0.2332, Val Acc: 35.9953\n",
            "Epoch 13/100, Train Loss: 0.0059, Train Acc: 32.3406, Val Loss: 0.0193, Val Acc: 29.4474\n",
            "Epoch 14/100, Train Loss: 0.0057, Train Acc: 32.3163, Val Loss: 0.1109, Val Acc: 35.9984\n",
            "Epoch 15/100, Train Loss: 0.0056, Train Acc: 32.3456, Val Loss: 0.0397, Val Acc: 34.9027\n",
            "Epoch 16/100, Train Loss: 0.0054, Train Acc: 32.3316, Val Loss: 0.0368, Val Acc: 33.6703\n",
            "Epoch 17/100, Train Loss: 0.0054, Train Acc: 32.3382, Val Loss: 0.0225, Val Acc: 35.2198\n",
            "Epoch 18/100, Train Loss: 0.0052, Train Acc: 32.3888, Val Loss: 0.0178, Val Acc: 30.3987\n",
            "Epoch 19/100, Train Loss: 0.0050, Train Acc: 32.3780, Val Loss: 0.0471, Val Acc: 35.3359\n",
            "Epoch 20/100, Train Loss: 0.0050, Train Acc: 32.3908, Val Loss: 0.1143, Val Acc: 28.6279\n",
            "Epoch 21/100, Train Loss: 0.0049, Train Acc: 32.3528, Val Loss: 0.0170, Val Acc: 34.6107\n",
            "Epoch 22/100, Train Loss: 0.0048, Train Acc: 32.3934, Val Loss: 0.3175, Val Acc: 35.9953\n",
            "Epoch 23/100, Train Loss: 0.0046, Train Acc: 32.4312, Val Loss: 0.0331, Val Acc: 33.4097\n",
            "Epoch 24/100, Train Loss: 0.0047, Train Acc: 32.4561, Val Loss: 0.0225, Val Acc: 34.1005\n",
            "Epoch 25/100, Train Loss: 0.0046, Train Acc: 32.4242, Val Loss: 0.1238, Val Acc: 35.9953\n",
            "Epoch 26/100, Train Loss: 0.0045, Train Acc: 32.4372, Val Loss: 0.0309, Val Acc: 35.4804\n",
            "Epoch 27/100, Train Loss: 0.0044, Train Acc: 32.4577, Val Loss: 0.0382, Val Acc: 34.4631\n",
            "Epoch 28/100, Train Loss: 0.0043, Train Acc: 32.4945, Val Loss: 0.0154, Val Acc: 33.8336\n",
            "Epoch 29/100, Train Loss: 0.0042, Train Acc: 32.4452, Val Loss: 0.0237, Val Acc: 34.0832\n",
            "Epoch 30/100, Train Loss: 0.0042, Train Acc: 32.4610, Val Loss: 0.0320, Val Acc: 34.9498\n",
            "Epoch 31/100, Train Loss: 0.0042, Train Acc: 32.4783, Val Loss: 0.0322, Val Acc: 30.2166\n",
            "Epoch 32/100, Train Loss: 0.0041, Train Acc: 32.4639, Val Loss: 0.0415, Val Acc: 34.2512\n",
            "Epoch 33/100, Train Loss: 0.0040, Train Acc: 32.4808, Val Loss: 0.0901, Val Acc: 34.2088\n",
            "Epoch 34/100, Train Loss: 0.0040, Train Acc: 32.5029, Val Loss: 0.0348, Val Acc: 33.2936\n",
            "Epoch 35/100, Train Loss: 0.0039, Train Acc: 32.4751, Val Loss: 0.0231, Val Acc: 35.3155\n",
            "Epoch 36/100, Train Loss: 0.0039, Train Acc: 32.4919, Val Loss: 0.0149, Val Acc: 32.6876\n",
            "Epoch 37/100, Train Loss: 0.0039, Train Acc: 32.4970, Val Loss: 0.1284, Val Acc: 35.9827\n",
            "Epoch 38/100, Train Loss: 0.0037, Train Acc: 32.4870, Val Loss: 0.0298, Val Acc: 28.7316\n",
            "Epoch 39/100, Train Loss: 0.0038, Train Acc: 32.4873, Val Loss: 0.0402, Val Acc: 33.9419\n",
            "Epoch 40/100, Train Loss: 0.0037, Train Acc: 32.5579, Val Loss: 0.0243, Val Acc: 30.0612\n",
            "Epoch 41/100, Train Loss: 0.0037, Train Acc: 32.5240, Val Loss: 0.0179, Val Acc: 33.4647\n",
            "Epoch 42/100, Train Loss: 0.0036, Train Acc: 32.5822, Val Loss: 0.0176, Val Acc: 30.2512\n",
            "Epoch 43/100, Train Loss: 0.0036, Train Acc: 32.5409, Val Loss: 0.1750, Val Acc: 35.9953\n",
            "Epoch 44/100, Train Loss: 0.0036, Train Acc: 32.5338, Val Loss: 0.0430, Val Acc: 29.4223\n",
            "Epoch 45/100, Train Loss: 0.0036, Train Acc: 32.5427, Val Loss: 0.0728, Val Acc: 34.4568\n",
            "Epoch 46/100, Train Loss: 0.0036, Train Acc: 32.6386, Val Loss: 0.0592, Val Acc: 33.2747\n",
            "Epoch 47/100, Train Loss: 0.0035, Train Acc: 32.5596, Val Loss: 0.0540, Val Acc: 34.3187\n",
            "Epoch 48/100, Train Loss: 0.0035, Train Acc: 32.5499, Val Loss: 0.2431, Val Acc: 35.9294\n",
            "Epoch 49/100, Train Loss: 0.0034, Train Acc: 32.5852, Val Loss: 0.1281, Val Acc: 35.9953\n",
            "Epoch 50/100, Train Loss: 0.0035, Train Acc: 32.6547, Val Loss: 0.1438, Val Acc: 34.8995\n",
            "Epoch 51/100, Train Loss: 0.0034, Train Acc: 32.6319, Val Loss: 0.4495, Val Acc: 35.9953\n",
            "Epoch 52/100, Train Loss: 0.0035, Train Acc: 32.6219, Val Loss: 0.0476, Val Acc: 31.4474\n",
            "Epoch 53/100, Train Loss: 0.0034, Train Acc: 32.6121, Val Loss: 0.0755, Val Acc: 35.7316\n",
            "Epoch 54/100, Train Loss: 0.0033, Train Acc: 32.5882, Val Loss: 0.0699, Val Acc: 35.3878\n",
            "Epoch 55/100, Train Loss: 0.0033, Train Acc: 32.5507, Val Loss: 0.0746, Val Acc: 34.4254\n",
            "Epoch 56/100, Train Loss: 0.0033, Train Acc: 32.5660, Val Loss: 0.1001, Val Acc: 32.9623\n",
            "Epoch 57/100, Train Loss: 0.0033, Train Acc: 32.5666, Val Loss: 0.0402, Val Acc: 32.8964\n",
            "Epoch 58/100, Train Loss: 0.0032, Train Acc: 32.6291, Val Loss: 0.1072, Val Acc: 33.5620\n",
            "Epoch 59/100, Train Loss: 0.0032, Train Acc: 32.6227, Val Loss: 0.1116, Val Acc: 33.2072\n",
            "Epoch 60/100, Train Loss: 0.0032, Train Acc: 32.6429, Val Loss: 0.2708, Val Acc: 35.4176\n",
            "Epoch 61/100, Train Loss: 0.0033, Train Acc: 32.6739, Val Loss: 0.1023, Val Acc: 33.3454\n",
            "Epoch 62/100, Train Loss: 0.0031, Train Acc: 32.6914, Val Loss: 0.1035, Val Acc: 34.4772\n",
            "Epoch 63/100, Train Loss: 0.0032, Train Acc: 32.6277, Val Loss: 0.2214, Val Acc: 35.2794\n",
            "Epoch 64/100, Train Loss: 0.0031, Train Acc: 32.6778, Val Loss: 0.0493, Val Acc: 34.9780\n",
            "Epoch 65/100, Train Loss: 0.0032, Train Acc: 32.6165, Val Loss: 0.0839, Val Acc: 35.8666\n",
            "Epoch 66/100, Train Loss: 0.0031, Train Acc: 32.6713, Val Loss: 0.1135, Val Acc: 35.1821\n",
            "Epoch 67/100, Train Loss: 0.0031, Train Acc: 32.6500, Val Loss: 0.1628, Val Acc: 35.9953\n",
            "Epoch 68/100, Train Loss: 0.0030, Train Acc: 32.6541, Val Loss: 0.1100, Val Acc: 35.6342\n",
            "Epoch 69/100, Train Loss: 0.0031, Train Acc: 32.6678, Val Loss: 0.0408, Val Acc: 33.1146\n",
            "Epoch 70/100, Train Loss: 0.0031, Train Acc: 32.6434, Val Loss: 0.0743, Val Acc: 35.7064\n",
            "Epoch 71/100, Train Loss: 0.0031, Train Acc: 32.6755, Val Loss: 0.1403, Val Acc: 35.8242\n",
            "Epoch 72/100, Train Loss: 0.0030, Train Acc: 32.7362, Val Loss: 0.1090, Val Acc: 34.6170\n",
            "Epoch 73/100, Train Loss: 0.0030, Train Acc: 32.6149, Val Loss: 0.0782, Val Acc: 33.4631\n",
            "Epoch 74/100, Train Loss: 0.0030, Train Acc: 32.6784, Val Loss: 0.1937, Val Acc: 34.6138\n",
            "Epoch 75/100, Train Loss: 0.0030, Train Acc: 32.7291, Val Loss: 0.4411, Val Acc: 35.4898\n",
            "Epoch 76/100, Train Loss: 0.0030, Train Acc: 32.6503, Val Loss: 0.3374, Val Acc: 35.2920\n",
            "Epoch 77/100, Train Loss: 0.0029, Train Acc: 32.6344, Val Loss: 0.1335, Val Acc: 33.0408\n",
            "Epoch 78/100, Train Loss: 0.0030, Train Acc: 32.6036, Val Loss: 0.2005, Val Acc: 33.8069\n",
            "Epoch 79/100, Train Loss: 0.0030, Train Acc: 32.6202, Val Loss: 0.3687, Val Acc: 34.8744\n",
            "Epoch 80/100, Train Loss: 0.0030, Train Acc: 32.6543, Val Loss: 0.1438, Val Acc: 34.7206\n",
            "Epoch 81/100, Train Loss: 0.0029, Train Acc: 32.7190, Val Loss: 0.6502, Val Acc: 35.9733\n",
            "Epoch 82/100, Train Loss: 0.0029, Train Acc: 32.6450, Val Loss: 0.2328, Val Acc: 35.8226\n",
            "Epoch 83/100, Train Loss: 0.0029, Train Acc: 32.6941, Val Loss: 0.1350, Val Acc: 35.5981\n",
            "Epoch 84/100, Train Loss: 0.0029, Train Acc: 32.6075, Val Loss: 0.4070, Val Acc: 35.9953\n",
            "Epoch 85/100, Train Loss: 0.0029, Train Acc: 32.6715, Val Loss: 0.4222, Val Acc: 35.9953\n",
            "Epoch 86/100, Train Loss: 0.0028, Train Acc: 32.6920, Val Loss: 0.1536, Val Acc: 34.4097\n",
            "Epoch 87/100, Train Loss: 0.0029, Train Acc: 32.6443, Val Loss: 0.2184, Val Acc: 35.2606\n",
            "Epoch 88/100, Train Loss: 0.0029, Train Acc: 32.7203, Val Loss: 0.1561, Val Acc: 35.7755\n",
            "Epoch 89/100, Train Loss: 0.0029, Train Acc: 32.7939, Val Loss: 0.0914, Val Acc: 34.8948\n",
            "Epoch 90/100, Train Loss: 0.0028, Train Acc: 32.6731, Val Loss: 0.1531, Val Acc: 32.7692\n",
            "Epoch 91/100, Train Loss: 0.0029, Train Acc: 32.6851, Val Loss: 0.0714, Val Acc: 29.4286\n",
            "Epoch 92/100, Train Loss: 0.0028, Train Acc: 32.6480, Val Loss: 0.2306, Val Acc: 34.7520\n",
            "Epoch 93/100, Train Loss: 0.0027, Train Acc: 32.6551, Val Loss: 0.1302, Val Acc: 33.6374\n",
            "Epoch 94/100, Train Loss: 0.0028, Train Acc: 32.7133, Val Loss: 0.2071, Val Acc: 34.5479\n",
            "Epoch 95/100, Train Loss: 0.0029, Train Acc: 32.6956, Val Loss: 0.1778, Val Acc: 31.7818\n",
            "Epoch 96/100, Train Loss: 0.0028, Train Acc: 32.6443, Val Loss: 0.3603, Val Acc: 35.9341\n",
            "Epoch 97/100, Train Loss: 0.0028, Train Acc: 32.6923, Val Loss: 0.1516, Val Acc: 31.6860\n",
            "Epoch 98/100, Train Loss: 0.0028, Train Acc: 32.6487, Val Loss: 0.5108, Val Acc: 35.9953\n",
            "Epoch 99/100, Train Loss: 0.0027, Train Acc: 32.6731, Val Loss: 0.0826, Val Acc: 33.9027\n",
            "Epoch 100/100, Train Loss: 0.0028, Train Acc: 32.6738, Val Loss: 0.2661, Val Acc: 35.1711\n",
            "Test Loss: 0.0130, Test Acc: 28.3390\n"
          ]
        }
      ]
    }
  ],
  "metadata": {
    "colab": {
      "provenance": [],
      "gpuType": "T4"
    },
    "kernelspec": {
      "display_name": "Python 3",
      "name": "python3"
    },
    "language_info": {
      "name": "python"
    },
    "accelerator": "GPU"
  },
  "nbformat": 4,
  "nbformat_minor": 0
}