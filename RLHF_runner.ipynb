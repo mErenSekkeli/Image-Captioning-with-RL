{
  "cells": [
    {
      "cell_type": "code",
      "execution_count": null,
      "metadata": {
        "colab": {
          "base_uri": "https://localhost:8080/",
          "height": 355
        },
        "id": "3n3gfVPL0DYx",
        "outputId": "accbc2c4-8cd6-4879-aa67-370eb7b0cb89"
      },
      "outputs": [
        {
          "output_type": "error",
          "ename": "MessageError",
          "evalue": "ignored",
          "traceback": [
            "\u001b[0;31m---------------------------------------------------------------------------\u001b[0m",
            "\u001b[0;31mMessageError\u001b[0m                              Traceback (most recent call last)",
            "\u001b[0;32m<ipython-input-1-d5df0069828e>\u001b[0m in \u001b[0;36m<cell line: 2>\u001b[0;34m()\u001b[0m\n\u001b[1;32m      1\u001b[0m \u001b[0;32mfrom\u001b[0m \u001b[0mgoogle\u001b[0m\u001b[0;34m.\u001b[0m\u001b[0mcolab\u001b[0m \u001b[0;32mimport\u001b[0m \u001b[0mdrive\u001b[0m\u001b[0;34m\u001b[0m\u001b[0;34m\u001b[0m\u001b[0m\n\u001b[0;32m----> 2\u001b[0;31m \u001b[0mdrive\u001b[0m\u001b[0;34m.\u001b[0m\u001b[0mmount\u001b[0m\u001b[0;34m(\u001b[0m\u001b[0;34m'/content/drive'\u001b[0m\u001b[0;34m)\u001b[0m\u001b[0;34m\u001b[0m\u001b[0;34m\u001b[0m\u001b[0m\n\u001b[0m",
            "\u001b[0;32m/usr/local/lib/python3.10/dist-packages/google/colab/drive.py\u001b[0m in \u001b[0;36mmount\u001b[0;34m(mountpoint, force_remount, timeout_ms, readonly)\u001b[0m\n\u001b[1;32m     98\u001b[0m \u001b[0;32mdef\u001b[0m \u001b[0mmount\u001b[0m\u001b[0;34m(\u001b[0m\u001b[0mmountpoint\u001b[0m\u001b[0;34m,\u001b[0m \u001b[0mforce_remount\u001b[0m\u001b[0;34m=\u001b[0m\u001b[0;32mFalse\u001b[0m\u001b[0;34m,\u001b[0m \u001b[0mtimeout_ms\u001b[0m\u001b[0;34m=\u001b[0m\u001b[0;36m120000\u001b[0m\u001b[0;34m,\u001b[0m \u001b[0mreadonly\u001b[0m\u001b[0;34m=\u001b[0m\u001b[0;32mFalse\u001b[0m\u001b[0;34m)\u001b[0m\u001b[0;34m:\u001b[0m\u001b[0;34m\u001b[0m\u001b[0;34m\u001b[0m\u001b[0m\n\u001b[1;32m     99\u001b[0m   \u001b[0;34m\"\"\"Mount your Google Drive at the specified mountpoint path.\"\"\"\u001b[0m\u001b[0;34m\u001b[0m\u001b[0;34m\u001b[0m\u001b[0m\n\u001b[0;32m--> 100\u001b[0;31m   return _mount(\n\u001b[0m\u001b[1;32m    101\u001b[0m       \u001b[0mmountpoint\u001b[0m\u001b[0;34m,\u001b[0m\u001b[0;34m\u001b[0m\u001b[0;34m\u001b[0m\u001b[0m\n\u001b[1;32m    102\u001b[0m       \u001b[0mforce_remount\u001b[0m\u001b[0;34m=\u001b[0m\u001b[0mforce_remount\u001b[0m\u001b[0;34m,\u001b[0m\u001b[0;34m\u001b[0m\u001b[0;34m\u001b[0m\u001b[0m\n",
            "\u001b[0;32m/usr/local/lib/python3.10/dist-packages/google/colab/drive.py\u001b[0m in \u001b[0;36m_mount\u001b[0;34m(mountpoint, force_remount, timeout_ms, ephemeral, readonly)\u001b[0m\n\u001b[1;32m    127\u001b[0m   )\n\u001b[1;32m    128\u001b[0m   \u001b[0;32mif\u001b[0m \u001b[0mephemeral\u001b[0m\u001b[0;34m:\u001b[0m\u001b[0;34m\u001b[0m\u001b[0;34m\u001b[0m\u001b[0m\n\u001b[0;32m--> 129\u001b[0;31m     _message.blocking_request(\n\u001b[0m\u001b[1;32m    130\u001b[0m         \u001b[0;34m'request_auth'\u001b[0m\u001b[0;34m,\u001b[0m \u001b[0mrequest\u001b[0m\u001b[0;34m=\u001b[0m\u001b[0;34m{\u001b[0m\u001b[0;34m'authType'\u001b[0m\u001b[0;34m:\u001b[0m \u001b[0;34m'dfs_ephemeral'\u001b[0m\u001b[0;34m}\u001b[0m\u001b[0;34m,\u001b[0m \u001b[0mtimeout_sec\u001b[0m\u001b[0;34m=\u001b[0m\u001b[0;32mNone\u001b[0m\u001b[0;34m\u001b[0m\u001b[0;34m\u001b[0m\u001b[0m\n\u001b[1;32m    131\u001b[0m     )\n",
            "\u001b[0;32m/usr/local/lib/python3.10/dist-packages/google/colab/_message.py\u001b[0m in \u001b[0;36mblocking_request\u001b[0;34m(request_type, request, timeout_sec, parent)\u001b[0m\n\u001b[1;32m    174\u001b[0m       \u001b[0mrequest_type\u001b[0m\u001b[0;34m,\u001b[0m \u001b[0mrequest\u001b[0m\u001b[0;34m,\u001b[0m \u001b[0mparent\u001b[0m\u001b[0;34m=\u001b[0m\u001b[0mparent\u001b[0m\u001b[0;34m,\u001b[0m \u001b[0mexpect_reply\u001b[0m\u001b[0;34m=\u001b[0m\u001b[0;32mTrue\u001b[0m\u001b[0;34m\u001b[0m\u001b[0;34m\u001b[0m\u001b[0m\n\u001b[1;32m    175\u001b[0m   )\n\u001b[0;32m--> 176\u001b[0;31m   \u001b[0;32mreturn\u001b[0m \u001b[0mread_reply_from_input\u001b[0m\u001b[0;34m(\u001b[0m\u001b[0mrequest_id\u001b[0m\u001b[0;34m,\u001b[0m \u001b[0mtimeout_sec\u001b[0m\u001b[0;34m)\u001b[0m\u001b[0;34m\u001b[0m\u001b[0;34m\u001b[0m\u001b[0m\n\u001b[0m",
            "\u001b[0;32m/usr/local/lib/python3.10/dist-packages/google/colab/_message.py\u001b[0m in \u001b[0;36mread_reply_from_input\u001b[0;34m(message_id, timeout_sec)\u001b[0m\n\u001b[1;32m    101\u001b[0m     ):\n\u001b[1;32m    102\u001b[0m       \u001b[0;32mif\u001b[0m \u001b[0;34m'error'\u001b[0m \u001b[0;32min\u001b[0m \u001b[0mreply\u001b[0m\u001b[0;34m:\u001b[0m\u001b[0;34m\u001b[0m\u001b[0;34m\u001b[0m\u001b[0m\n\u001b[0;32m--> 103\u001b[0;31m         \u001b[0;32mraise\u001b[0m \u001b[0mMessageError\u001b[0m\u001b[0;34m(\u001b[0m\u001b[0mreply\u001b[0m\u001b[0;34m[\u001b[0m\u001b[0;34m'error'\u001b[0m\u001b[0;34m]\u001b[0m\u001b[0;34m)\u001b[0m\u001b[0;34m\u001b[0m\u001b[0;34m\u001b[0m\u001b[0m\n\u001b[0m\u001b[1;32m    104\u001b[0m       \u001b[0;32mreturn\u001b[0m \u001b[0mreply\u001b[0m\u001b[0;34m.\u001b[0m\u001b[0mget\u001b[0m\u001b[0;34m(\u001b[0m\u001b[0;34m'data'\u001b[0m\u001b[0;34m,\u001b[0m \u001b[0;32mNone\u001b[0m\u001b[0;34m)\u001b[0m\u001b[0;34m\u001b[0m\u001b[0;34m\u001b[0m\u001b[0m\n\u001b[1;32m    105\u001b[0m \u001b[0;34m\u001b[0m\u001b[0m\n",
            "\u001b[0;31mMessageError\u001b[0m: Error: credential propagation was unsuccessful"
          ]
        }
      ],
      "source": [
        "from google.colab import drive\n",
        "drive.mount('/content/drive')"
      ]
    },
    {
      "cell_type": "code",
      "execution_count": null,
      "metadata": {
        "colab": {
          "base_uri": "https://localhost:8080/"
        },
        "id": "a9ntsSRgzfbz",
        "outputId": "fe7ecd2b-c7d0-4a59-b3a8-bc41221a66ea"
      },
      "outputs": [
        {
          "output_type": "stream",
          "name": "stdout",
          "text": [
            "/content/drive/My Drive/Colab Notebooks/RLHF_final\n",
            "best_model.h5  data  extract_features.py  load_data.py\t__pycache__\n"
          ]
        }
      ],
      "source": [
        "FOLDERNAME = 'Colab Notebooks/RLHF_final'\n",
        "%cd /content/drive/My\\ Drive/$FOLDERNAME/\n",
        "!ls"
      ]
    },
    {
      "cell_type": "code",
      "execution_count": null,
      "metadata": {
        "colab": {
          "base_uri": "https://localhost:8080/"
        },
        "id": "85vukA2JEeTX",
        "outputId": "6c590824-dfbf-40fd-e4c7-9ab6135a0f34"
      },
      "outputs": [
        {
          "name": "stdout",
          "output_type": "stream",
          "text": [
            "Traceback (most recent call last):\n",
            "  File \"/content/drive/My Drive/Colab Notebooks/RLHF_final/extract_features.py\", line 79, in <module>\n",
            "    main()\n",
            "  File \"/content/drive/My Drive/Colab Notebooks/RLHF_final/extract_features.py\", line 63, in main\n",
            "    raise Exception(\"Features already extracted\")\n",
            "Exception: Features already extracted\n"
          ]
        }
      ],
      "source": [
        "!python extract_features.py"
      ]
    },
    {
      "cell_type": "code",
      "execution_count": null,
      "metadata": {
        "colab": {
          "base_uri": "https://localhost:8080/"
        },
        "id": "ajKyHgeQcjCF",
        "outputId": "a008dd0a-ece8-48ae-b810-aff94b45e68f"
      },
      "outputs": [
        {
          "output_type": "stream",
          "name": "stdout",
          "text": [
            "/content/drive/My Drive/Colab Notebooks/RLHF_final\n"
          ]
        },
        {
          "output_type": "execute_result",
          "data": {
            "text/plain": [
              "263"
            ]
          },
          "metadata": {},
          "execution_count": 3
        }
      ],
      "source": [
        "%cd /content/drive/My\\ Drive/$FOLDERNAME/\n",
        "from load_data import load_json_data\n",
        "\n",
        "# Load data\n",
        "data1 = load_json_data(\"data/result.json\", 1000, 1099)\n",
        "data2 = load_json_data(\"data/result.json\", 1200, 1299)\n",
        "data3 = load_json_data(\"data/result.json\", 1400, 1459)\n",
        "\n",
        "data = data1 + data2 + data3\n",
        "len(data)"
      ]
    },
    {
      "cell_type": "code",
      "execution_count": null,
      "metadata": {
        "colab": {
          "base_uri": "https://localhost:8080/"
        },
        "id": "4pTl9I8nFnDp",
        "outputId": "28332f96-723a-4304-d98d-3a953e333a19"
      },
      "outputs": [
        {
          "output_type": "execute_result",
          "data": {
            "text/plain": [
              "((1052, 2048), (1052, 2048))"
            ]
          },
          "metadata": {},
          "execution_count": 4
        }
      ],
      "source": [
        "import numpy as np\n",
        "\n",
        "features_im1 = np.load(f\"data/features/im1.npy\")\n",
        "\n",
        "features_im1_1 = features_im1[0:404]\n",
        "features_im1_2 = features_im1[800:1204]\n",
        "features_im1_3 = features_im1[1600:1844]\n",
        "\n",
        "features_im1 = np.concatenate((features_im1_1, features_im1_2, features_im1_3)).reshape((1052, 2048))\n",
        "\n",
        "features_im2 = np.load(f\"data/features/im2.npy\")\n",
        "\n",
        "features_im2_1 = features_im2[0:404]\n",
        "features_im2_2 = features_im2[800:1204]\n",
        "features_im2_3 = features_im2[1600:1844]\n",
        "\n",
        "features_im2 = np.concatenate((features_im2_1, features_im2_2, features_im2_3)).reshape((1052, 2048))\n",
        "\n",
        "features_im1.shape, features_im2.shape"
      ]
    },
    {
      "cell_type": "markdown",
      "metadata": {
        "id": "wj9WF5w4FoGk"
      },
      "source": [
        "#### Encoding The Sentences With BERT model"
      ]
    },
    {
      "cell_type": "code",
      "execution_count": null,
      "metadata": {
        "colab": {
          "base_uri": "https://localhost:8080/",
          "height": 49,
          "referenced_widgets": [
            "ed00d77238894fd99843c78cde4c12a1",
            "0282d10e51724e66931a0bcdcc831963",
            "784f8dd1f7f448f0bbecee40cabce8cc",
            "7721b980d9de42d19dcc857abf149bf4",
            "92cf17e1ada44dcbade3591b063d16ca",
            "4a9178683afb466e8e64b2f794e83f00",
            "b0d9cea045b74a3f97dbae39b645cdaf",
            "184fbae3df5e41a0a80d7e30d7070ffe",
            "6356bdc0d797401aa638f6d74f7741d0",
            "5a346f30e3644c5aa7f467204a09ba37",
            "dd1a8b7ec79d4e73ae399c04ffab121e"
          ]
        },
        "id": "-NJEdv1wFv0q",
        "outputId": "ea271bf1-33dc-4dce-c3a3-5a23099098b9"
      },
      "outputs": [
        {
          "output_type": "display_data",
          "data": {
            "text/plain": [
              "config.json:   0%|          | 0.00/570 [00:00<?, ?B/s]"
            ],
            "application/vnd.jupyter.widget-view+json": {
              "version_major": 2,
              "version_minor": 0,
              "model_id": "ed00d77238894fd99843c78cde4c12a1"
            }
          },
          "metadata": {}
        }
      ],
      "source": [
        "import numpy as np\n",
        "import torch\n",
        "import tqdm\n",
        "from transformers import BertTokenizer, BertModel\n",
        "import os\n",
        "\n",
        "if os.path.exists(\"data/features/sentence_embeddings.npy\"):\n",
        "    sentence_embeddings = np.load(\"data/features/sentence_embeddings.npy\")\n",
        "    sentence_embeddings.shape\n",
        "    print(\"Sentence embeddings loaded from file\")\n",
        "else:\n",
        "\n",
        "  def bert_encode(sentences, bert_model, tokenizer, device, batch_size=32):\n",
        "      bert_model.to(device)\n",
        "      bert_model.eval()  # Modeli değerlendirme modunda çalıştır\n",
        "\n",
        "      # Tüm cümleleri batch'ler halinde işle\n",
        "      all_sentence_embeddings = []\n",
        "      for i in tqdm.tqdm(range(0, len(sentences), batch_size), desc=\"BERT Encoding\"):\n",
        "          batch_sentences = sentences[i:i+batch_size]\n",
        "          encoded = tokenizer.batch_encode_plus(\n",
        "              batch_sentences,\n",
        "              add_special_tokens=True,\n",
        "              max_length=512,\n",
        "              padding='max_length',\n",
        "              truncation=True,\n",
        "              return_attention_mask=True,\n",
        "              return_tensors='pt'\n",
        "          )\n",
        "\n",
        "          input_ids = encoded['input_ids'].to(device)\n",
        "          attention_mask = encoded['attention_mask'].to(device)\n",
        "\n",
        "          with torch.no_grad():\n",
        "              outputs = bert_model(input_ids, attention_mask=attention_mask)\n",
        "              sentence_embeddings = outputs[0][:, 0, :]  # [CLS] token'ın çıktısını al\n",
        "              all_sentence_embeddings.extend(sentence_embeddings.cpu().numpy())\n",
        "\n",
        "      return np.array(all_sentence_embeddings)\n",
        "\n",
        "  def collect_all_sentences(data):\n",
        "      all_sentences = []\n",
        "      sentence_lengths = []\n",
        "      for data_point in data:\n",
        "          for data_point_caption in data_point:\n",
        "              for i in range(1, 4):\n",
        "                  all_sentences.append(data_point_caption[\"sentence\" + str(i)])\n",
        "      return all_sentences\n",
        "\n",
        "\n",
        "  # Load BERT model\n",
        "  bert_model = BertModel.from_pretrained('bert-base-uncased')\n",
        "  tokenizer = BertTokenizer.from_pretrained('bert-base-uncased')\n",
        "  device = torch.device(\"cuda\" if torch.cuda.is_available() else \"cpu\")\n",
        "\n",
        "  # Collect all sentences\n",
        "  all_sentences = collect_all_sentences(data)\n",
        "\n",
        "  # Encode sentences\n",
        "  sentence_embeddings = bert_encode(all_sentences, bert_model, tokenizer, device, batch_size=128)\n",
        "\n",
        "  #free gpu memory\n",
        "  if torch.cuda.is_available():\n",
        "      torch.cuda.empty_cache()\n",
        "\n",
        "  import os\n",
        "  if not os.path.exists(\"data/features\"):\n",
        "      os.makedirs(\"data/features\")\n",
        "  np.save(\"data/features/sentence_embeddings.npy\", sentence_embeddings)\n",
        "\n",
        "\n",
        "  sentence_embeddings.shape"
      ]
    },
    {
      "cell_type": "markdown",
      "metadata": {
        "id": "DEtlcOc40e_t"
      },
      "source": [
        "#### Prepare Training Data"
      ]
    },
    {
      "cell_type": "code",
      "execution_count": null,
      "metadata": {
        "colab": {
          "base_uri": "https://localhost:8080/"
        },
        "id": "Smhpf1020g0A",
        "outputId": "13e91965-a7b1-426b-8f62-b84b66d5aa1b"
      },
      "outputs": [
        {
          "output_type": "execute_result",
          "data": {
            "text/plain": [
              "(6252,)"
            ]
          },
          "metadata": {},
          "execution_count": 6
        }
      ],
      "source": [
        "combined_features = []\n",
        "combined_labels = []\n",
        "slider_values = []\n",
        "\n",
        "for data_point in data:\n",
        "    for i in range(0, 4):\n",
        "        for j in range(1, 4):\n",
        "            slider_values.append(data_point[i][\"slider\" + str(j)])\n",
        "\n",
        "slider_values = np.array(slider_values)\n",
        "slider_values.shape"
      ]
    },
    {
      "cell_type": "markdown",
      "source": [
        "#### Categorize the data between 0 and 2\n",
        "* If you want to reduce prediction range then run given below cell"
      ],
      "metadata": {
        "id": "RdBcrFdR0pEI"
      }
    },
    {
      "cell_type": "code",
      "source": [
        "def categorize_labels(value):\n",
        "    if value <= -2:\n",
        "        return 0\n",
        "    elif value >= 2:\n",
        "        return 2\n",
        "    else:\n",
        "        return 1\n",
        "\n",
        "slider_values = np.array([categorize_labels(value) for value in slider_values])\n",
        "slider_values[0]"
      ],
      "metadata": {
        "colab": {
          "base_uri": "https://localhost:8080/"
        },
        "id": "jj8kRyey02xv",
        "outputId": "09205491-307b-4d3e-c7a4-62fc4b64b495"
      },
      "execution_count": null,
      "outputs": [
        {
          "output_type": "execute_result",
          "data": {
            "text/plain": [
              "2"
            ]
          },
          "metadata": {},
          "execution_count": 7
        }
      ]
    },
    {
      "cell_type": "code",
      "execution_count": null,
      "metadata": {
        "colab": {
          "base_uri": "https://localhost:8080/"
        },
        "id": "8VjcBCWwQ5Bh",
        "outputId": "363c0b84-33bb-4129-9464-a743e0f3cdcc"
      },
      "outputs": [
        {
          "output_type": "execute_result",
          "data": {
            "text/plain": [
              "(6252, 4864)"
            ]
          },
          "metadata": {},
          "execution_count": 8
        }
      ],
      "source": [
        "import numpy as np\n",
        "from sklearn.model_selection import train_test_split\n",
        "import torch\n",
        "from torch.nn.functional import normalize\n",
        "\n",
        "# Assuming the following shapes\n",
        "# before_feature.shape = (2084, 2048)\n",
        "# after_feature.shape = (2084, 2048)\n",
        "# bert_encoded_sentences.shape = (6252, 768)\n",
        "# slider_values.shape = (6252,)\n",
        "\n",
        "before_features_tensor = torch.tensor(features_im1, dtype=torch.float32)\n",
        "after_features_tensor = torch.tensor(features_im2, dtype=torch.float32)\n",
        "bert_encoded_sentences_tensor = torch.tensor(sentence_embeddings, dtype=torch.float32)\n",
        "\n",
        "before_features_norm = normalize(before_features_tensor, p = 2, dim = 1)\n",
        "after_features_norm = normalize(after_features_tensor, p = 2, dim = 1)\n",
        "sentences_norm = normalize(bert_encoded_sentences_tensor, p=2, dim=1)\n",
        "\n",
        "before_features_repeated = before_features_norm.repeat_interleave(3, dim=0)\n",
        "after_features_repeated = after_features_norm.repeat_interleave(3, dim=0)\n",
        "\n",
        "combined_features = torch.cat([before_features_repeated, after_features_repeated, sentences_norm], dim = 1)\n",
        "\n",
        "combined_features = combined_features.numpy()\n",
        "\n",
        "# Shuffle and split the data\n",
        "X_train, X_test, y_train, y_test = train_test_split(combined_features, slider_values, test_size=0.2, random_state=42, shuffle=True)\n",
        "\n",
        "combined_features.shape"
      ]
    },
    {
      "cell_type": "markdown",
      "metadata": {
        "id": "h3ROcD3mY61r"
      },
      "source": [
        "#### Scaling The Data\n",
        "* If you've already used normalizing the data via pytorch, don't use the StandardScaler"
      ]
    },
    {
      "cell_type": "code",
      "execution_count": null,
      "metadata": {
        "colab": {
          "base_uri": "https://localhost:8080/"
        },
        "id": "rCrhcb97Y6F7",
        "outputId": "8cc06ad3-bfa1-47f4-a000-f24f9ac191fa"
      },
      "outputs": [
        {
          "data": {
            "text/plain": [
              "array([-0.8220586 , -0.84335107,  1.2922608 , ...,  0.2619933 ,\n",
              "        0.7300415 ,  0.24618685], dtype=float32)"
            ]
          },
          "execution_count": 8,
          "metadata": {},
          "output_type": "execute_result"
        }
      ],
      "source": [
        "# Scale the data\n",
        "#TODO: torch normalize\n",
        "\n",
        "from sklearn.preprocessing import StandardScaler\n",
        "scaler = StandardScaler()\n",
        "scaler.fit(X_train)\n",
        "X_train = scaler.transform(X_train)\n",
        "X_test = scaler.transform(X_test)\n",
        "\n",
        "X_test[0]"
      ]
    },
    {
      "cell_type": "markdown",
      "metadata": {
        "id": "upeZ0OAvE1F5"
      },
      "source": [
        "#### Random Forest Regressor Approach"
      ]
    },
    {
      "cell_type": "code",
      "execution_count": null,
      "metadata": {
        "colab": {
          "base_uri": "https://localhost:8080/"
        },
        "id": "xEqcSHg9E305",
        "outputId": "18d3f39f-13f8-4b1f-da07-1c874cd80f04"
      },
      "outputs": [
        {
          "name": "stdout",
          "output_type": "stream",
          "text": [
            "Mean Squared Error: 10.33164139507838\n"
          ]
        }
      ],
      "source": [
        "# Random forest Regression\n",
        "from sklearn.ensemble import RandomForestRegressor\n",
        "from sklearn.metrics import mean_squared_error\n",
        "from sklearn.model_selection import train_test_split\n",
        "import numpy as np\n",
        "\n",
        "rf_regressor = RandomForestRegressor(random_state=42, n_estimators=200, n_jobs=-1)\n",
        "\n",
        "rf_regressor.fit(X_train, y_train)\n",
        "\n",
        "y_pred = rf_regressor.predict(X_test)\n",
        "\n",
        "mse = mean_squared_error(y_test, y_pred)\n",
        "print(f\"Mean Squared Error: {mse}\")"
      ]
    },
    {
      "cell_type": "markdown",
      "metadata": {
        "id": "ieAxPZDAQDPX"
      },
      "source": [
        "#### XGBoost Model Approach"
      ]
    },
    {
      "cell_type": "code",
      "execution_count": null,
      "metadata": {
        "colab": {
          "base_uri": "https://localhost:8080/"
        },
        "id": "bb4sD3QLQHEk",
        "outputId": "f9ab9702-ab16-46cd-b9cd-9ef97122379a"
      },
      "outputs": [
        {
          "name": "stdout",
          "output_type": "stream",
          "text": [
            "Fitting 3 folds for each of 54 candidates, totalling 162 fits\n"
          ]
        },
        {
          "name": "stderr",
          "output_type": "stream",
          "text": [
            "/usr/local/lib/python3.10/dist-packages/xgboost/core.py:160: UserWarning: [09:50:00] WARNING: /workspace/src/common/error_msg.cc:58: Falling back to prediction using DMatrix due to mismatched devices. This might lead to higher memory usage and slower performance. XGBoost is running on: cuda:0, while the input data is on: cpu.\n",
            "Potential solutions:\n",
            "- Use a data structure that matches the device ordinal in the booster.\n",
            "- Set the device for booster before call to inplace_predict.\n",
            "\n",
            "This warning will only be shown once.\n",
            "\n",
            "  warnings.warn(smsg, UserWarning)\n"
          ]
        },
        {
          "name": "stdout",
          "output_type": "stream",
          "text": [
            "[CV] END learning_rate=0.0001, max_depth=3, n_estimators=100, subsample=0.8; total time=   5.8s\n",
            "[CV] END learning_rate=0.0001, max_depth=3, n_estimators=100, subsample=0.8; total time=   6.8s\n",
            "[CV] END learning_rate=0.0001, max_depth=3, n_estimators=100, subsample=0.8; total time=   6.6s\n",
            "[CV] END learning_rate=0.0001, max_depth=3, n_estimators=100, subsample=1; total time=   5.9s\n",
            "[CV] END learning_rate=0.0001, max_depth=3, n_estimators=100, subsample=1; total time=   7.0s\n",
            "[CV] END learning_rate=0.0001, max_depth=3, n_estimators=100, subsample=1; total time=   6.3s\n",
            "[CV] END learning_rate=0.0001, max_depth=3, n_estimators=300, subsample=0.8; total time=  10.5s\n",
            "[CV] END learning_rate=0.0001, max_depth=3, n_estimators=300, subsample=0.8; total time=   9.2s\n",
            "[CV] END learning_rate=0.0001, max_depth=3, n_estimators=300, subsample=0.8; total time=   9.8s\n",
            "[CV] END learning_rate=0.0001, max_depth=3, n_estimators=300, subsample=1; total time=   9.6s\n",
            "[CV] END learning_rate=0.0001, max_depth=3, n_estimators=300, subsample=1; total time=   9.0s\n",
            "[CV] END learning_rate=0.0001, max_depth=3, n_estimators=300, subsample=1; total time=  10.8s\n",
            "[CV] END learning_rate=0.0001, max_depth=3, n_estimators=500, subsample=0.8; total time=  12.4s\n",
            "[CV] END learning_rate=0.0001, max_depth=3, n_estimators=500, subsample=0.8; total time=  13.5s\n",
            "[CV] END learning_rate=0.0001, max_depth=3, n_estimators=500, subsample=0.8; total time=  12.8s\n",
            "[CV] END learning_rate=0.0001, max_depth=3, n_estimators=500, subsample=1; total time=  14.9s\n",
            "[CV] END learning_rate=0.0001, max_depth=3, n_estimators=500, subsample=1; total time=  13.9s\n",
            "[CV] END learning_rate=0.0001, max_depth=3, n_estimators=500, subsample=1; total time=  13.0s\n",
            "[CV] END learning_rate=0.0001, max_depth=6, n_estimators=100, subsample=0.8; total time=  16.1s\n",
            "[CV] END learning_rate=0.0001, max_depth=6, n_estimators=100, subsample=0.8; total time=  16.2s\n",
            "[CV] END learning_rate=0.0001, max_depth=6, n_estimators=100, subsample=0.8; total time=  16.7s\n",
            "[CV] END learning_rate=0.0001, max_depth=6, n_estimators=100, subsample=1; total time=  16.0s\n",
            "[CV] END learning_rate=0.0001, max_depth=6, n_estimators=100, subsample=1; total time=  15.3s\n",
            "[CV] END learning_rate=0.0001, max_depth=6, n_estimators=100, subsample=1; total time=  16.3s\n",
            "[CV] END learning_rate=0.0001, max_depth=6, n_estimators=300, subsample=0.8; total time=  40.5s\n",
            "[CV] END learning_rate=0.0001, max_depth=6, n_estimators=300, subsample=0.8; total time=  41.5s\n",
            "[CV] END learning_rate=0.0001, max_depth=6, n_estimators=300, subsample=0.8; total time=  41.5s\n",
            "[CV] END learning_rate=0.0001, max_depth=6, n_estimators=300, subsample=1; total time=  42.1s\n",
            "[CV] END learning_rate=0.0001, max_depth=6, n_estimators=300, subsample=1; total time=  38.4s\n",
            "[CV] END learning_rate=0.0001, max_depth=6, n_estimators=300, subsample=1; total time=  41.5s\n",
            "[CV] END learning_rate=0.0001, max_depth=6, n_estimators=500, subsample=0.8; total time= 1.1min\n",
            "[CV] END learning_rate=0.0001, max_depth=6, n_estimators=500, subsample=0.8; total time= 1.1min\n",
            "[CV] END learning_rate=0.0001, max_depth=6, n_estimators=500, subsample=0.8; total time= 1.1min\n",
            "[CV] END learning_rate=0.0001, max_depth=6, n_estimators=500, subsample=1; total time= 1.1min\n",
            "[CV] END learning_rate=0.0001, max_depth=6, n_estimators=500, subsample=1; total time= 1.0min\n",
            "[CV] END learning_rate=0.0001, max_depth=6, n_estimators=500, subsample=1; total time= 1.1min\n",
            "[CV] END learning_rate=0.0001, max_depth=10, n_estimators=100, subsample=0.8; total time= 1.2min\n",
            "[CV] END learning_rate=0.0001, max_depth=10, n_estimators=100, subsample=0.8; total time= 1.2min\n",
            "[CV] END learning_rate=0.0001, max_depth=10, n_estimators=100, subsample=0.8; total time= 1.2min\n",
            "[CV] END learning_rate=0.0001, max_depth=10, n_estimators=100, subsample=1; total time= 1.3min\n",
            "[CV] END learning_rate=0.0001, max_depth=10, n_estimators=100, subsample=1; total time= 1.1min\n",
            "[CV] END learning_rate=0.0001, max_depth=10, n_estimators=100, subsample=1; total time= 1.2min\n",
            "[CV] END learning_rate=0.0001, max_depth=10, n_estimators=300, subsample=0.8; total time= 3.6min\n",
            "[CV] END learning_rate=0.0001, max_depth=10, n_estimators=300, subsample=0.8; total time= 3.4min\n",
            "[CV] END learning_rate=0.0001, max_depth=10, n_estimators=300, subsample=0.8; total time= 3.6min\n",
            "[CV] END learning_rate=0.0001, max_depth=10, n_estimators=300, subsample=1; total time= 3.8min\n",
            "[CV] END learning_rate=0.0001, max_depth=10, n_estimators=300, subsample=1; total time= 3.3min\n",
            "[CV] END learning_rate=0.0001, max_depth=10, n_estimators=300, subsample=1; total time= 3.5min\n",
            "[CV] END learning_rate=0.0001, max_depth=10, n_estimators=500, subsample=0.8; total time= 5.9min\n",
            "[CV] END learning_rate=0.0001, max_depth=10, n_estimators=500, subsample=0.8; total time= 5.7min\n",
            "[CV] END learning_rate=0.0001, max_depth=10, n_estimators=500, subsample=0.8; total time= 5.9min\n",
            "[CV] END learning_rate=0.0001, max_depth=10, n_estimators=500, subsample=1; total time= 6.4min\n",
            "[CV] END learning_rate=0.0001, max_depth=10, n_estimators=500, subsample=1; total time= 5.8min\n",
            "[CV] END learning_rate=0.0001, max_depth=10, n_estimators=500, subsample=1; total time= 5.8min\n",
            "[CV] END learning_rate=0.001, max_depth=3, n_estimators=100, subsample=0.8; total time=   7.8s\n",
            "[CV] END learning_rate=0.001, max_depth=3, n_estimators=100, subsample=0.8; total time=   6.1s\n",
            "[CV] END learning_rate=0.001, max_depth=3, n_estimators=100, subsample=0.8; total time=   6.8s\n",
            "[CV] END learning_rate=0.001, max_depth=3, n_estimators=100, subsample=1; total time=   6.7s\n",
            "[CV] END learning_rate=0.001, max_depth=3, n_estimators=100, subsample=1; total time=   5.8s\n",
            "[CV] END learning_rate=0.001, max_depth=3, n_estimators=100, subsample=1; total time=   7.6s\n",
            "[CV] END learning_rate=0.001, max_depth=3, n_estimators=300, subsample=0.8; total time=   9.0s\n",
            "[CV] END learning_rate=0.001, max_depth=3, n_estimators=300, subsample=0.8; total time=  10.6s\n",
            "[CV] END learning_rate=0.001, max_depth=3, n_estimators=300, subsample=0.8; total time=   9.3s\n",
            "[CV] END learning_rate=0.001, max_depth=3, n_estimators=300, subsample=1; total time=   9.5s\n",
            "[CV] END learning_rate=0.001, max_depth=3, n_estimators=300, subsample=1; total time=   9.8s\n",
            "[CV] END learning_rate=0.001, max_depth=3, n_estimators=300, subsample=1; total time=   8.9s\n",
            "[CV] END learning_rate=0.001, max_depth=3, n_estimators=500, subsample=0.8; total time=  14.2s\n",
            "[CV] END learning_rate=0.001, max_depth=3, n_estimators=500, subsample=0.8; total time=  13.3s\n",
            "[CV] END learning_rate=0.001, max_depth=3, n_estimators=500, subsample=0.8; total time=  12.2s\n",
            "[CV] END learning_rate=0.001, max_depth=3, n_estimators=500, subsample=1; total time=  12.4s\n",
            "[CV] END learning_rate=0.001, max_depth=3, n_estimators=500, subsample=1; total time=  12.9s\n",
            "[CV] END learning_rate=0.001, max_depth=3, n_estimators=500, subsample=1; total time=  13.5s\n",
            "[CV] END learning_rate=0.001, max_depth=6, n_estimators=100, subsample=0.8; total time=  16.7s\n",
            "[CV] END learning_rate=0.001, max_depth=6, n_estimators=100, subsample=0.8; total time=  17.5s\n",
            "[CV] END learning_rate=0.001, max_depth=6, n_estimators=100, subsample=0.8; total time=  18.1s\n",
            "[CV] END learning_rate=0.001, max_depth=6, n_estimators=100, subsample=1; total time=  17.2s\n",
            "[CV] END learning_rate=0.001, max_depth=6, n_estimators=100, subsample=1; total time=  16.4s\n",
            "[CV] END learning_rate=0.001, max_depth=6, n_estimators=100, subsample=1; total time=  16.7s\n",
            "[CV] END learning_rate=0.001, max_depth=6, n_estimators=300, subsample=0.8; total time=  39.5s\n",
            "[CV] END learning_rate=0.001, max_depth=6, n_estimators=300, subsample=0.8; total time=  40.3s\n",
            "[CV] END learning_rate=0.001, max_depth=6, n_estimators=300, subsample=0.8; total time=  41.6s\n",
            "[CV] END learning_rate=0.001, max_depth=6, n_estimators=300, subsample=1; total time=  41.3s\n",
            "[CV] END learning_rate=0.001, max_depth=6, n_estimators=300, subsample=1; total time=  39.7s\n",
            "[CV] END learning_rate=0.001, max_depth=6, n_estimators=300, subsample=1; total time=  40.9s\n",
            "[CV] END learning_rate=0.001, max_depth=6, n_estimators=500, subsample=0.8; total time= 1.0min\n",
            "[CV] END learning_rate=0.001, max_depth=6, n_estimators=500, subsample=0.8; total time= 1.1min\n",
            "[CV] END learning_rate=0.001, max_depth=6, n_estimators=500, subsample=0.8; total time= 1.1min\n",
            "[CV] END learning_rate=0.001, max_depth=6, n_estimators=500, subsample=1; total time= 1.1min\n",
            "[CV] END learning_rate=0.001, max_depth=6, n_estimators=500, subsample=1; total time= 1.1min\n",
            "[CV] END learning_rate=0.001, max_depth=6, n_estimators=500, subsample=1; total time= 1.1min\n",
            "[CV] END learning_rate=0.001, max_depth=10, n_estimators=100, subsample=0.8; total time= 1.3min\n",
            "[CV] END learning_rate=0.001, max_depth=10, n_estimators=100, subsample=0.8; total time= 1.2min\n",
            "[CV] END learning_rate=0.001, max_depth=10, n_estimators=100, subsample=0.8; total time= 1.2min\n",
            "[CV] END learning_rate=0.001, max_depth=10, n_estimators=100, subsample=1; total time= 1.3min\n",
            "[CV] END learning_rate=0.001, max_depth=10, n_estimators=100, subsample=1; total time= 1.3min\n",
            "[CV] END learning_rate=0.001, max_depth=10, n_estimators=100, subsample=1; total time= 1.3min\n",
            "[CV] END learning_rate=0.001, max_depth=10, n_estimators=300, subsample=0.8; total time= 3.6min\n",
            "[CV] END learning_rate=0.001, max_depth=10, n_estimators=300, subsample=0.8; total time= 3.4min\n",
            "[CV] END learning_rate=0.001, max_depth=10, n_estimators=300, subsample=0.8; total time= 3.6min\n",
            "[CV] END learning_rate=0.001, max_depth=10, n_estimators=300, subsample=1; total time= 4.0min\n",
            "[CV] END learning_rate=0.001, max_depth=10, n_estimators=300, subsample=1; total time= 3.9min\n",
            "[CV] END learning_rate=0.001, max_depth=10, n_estimators=300, subsample=1; total time= 3.9min\n",
            "[CV] END learning_rate=0.001, max_depth=10, n_estimators=500, subsample=0.8; total time= 6.0min\n",
            "[CV] END learning_rate=0.001, max_depth=10, n_estimators=500, subsample=0.8; total time= 5.7min\n",
            "[CV] END learning_rate=0.001, max_depth=10, n_estimators=500, subsample=0.8; total time= 6.0min\n",
            "[CV] END learning_rate=0.001, max_depth=10, n_estimators=500, subsample=1; total time= 6.7min\n",
            "[CV] END learning_rate=0.001, max_depth=10, n_estimators=500, subsample=1; total time= 6.5min\n",
            "[CV] END learning_rate=0.001, max_depth=10, n_estimators=500, subsample=1; total time= 6.8min\n",
            "[CV] END learning_rate=0.01, max_depth=3, n_estimators=100, subsample=0.8; total time=   6.0s\n",
            "[CV] END learning_rate=0.01, max_depth=3, n_estimators=100, subsample=0.8; total time=   5.8s\n",
            "[CV] END learning_rate=0.01, max_depth=3, n_estimators=100, subsample=0.8; total time=   7.0s\n",
            "[CV] END learning_rate=0.01, max_depth=3, n_estimators=100, subsample=1; total time=   5.6s\n",
            "[CV] END learning_rate=0.01, max_depth=3, n_estimators=100, subsample=1; total time=   6.1s\n",
            "[CV] END learning_rate=0.01, max_depth=3, n_estimators=100, subsample=1; total time=   6.3s\n",
            "[CV] END learning_rate=0.01, max_depth=3, n_estimators=300, subsample=0.8; total time=   9.1s\n",
            "[CV] END learning_rate=0.01, max_depth=3, n_estimators=300, subsample=0.8; total time=   9.4s\n",
            "[CV] END learning_rate=0.01, max_depth=3, n_estimators=300, subsample=0.8; total time=   9.2s\n",
            "[CV] END learning_rate=0.01, max_depth=3, n_estimators=300, subsample=1; total time=   8.7s\n",
            "[CV] END learning_rate=0.01, max_depth=3, n_estimators=300, subsample=1; total time=   9.6s\n",
            "[CV] END learning_rate=0.01, max_depth=3, n_estimators=300, subsample=1; total time=   8.9s\n",
            "[CV] END learning_rate=0.01, max_depth=3, n_estimators=500, subsample=0.8; total time=  13.2s\n",
            "[CV] END learning_rate=0.01, max_depth=3, n_estimators=500, subsample=0.8; total time=  12.8s\n",
            "[CV] END learning_rate=0.01, max_depth=3, n_estimators=500, subsample=0.8; total time=  12.0s\n",
            "[CV] END learning_rate=0.01, max_depth=3, n_estimators=500, subsample=1; total time=  12.0s\n",
            "[CV] END learning_rate=0.01, max_depth=3, n_estimators=500, subsample=1; total time=  12.7s\n",
            "[CV] END learning_rate=0.01, max_depth=3, n_estimators=500, subsample=1; total time=  13.3s\n",
            "[CV] END learning_rate=0.01, max_depth=6, n_estimators=100, subsample=0.8; total time=  16.3s\n",
            "[CV] END learning_rate=0.01, max_depth=6, n_estimators=100, subsample=0.8; total time=  16.8s\n",
            "[CV] END learning_rate=0.01, max_depth=6, n_estimators=100, subsample=0.8; total time=  17.5s\n",
            "[CV] END learning_rate=0.01, max_depth=6, n_estimators=100, subsample=1; total time=  17.7s\n",
            "[CV] END learning_rate=0.01, max_depth=6, n_estimators=100, subsample=1; total time=  17.4s\n",
            "[CV] END learning_rate=0.01, max_depth=6, n_estimators=100, subsample=1; total time=  17.0s\n",
            "[CV] END learning_rate=0.01, max_depth=6, n_estimators=300, subsample=0.8; total time=  38.1s\n",
            "[CV] END learning_rate=0.01, max_depth=6, n_estimators=300, subsample=0.8; total time=  38.8s\n",
            "[CV] END learning_rate=0.01, max_depth=6, n_estimators=300, subsample=0.8; total time=  41.4s\n",
            "[CV] END learning_rate=0.01, max_depth=6, n_estimators=300, subsample=1; total time=  38.7s\n",
            "[CV] END learning_rate=0.01, max_depth=6, n_estimators=300, subsample=1; total time=  40.8s\n",
            "[CV] END learning_rate=0.01, max_depth=6, n_estimators=300, subsample=1; total time=  37.4s\n",
            "[CV] END learning_rate=0.01, max_depth=6, n_estimators=500, subsample=0.8; total time=  59.9s\n",
            "[CV] END learning_rate=0.01, max_depth=6, n_estimators=500, subsample=0.8; total time= 1.0min\n",
            "[CV] END learning_rate=0.01, max_depth=6, n_estimators=500, subsample=0.8; total time= 1.1min\n",
            "[CV] END learning_rate=0.01, max_depth=6, n_estimators=500, subsample=1; total time= 1.0min\n",
            "[CV] END learning_rate=0.01, max_depth=6, n_estimators=500, subsample=1; total time= 1.0min\n",
            "[CV] END learning_rate=0.01, max_depth=6, n_estimators=500, subsample=1; total time=  57.2s\n",
            "[CV] END learning_rate=0.01, max_depth=10, n_estimators=100, subsample=0.8; total time= 1.3min\n",
            "[CV] END learning_rate=0.01, max_depth=10, n_estimators=100, subsample=0.8; total time= 1.2min\n",
            "[CV] END learning_rate=0.01, max_depth=10, n_estimators=100, subsample=0.8; total time= 1.3min\n",
            "[CV] END learning_rate=0.01, max_depth=10, n_estimators=100, subsample=1; total time= 1.4min\n",
            "[CV] END learning_rate=0.01, max_depth=10, n_estimators=100, subsample=1; total time= 1.4min\n",
            "[CV] END learning_rate=0.01, max_depth=10, n_estimators=100, subsample=1; total time= 1.5min\n",
            "[CV] END learning_rate=0.01, max_depth=10, n_estimators=300, subsample=0.8; total time= 3.6min\n",
            "[CV] END learning_rate=0.01, max_depth=10, n_estimators=300, subsample=0.8; total time= 3.5min\n",
            "[CV] END learning_rate=0.01, max_depth=10, n_estimators=300, subsample=0.8; total time= 3.7min\n",
            "[CV] END learning_rate=0.01, max_depth=10, n_estimators=300, subsample=1; total time= 4.1min\n",
            "[CV] END learning_rate=0.01, max_depth=10, n_estimators=300, subsample=1; total time= 4.1min\n",
            "[CV] END learning_rate=0.01, max_depth=10, n_estimators=300, subsample=1; total time= 4.5min\n",
            "[CV] END learning_rate=0.01, max_depth=10, n_estimators=500, subsample=0.8; total time= 5.9min\n",
            "[CV] END learning_rate=0.01, max_depth=10, n_estimators=500, subsample=0.8; total time= 5.6min\n",
            "[CV] END learning_rate=0.01, max_depth=10, n_estimators=500, subsample=0.8; total time= 6.0min\n",
            "[CV] END learning_rate=0.01, max_depth=10, n_estimators=500, subsample=1; total time= 6.6min\n",
            "[CV] END learning_rate=0.01, max_depth=10, n_estimators=500, subsample=1; total time= 6.7min\n",
            "[CV] END learning_rate=0.01, max_depth=10, n_estimators=500, subsample=1; total time= 6.7min\n",
            "Optimized Mean Squared Error: 9.835881693731984\n"
          ]
        }
      ],
      "source": [
        "import xgboost as xgb\n",
        "from sklearn.metrics import mean_squared_error\n",
        "from sklearn.model_selection import GridSearchCV\n",
        "\n",
        "xgb_reg = xgb.XGBRegressor(tree_method='hist', device='cuda' if torch.cuda.is_available() else 'cpu', random_state=42)\n",
        "\n",
        "# Train the model\n",
        "xgb_reg.fit(X_train, y_train)\n",
        "\n",
        "param_grid = {\n",
        "    'n_estimators': [100, 300, 500],\n",
        "    'max_depth': [3, 6, 10],\n",
        "    'learning_rate': [0.0001, 0.001, 0.01],\n",
        "    'subsample': [0.8, 1]\n",
        "}\n",
        "\n",
        "# Initialize GridSearchCV\n",
        "grid_search = GridSearchCV(estimator=xgb_reg, param_grid=param_grid,\n",
        "                           scoring='neg_mean_squared_error', cv=3, verbose=2)\n",
        "\n",
        "# Perform grid search\n",
        "grid_search.fit(X_train, y_train)\n",
        "\n",
        "best_model = grid_search.best_estimator_\n",
        "\n",
        "print(best_model)\n",
        "\n",
        "# Make predictions on the test set\n",
        "y_pred = best_model.predict(X_test)\n",
        "\n",
        "# Calculate MSE\n",
        "mse = mean_squared_error(y_test, y_pred)\n",
        "print(f\"Optimized Mean Squared Error: {mse}\")"
      ]
    },
    {
      "cell_type": "markdown",
      "metadata": {
        "id": "Dl7ydg_XxPuB"
      },
      "source": [
        "#### Support Vector Regularization"
      ]
    },
    {
      "cell_type": "code",
      "execution_count": null,
      "metadata": {
        "colab": {
          "base_uri": "https://localhost:8080/"
        },
        "id": "2pTA_Y0PxSj4",
        "outputId": "66dc1356-4244-457b-ea1b-9d7145fdc4a7"
      },
      "outputs": [
        {
          "output_type": "stream",
          "name": "stdout",
          "text": [
            "Fitting 5 folds for each of 48 candidates, totalling 240 fits\n",
            "[CV] END ....................C=0.1, epsilon=0.01, kernel=rbf; total time= 1.9min\n",
            "[CV] END ....................C=0.1, epsilon=0.01, kernel=rbf; total time= 1.7min\n",
            "[CV] END ....................C=0.1, epsilon=0.01, kernel=rbf; total time= 1.7min\n",
            "[CV] END ....................C=0.1, epsilon=0.01, kernel=rbf; total time= 1.7min\n",
            "[CV] END ....................C=0.1, epsilon=0.01, kernel=rbf; total time= 1.7min\n",
            "[CV] END .................C=0.1, epsilon=0.01, kernel=linear; total time= 1.5min\n",
            "[CV] END .................C=0.1, epsilon=0.01, kernel=linear; total time= 1.6min\n",
            "[CV] END .................C=0.1, epsilon=0.01, kernel=linear; total time= 1.6min\n",
            "[CV] END .................C=0.1, epsilon=0.01, kernel=linear; total time= 1.5min\n",
            "[CV] END .................C=0.1, epsilon=0.01, kernel=linear; total time= 1.5min\n",
            "[CV] END ...................C=0.1, epsilon=0.01, kernel=poly; total time= 1.5min\n",
            "[CV] END ...................C=0.1, epsilon=0.01, kernel=poly; total time= 1.5min\n",
            "[CV] END ...................C=0.1, epsilon=0.01, kernel=poly; total time= 1.5min\n",
            "[CV] END ...................C=0.1, epsilon=0.01, kernel=poly; total time= 1.6min\n",
            "[CV] END ...................C=0.1, epsilon=0.01, kernel=poly; total time= 1.6min\n",
            "[CV] END .....................C=0.1, epsilon=0.1, kernel=rbf; total time= 1.8min\n",
            "[CV] END .....................C=0.1, epsilon=0.1, kernel=rbf; total time= 1.8min\n",
            "[CV] END .....................C=0.1, epsilon=0.1, kernel=rbf; total time= 1.8min\n",
            "[CV] END .....................C=0.1, epsilon=0.1, kernel=rbf; total time= 1.7min\n",
            "[CV] END .....................C=0.1, epsilon=0.1, kernel=rbf; total time= 1.7min\n",
            "[CV] END ..................C=0.1, epsilon=0.1, kernel=linear; total time= 1.5min\n",
            "[CV] END ..................C=0.1, epsilon=0.1, kernel=linear; total time= 1.6min\n",
            "[CV] END ..................C=0.1, epsilon=0.1, kernel=linear; total time= 1.5min\n",
            "[CV] END ..................C=0.1, epsilon=0.1, kernel=linear; total time= 1.5min\n",
            "[CV] END ..................C=0.1, epsilon=0.1, kernel=linear; total time= 1.6min\n",
            "[CV] END ....................C=0.1, epsilon=0.1, kernel=poly; total time= 1.5min\n",
            "[CV] END ....................C=0.1, epsilon=0.1, kernel=poly; total time= 1.6min\n",
            "[CV] END ....................C=0.1, epsilon=0.1, kernel=poly; total time= 1.6min\n",
            "[CV] END ....................C=0.1, epsilon=0.1, kernel=poly; total time= 1.6min\n",
            "[CV] END ....................C=0.1, epsilon=0.1, kernel=poly; total time= 1.5min\n",
            "[CV] END .....................C=0.1, epsilon=0.5, kernel=rbf; total time= 1.7min\n",
            "[CV] END .....................C=0.1, epsilon=0.5, kernel=rbf; total time= 1.7min\n",
            "[CV] END .....................C=0.1, epsilon=0.5, kernel=rbf; total time= 1.6min\n",
            "[CV] END .....................C=0.1, epsilon=0.5, kernel=rbf; total time= 1.6min\n",
            "[CV] END .....................C=0.1, epsilon=0.5, kernel=rbf; total time= 1.7min\n",
            "[CV] END ..................C=0.1, epsilon=0.5, kernel=linear; total time= 1.5min\n",
            "[CV] END ..................C=0.1, epsilon=0.5, kernel=linear; total time= 1.5min\n",
            "[CV] END ..................C=0.1, epsilon=0.5, kernel=linear; total time= 1.5min\n",
            "[CV] END ..................C=0.1, epsilon=0.5, kernel=linear; total time= 1.5min\n",
            "[CV] END ..................C=0.1, epsilon=0.5, kernel=linear; total time= 1.6min\n",
            "[CV] END ....................C=0.1, epsilon=0.5, kernel=poly; total time= 1.6min\n",
            "[CV] END ....................C=0.1, epsilon=0.5, kernel=poly; total time= 1.5min\n",
            "[CV] END ....................C=0.1, epsilon=0.5, kernel=poly; total time= 1.5min\n",
            "[CV] END ....................C=0.1, epsilon=0.5, kernel=poly; total time= 1.5min\n",
            "[CV] END ....................C=0.1, epsilon=0.5, kernel=poly; total time= 1.5min\n",
            "[CV] END .......................C=0.1, epsilon=1, kernel=rbf; total time= 1.6min\n",
            "[CV] END .......................C=0.1, epsilon=1, kernel=rbf; total time= 1.6min\n",
            "[CV] END .......................C=0.1, epsilon=1, kernel=rbf; total time= 1.6min\n",
            "[CV] END .......................C=0.1, epsilon=1, kernel=rbf; total time= 1.7min\n",
            "[CV] END .......................C=0.1, epsilon=1, kernel=rbf; total time= 1.6min\n",
            "[CV] END ....................C=0.1, epsilon=1, kernel=linear; total time= 1.5min\n",
            "[CV] END ....................C=0.1, epsilon=1, kernel=linear; total time= 1.5min\n",
            "[CV] END ....................C=0.1, epsilon=1, kernel=linear; total time= 1.4min\n",
            "[CV] END ....................C=0.1, epsilon=1, kernel=linear; total time= 1.5min\n",
            "[CV] END ....................C=0.1, epsilon=1, kernel=linear; total time= 1.5min\n",
            "[CV] END ......................C=0.1, epsilon=1, kernel=poly; total time= 1.5min\n",
            "[CV] END ......................C=0.1, epsilon=1, kernel=poly; total time= 1.5min\n",
            "[CV] END ......................C=0.1, epsilon=1, kernel=poly; total time= 1.4min\n",
            "[CV] END ......................C=0.1, epsilon=1, kernel=poly; total time= 1.4min\n",
            "[CV] END ......................C=0.1, epsilon=1, kernel=poly; total time= 1.4min\n",
            "[CV] END ......................C=1, epsilon=0.01, kernel=rbf; total time= 1.7min\n",
            "[CV] END ......................C=1, epsilon=0.01, kernel=rbf; total time= 1.7min\n",
            "[CV] END ......................C=1, epsilon=0.01, kernel=rbf; total time= 1.7min\n",
            "[CV] END ......................C=1, epsilon=0.01, kernel=rbf; total time= 1.7min\n",
            "[CV] END ......................C=1, epsilon=0.01, kernel=rbf; total time= 1.8min\n",
            "[CV] END ...................C=1, epsilon=0.01, kernel=linear; total time= 1.6min\n",
            "[CV] END ...................C=1, epsilon=0.01, kernel=linear; total time= 1.6min\n",
            "[CV] END ...................C=1, epsilon=0.01, kernel=linear; total time= 1.6min\n",
            "[CV] END ...................C=1, epsilon=0.01, kernel=linear; total time= 1.6min\n",
            "[CV] END ...................C=1, epsilon=0.01, kernel=linear; total time= 1.6min\n",
            "[CV] END .....................C=1, epsilon=0.01, kernel=poly; total time= 1.6min\n",
            "[CV] END .....................C=1, epsilon=0.01, kernel=poly; total time= 1.6min\n",
            "[CV] END .....................C=1, epsilon=0.01, kernel=poly; total time= 1.6min\n",
            "[CV] END .....................C=1, epsilon=0.01, kernel=poly; total time= 1.6min\n",
            "[CV] END .....................C=1, epsilon=0.01, kernel=poly; total time= 1.6min\n",
            "[CV] END .......................C=1, epsilon=0.1, kernel=rbf; total time= 1.7min\n",
            "[CV] END .......................C=1, epsilon=0.1, kernel=rbf; total time= 1.8min\n",
            "[CV] END .......................C=1, epsilon=0.1, kernel=rbf; total time= 1.7min\n",
            "[CV] END .......................C=1, epsilon=0.1, kernel=rbf; total time= 1.7min\n",
            "[CV] END .......................C=1, epsilon=0.1, kernel=rbf; total time= 1.8min\n",
            "[CV] END ....................C=1, epsilon=0.1, kernel=linear; total time= 1.6min\n",
            "[CV] END ....................C=1, epsilon=0.1, kernel=linear; total time= 1.6min\n",
            "[CV] END ....................C=1, epsilon=0.1, kernel=linear; total time= 1.6min\n",
            "[CV] END ....................C=1, epsilon=0.1, kernel=linear; total time= 1.5min\n",
            "[CV] END ....................C=1, epsilon=0.1, kernel=linear; total time= 1.6min\n",
            "[CV] END ......................C=1, epsilon=0.1, kernel=poly; total time= 1.6min\n",
            "[CV] END ......................C=1, epsilon=0.1, kernel=poly; total time= 1.6min\n",
            "[CV] END ......................C=1, epsilon=0.1, kernel=poly; total time= 1.6min\n",
            "[CV] END ......................C=1, epsilon=0.1, kernel=poly; total time= 1.6min\n",
            "[CV] END ......................C=1, epsilon=0.1, kernel=poly; total time= 1.5min\n",
            "[CV] END .......................C=1, epsilon=0.5, kernel=rbf; total time= 1.6min\n",
            "[CV] END .......................C=1, epsilon=0.5, kernel=rbf; total time= 1.6min\n",
            "[CV] END .......................C=1, epsilon=0.5, kernel=rbf; total time= 1.6min\n",
            "[CV] END .......................C=1, epsilon=0.5, kernel=rbf; total time= 1.6min\n",
            "[CV] END .......................C=1, epsilon=0.5, kernel=rbf; total time= 1.6min\n",
            "[CV] END ....................C=1, epsilon=0.5, kernel=linear; total time= 1.5min\n",
            "[CV] END ....................C=1, epsilon=0.5, kernel=linear; total time= 1.4min\n",
            "[CV] END ....................C=1, epsilon=0.5, kernel=linear; total time= 1.4min\n",
            "[CV] END ....................C=1, epsilon=0.5, kernel=linear; total time= 1.4min\n",
            "[CV] END ....................C=1, epsilon=0.5, kernel=linear; total time= 1.5min\n",
            "[CV] END ......................C=1, epsilon=0.5, kernel=poly; total time= 1.4min\n",
            "[CV] END ......................C=1, epsilon=0.5, kernel=poly; total time= 1.5min\n",
            "[CV] END ......................C=1, epsilon=0.5, kernel=poly; total time= 1.5min\n",
            "[CV] END ......................C=1, epsilon=0.5, kernel=poly; total time= 1.5min\n",
            "[CV] END .........................C=1, epsilon=1, kernel=rbf; total time= 1.6min\n",
            "[CV] END .........................C=1, epsilon=1, kernel=rbf; total time= 1.5min\n",
            "[CV] END .........................C=1, epsilon=1, kernel=rbf; total time= 1.6min\n",
            "[CV] END .........................C=1, epsilon=1, kernel=rbf; total time= 1.5min\n",
            "[CV] END .........................C=1, epsilon=1, kernel=rbf; total time= 1.5min\n",
            "[CV] END ......................C=1, epsilon=1, kernel=linear; total time= 1.3min\n",
            "[CV] END ......................C=1, epsilon=1, kernel=linear; total time= 1.4min\n",
            "[CV] END ......................C=1, epsilon=1, kernel=linear; total time= 1.5min\n",
            "[CV] END ......................C=1, epsilon=1, kernel=linear; total time= 1.5min\n",
            "[CV] END ......................C=1, epsilon=1, kernel=linear; total time= 1.4min\n",
            "[CV] END ........................C=1, epsilon=1, kernel=poly; total time= 1.3min\n",
            "[CV] END ........................C=1, epsilon=1, kernel=poly; total time= 1.4min\n",
            "[CV] END ........................C=1, epsilon=1, kernel=poly; total time= 1.4min\n",
            "[CV] END ........................C=1, epsilon=1, kernel=poly; total time= 1.4min\n",
            "[CV] END ........................C=1, epsilon=1, kernel=poly; total time= 1.5min\n",
            "[CV] END .....................C=10, epsilon=0.01, kernel=rbf; total time= 1.9min\n",
            "[CV] END .....................C=10, epsilon=0.01, kernel=rbf; total time= 1.8min\n",
            "[CV] END .....................C=10, epsilon=0.01, kernel=rbf; total time= 1.8min\n",
            "[CV] END .....................C=10, epsilon=0.01, kernel=rbf; total time= 1.8min\n",
            "[CV] END .....................C=10, epsilon=0.01, kernel=rbf; total time= 1.8min\n",
            "[CV] END ..................C=10, epsilon=0.01, kernel=linear; total time= 1.6min\n",
            "[CV] END ..................C=10, epsilon=0.01, kernel=linear; total time= 1.6min\n",
            "[CV] END ..................C=10, epsilon=0.01, kernel=linear; total time= 1.6min\n",
            "[CV] END ..................C=10, epsilon=0.01, kernel=linear; total time= 1.6min\n",
            "[CV] END ..................C=10, epsilon=0.01, kernel=linear; total time= 1.6min\n",
            "[CV] END ....................C=10, epsilon=0.01, kernel=poly; total time= 1.6min\n",
            "[CV] END ....................C=10, epsilon=0.01, kernel=poly; total time= 1.7min\n",
            "[CV] END ....................C=10, epsilon=0.01, kernel=poly; total time= 1.6min\n",
            "[CV] END ....................C=10, epsilon=0.01, kernel=poly; total time= 1.7min\n",
            "[CV] END ....................C=10, epsilon=0.01, kernel=poly; total time= 1.6min\n",
            "[CV] END ......................C=10, epsilon=0.1, kernel=rbf; total time= 1.7min\n",
            "[CV] END ......................C=10, epsilon=0.1, kernel=rbf; total time= 1.7min\n",
            "[CV] END ......................C=10, epsilon=0.1, kernel=rbf; total time= 1.7min\n",
            "[CV] END ......................C=10, epsilon=0.1, kernel=rbf; total time= 1.7min\n",
            "[CV] END ......................C=10, epsilon=0.1, kernel=rbf; total time= 1.8min\n",
            "[CV] END ...................C=10, epsilon=0.1, kernel=linear; total time= 1.6min\n",
            "[CV] END ...................C=10, epsilon=0.1, kernel=linear; total time= 1.6min\n",
            "[CV] END ...................C=10, epsilon=0.1, kernel=linear; total time= 1.6min\n",
            "[CV] END ...................C=10, epsilon=0.1, kernel=linear; total time= 1.6min\n",
            "[CV] END ...................C=10, epsilon=0.1, kernel=linear; total time= 1.6min\n",
            "[CV] END .....................C=10, epsilon=0.1, kernel=poly; total time= 1.7min\n",
            "[CV] END .....................C=10, epsilon=0.1, kernel=poly; total time= 1.6min\n",
            "[CV] END .....................C=10, epsilon=0.1, kernel=poly; total time= 1.7min\n",
            "[CV] END .....................C=10, epsilon=0.1, kernel=poly; total time= 1.6min\n",
            "[CV] END .....................C=10, epsilon=0.1, kernel=poly; total time= 1.6min\n",
            "[CV] END ......................C=10, epsilon=0.5, kernel=rbf; total time= 1.5min\n",
            "[CV] END ......................C=10, epsilon=0.5, kernel=rbf; total time= 1.6min\n",
            "[CV] END ......................C=10, epsilon=0.5, kernel=rbf; total time= 1.5min\n",
            "[CV] END ......................C=10, epsilon=0.5, kernel=rbf; total time= 1.6min\n",
            "[CV] END ......................C=10, epsilon=0.5, kernel=rbf; total time= 1.5min\n",
            "[CV] END ...................C=10, epsilon=0.5, kernel=linear; total time= 1.5min\n",
            "[CV] END ...................C=10, epsilon=0.5, kernel=linear; total time= 1.4min\n",
            "[CV] END ...................C=10, epsilon=0.5, kernel=linear; total time= 1.5min\n",
            "[CV] END ...................C=10, epsilon=0.5, kernel=linear; total time= 1.5min\n",
            "[CV] END ...................C=10, epsilon=0.5, kernel=linear; total time= 1.4min\n",
            "[CV] END .....................C=10, epsilon=0.5, kernel=poly; total time= 1.5min\n",
            "[CV] END .....................C=10, epsilon=0.5, kernel=poly; total time= 1.4min\n",
            "[CV] END .....................C=10, epsilon=0.5, kernel=poly; total time= 1.4min\n",
            "[CV] END .....................C=10, epsilon=0.5, kernel=poly; total time= 1.4min\n",
            "[CV] END .....................C=10, epsilon=0.5, kernel=poly; total time= 1.4min\n",
            "[CV] END ........................C=10, epsilon=1, kernel=rbf; total time= 1.4min\n",
            "[CV] END ........................C=10, epsilon=1, kernel=rbf; total time= 1.5min\n",
            "[CV] END ........................C=10, epsilon=1, kernel=rbf; total time= 1.4min\n",
            "[CV] END ........................C=10, epsilon=1, kernel=rbf; total time= 1.4min\n",
            "[CV] END ........................C=10, epsilon=1, kernel=rbf; total time= 1.4min\n",
            "[CV] END .....................C=10, epsilon=1, kernel=linear; total time= 1.3min\n",
            "[CV] END .....................C=10, epsilon=1, kernel=linear; total time= 1.4min\n",
            "[CV] END .....................C=10, epsilon=1, kernel=linear; total time= 1.4min\n",
            "[CV] END .....................C=10, epsilon=1, kernel=linear; total time= 1.5min\n",
            "[CV] END .....................C=10, epsilon=1, kernel=linear; total time= 1.4min\n",
            "[CV] END .......................C=10, epsilon=1, kernel=poly; total time= 1.2min\n",
            "[CV] END .......................C=10, epsilon=1, kernel=poly; total time= 1.3min\n",
            "[CV] END .......................C=10, epsilon=1, kernel=poly; total time= 1.3min\n",
            "[CV] END .......................C=10, epsilon=1, kernel=poly; total time= 1.3min\n",
            "[CV] END .......................C=10, epsilon=1, kernel=poly; total time= 1.3min\n",
            "[CV] END ....................C=100, epsilon=0.01, kernel=rbf; total time= 1.9min\n",
            "[CV] END ....................C=100, epsilon=0.01, kernel=rbf; total time= 1.8min\n",
            "[CV] END ....................C=100, epsilon=0.01, kernel=rbf; total time= 1.8min\n",
            "[CV] END ....................C=100, epsilon=0.01, kernel=rbf; total time= 1.8min\n",
            "[CV] END ....................C=100, epsilon=0.01, kernel=rbf; total time= 1.8min\n",
            "[CV] END .................C=100, epsilon=0.01, kernel=linear; total time= 1.7min\n",
            "[CV] END .................C=100, epsilon=0.01, kernel=linear; total time= 1.8min\n",
            "[CV] END .................C=100, epsilon=0.01, kernel=linear; total time= 1.8min\n",
            "[CV] END .................C=100, epsilon=0.01, kernel=linear; total time= 1.8min\n",
            "[CV] END .................C=100, epsilon=0.01, kernel=linear; total time= 1.8min\n",
            "[CV] END ...................C=100, epsilon=0.01, kernel=poly; total time= 1.7min\n",
            "[CV] END ...................C=100, epsilon=0.01, kernel=poly; total time= 1.7min\n",
            "[CV] END ...................C=100, epsilon=0.01, kernel=poly; total time= 1.7min\n",
            "[CV] END ...................C=100, epsilon=0.01, kernel=poly; total time= 1.7min\n",
            "[CV] END ...................C=100, epsilon=0.01, kernel=poly; total time= 1.7min\n",
            "[CV] END .....................C=100, epsilon=0.1, kernel=rbf; total time= 1.8min\n",
            "[CV] END .....................C=100, epsilon=0.1, kernel=rbf; total time= 1.8min\n",
            "[CV] END .....................C=100, epsilon=0.1, kernel=rbf; total time= 1.8min\n",
            "[CV] END .....................C=100, epsilon=0.1, kernel=rbf; total time= 1.7min\n",
            "[CV] END .....................C=100, epsilon=0.1, kernel=rbf; total time= 1.7min\n",
            "[CV] END ..................C=100, epsilon=0.1, kernel=linear; total time= 1.8min\n",
            "[CV] END ..................C=100, epsilon=0.1, kernel=linear; total time= 1.8min\n",
            "[CV] END ..................C=100, epsilon=0.1, kernel=linear; total time= 1.8min\n",
            "[CV] END ..................C=100, epsilon=0.1, kernel=linear; total time= 1.7min\n",
            "[CV] END ..................C=100, epsilon=0.1, kernel=linear; total time= 1.7min\n",
            "[CV] END ....................C=100, epsilon=0.1, kernel=poly; total time= 1.6min\n",
            "[CV] END ....................C=100, epsilon=0.1, kernel=poly; total time= 1.7min\n",
            "[CV] END ....................C=100, epsilon=0.1, kernel=poly; total time= 1.6min\n",
            "[CV] END ....................C=100, epsilon=0.1, kernel=poly; total time= 1.6min\n",
            "[CV] END ....................C=100, epsilon=0.1, kernel=poly; total time= 1.6min\n",
            "[CV] END .....................C=100, epsilon=0.5, kernel=rbf; total time= 1.5min\n",
            "[CV] END .....................C=100, epsilon=0.5, kernel=rbf; total time= 1.6min\n",
            "[CV] END .....................C=100, epsilon=0.5, kernel=rbf; total time= 1.6min\n",
            "[CV] END .....................C=100, epsilon=0.5, kernel=rbf; total time= 1.6min\n",
            "[CV] END .....................C=100, epsilon=0.5, kernel=rbf; total time= 1.5min\n",
            "[CV] END ..................C=100, epsilon=0.5, kernel=linear; total time= 1.7min\n",
            "[CV] END ..................C=100, epsilon=0.5, kernel=linear; total time= 1.6min\n",
            "[CV] END ..................C=100, epsilon=0.5, kernel=linear; total time= 1.6min\n",
            "[CV] END ..................C=100, epsilon=0.5, kernel=linear; total time= 1.6min\n",
            "[CV] END ..................C=100, epsilon=0.5, kernel=linear; total time= 1.6min\n",
            "[CV] END ....................C=100, epsilon=0.5, kernel=poly; total time= 1.4min\n",
            "[CV] END ....................C=100, epsilon=0.5, kernel=poly; total time= 1.5min\n",
            "[CV] END ....................C=100, epsilon=0.5, kernel=poly; total time= 1.5min\n",
            "[CV] END ....................C=100, epsilon=0.5, kernel=poly; total time= 1.4min\n",
            "[CV] END ....................C=100, epsilon=0.5, kernel=poly; total time= 1.4min\n",
            "[CV] END .......................C=100, epsilon=1, kernel=rbf; total time= 1.4min\n",
            "[CV] END .......................C=100, epsilon=1, kernel=rbf; total time= 1.3min\n",
            "[CV] END .......................C=100, epsilon=1, kernel=rbf; total time= 1.4min\n",
            "[CV] END .......................C=100, epsilon=1, kernel=rbf; total time= 1.4min\n",
            "[CV] END .......................C=100, epsilon=1, kernel=rbf; total time= 1.4min\n",
            "[CV] END ....................C=100, epsilon=1, kernel=linear; total time= 1.5min\n",
            "[CV] END ....................C=100, epsilon=1, kernel=linear; total time= 1.5min\n",
            "[CV] END ....................C=100, epsilon=1, kernel=linear; total time= 1.5min\n",
            "[CV] END ....................C=100, epsilon=1, kernel=linear; total time= 1.5min\n",
            "[CV] END ....................C=100, epsilon=1, kernel=linear; total time= 1.4min\n",
            "[CV] END ......................C=100, epsilon=1, kernel=poly; total time= 1.3min\n",
            "[CV] END ......................C=100, epsilon=1, kernel=poly; total time= 1.3min\n",
            "[CV] END ......................C=100, epsilon=1, kernel=poly; total time= 1.2min\n",
            "[CV] END ......................C=100, epsilon=1, kernel=poly; total time= 1.3min\n",
            "[CV] END ......................C=100, epsilon=1, kernel=poly; total time= 1.3min\n",
            "SVR(C=100, epsilon=1)\n",
            "Optimized Mean Squared Error: 11.08605243714692\n",
            "Best Parameters: {'C': 100, 'epsilon': 1, 'kernel': 'rbf'}\n"
          ]
        }
      ],
      "source": [
        "from sklearn.svm import SVR\n",
        "from sklearn.preprocessing import StandardScaler\n",
        "from sklearn.metrics import mean_squared_error\n",
        "from sklearn.model_selection import GridSearchCV\n",
        "import numpy as np\n",
        "\n",
        "param_grid = {\n",
        "    'C': [0.1, 1, 10, 100],  # Regularization parameter\n",
        "    'epsilon': [0.01, 0.1, 0.5, 1],  # Margin of tolerance\n",
        "    'kernel': ['rbf', 'linear', 'poly']  # Kernel type\n",
        "}\n",
        "\n",
        "grid_search = GridSearchCV(SVR(), param_grid, cv=5, scoring='neg_mean_squared_error', verbose=2)\n",
        "grid_search.fit(X_train, y_train)\n",
        "\n",
        "best_svr = grid_search.best_estimator_\n",
        "\n",
        "print(best_svr)\n",
        "\n",
        "# Make predictions with the best model\n",
        "y_pred = best_svr.predict(X_test)\n",
        "\n",
        "# Calculate MSE\n",
        "mse = mean_squared_error(y_test, y_pred)\n",
        "print(f\"Optimized Mean Squared Error: {mse}\")\n",
        "print(f\"Best Parameters: {grid_search.best_params_}\")"
      ]
    },
    {
      "cell_type": "code",
      "execution_count": null,
      "metadata": {
        "colab": {
          "base_uri": "https://localhost:8080/",
          "height": 564
        },
        "id": "N02ysV9gF9lB",
        "outputId": "01ca3d15-e867-48d2-8686-f1f01dd35063"
      },
      "outputs": [
        {
          "data": {
            "image/png": "[encoded data removed]",
            "text/plain": [
              "<Figure size 1000x600 with 1 Axes>"
            ]
          },
          "metadata": {},
          "output_type": "display_data"
        }
      ],
      "source": [
        "import matplotlib.pyplot as plt\n",
        "import numpy as np\n",
        "\n",
        "def plot_actual_vs_predicted(y_actual, y_predicted, n_samples):\n",
        "    \"\"\"\n",
        "    Plots actual vs predicted values for a given number of samples.\n",
        "\n",
        "    :param y_actual: Array of actual values.\n",
        "    :param y_predicted: Array of predicted values.\n",
        "    :param n_samples: Number of samples to plot.\n",
        "    \"\"\"\n",
        "    # Randomly select N samples\n",
        "    indices = np.random.choice(len(y_actual), n_samples, replace=False)\n",
        "\n",
        "    # Sort these samples by actual values for better visualization\n",
        "    sorted_indices = indices[np.argsort(y_actual[indices])]\n",
        "\n",
        "    # Extract the actual and predicted values for these indices\n",
        "    actual = y_actual[sorted_indices]\n",
        "    predicted = y_predicted[sorted_indices]\n",
        "\n",
        "    # Create the plot\n",
        "    plt.figure(figsize=(10, 6))\n",
        "    plt.plot(actual, 'o', label='Actual', color='blue')\n",
        "    plt.plot(predicted, 'x', label='Predicted', color='red')\n",
        "\n",
        "    # Adding titles and labels\n",
        "    plt.title('Actual vs Predicted Values')\n",
        "    plt.xlabel('Sample')\n",
        "    plt.ylabel('Value')\n",
        "    plt.legend()\n",
        "    plt.grid(True)\n",
        "    plt.show()\n",
        "\n",
        "# Example usage with your actual and predicted values\n",
        "plot_actual_vs_predicted(y_test, y_pred, n_samples=200)"
      ]
    },
    {
      "cell_type": "code",
      "execution_count": null,
      "metadata": {
        "colab": {
          "base_uri": "https://localhost:8080/"
        },
        "id": "XVED-qvZ2aVl",
        "outputId": "b09ed048-0990-4bda-c8e0-2adb00045f29"
      },
      "outputs": [
        {
          "output_type": "stream",
          "name": "stdout",
          "text": [
            "Default GPU Device: /device:GPU:0\n"
          ]
        }
      ],
      "source": [
        "import tensorflow as tf\n",
        "import pandas as pd\n",
        "import seaborn as sns\n",
        "import matplotlib.pyplot as plt\n",
        "\n",
        "# Check if TensorFlow is able to recognize the GPU\n",
        "if tf.test.gpu_device_name():\n",
        "    print(f\"Default GPU Device: {tf.test.gpu_device_name()}\")\n",
        "else:\n",
        "    print(\"Please install GPU version of TF\")"
      ]
    },
    {
      "cell_type": "code",
      "source": [
        "# cover label to the categorical if necessary\n",
        "import matplotlib.pyplot as plt\n",
        "from tensorflow.keras.utils import to_categorical\n",
        "\n",
        "y_train_categorical = to_categorical(y_train, num_classes=3)\n",
        "y_test_categorical = to_categorical(y_test, num_classes=3)\n",
        "\n",
        "train_distr = np.sum(y_train_categorical, axis=0)\n",
        "test_distr = np.sum(y_test_categorical, axis=0)\n",
        "\n",
        "# Set the labels for the classes\n",
        "classes = ['-1', '0', '1']\n",
        "\n",
        "# Plot\n",
        "fig, ax = plt.subplots(figsize=(10, 6))\n",
        "\n",
        "# Create bar positions\n",
        "bar_width = 0.35\n",
        "indices = np.arange(len(classes))\n",
        "\n",
        "# Plotting both distributions side by side\n",
        "train_bar = ax.bar(indices, train_distr, bar_width, label='Train')\n",
        "test_bar = ax.bar(indices + bar_width, test_distr, bar_width, label='Test')\n",
        "\n",
        "# Labeling\n",
        "ax.set_xlabel('Classes')\n",
        "ax.set_ylabel('Frequency')\n",
        "ax.set_title('Distribution of One-Hot Encoded Labels')\n",
        "ax.set_xticks(indices + bar_width / 2)\n",
        "ax.set_xticklabels(classes)\n",
        "ax.legend()\n",
        "\n",
        "# Display\n",
        "plt.show()"
      ],
      "metadata": {
        "colab": {
          "base_uri": "https://localhost:8080/",
          "height": 417
        },
        "id": "BkJGSVvRT0wH",
        "outputId": "c51ff296-6db2-4716-d025-3675baa7fb7b"
      },
      "execution_count": null,
      "outputs": [
        {
          "output_type": "display_data",
          "data": {
            "text/plain": [
              "<Figure size 1000x600 with 1 Axes>"
            ],
            "image/png": "[encoded data removed]"
          },
          "metadata": {}
        }
      ]
    },
    {
      "cell_type": "markdown",
      "metadata": {
        "id": "ComFEWp1i1ul"
      },
      "source": [
        "#### Train The Model"
      ]
    },
    {
      "cell_type": "code",
      "execution_count": null,
      "metadata": {
        "id": "NW6yAwhp-djM"
      },
      "outputs": [],
      "source": [
        "from tensorflow.keras.models import Sequential\n",
        "from tensorflow.keras.layers import Dense, Dropout\n",
        "from tensorflow.keras.callbacks import EarlyStopping, ModelCheckpoint\n",
        "from tensorflow.keras.optimizers import Adam\n",
        "from tensorflow.keras import regularizers\n",
        "from tensorflow.keras.layers import BatchNormalization, LeakyReLU\n",
        "from sklearn.utils.class_weight import compute_class_weight\n",
        "\n",
        "# Calculate class weights\n",
        "class_weights = compute_class_weight('balanced', classes=np.unique(y_train), y=y_train)\n",
        "class_weight_dict = dict(enumerate(class_weights))\n",
        "\n",
        "model = Sequential()\n",
        "\n",
        "# Input layer with L2 regularization\n",
        "model.add(Dense(4096, input_dim=4864, kernel_regularizer=regularizers.l2(0.0001)))\n",
        "model.add(LeakyReLU(alpha=0.01))\n",
        "model.add(BatchNormalization())\n",
        "model.add(Dropout(0.5))\n",
        "\n",
        "model.add(Dense(2048, kernel_regularizer=regularizers.l2(0.0001)))\n",
        "model.add(LeakyReLU(alpha=0.01))\n",
        "model.add(BatchNormalization())\n",
        "model.add(Dropout(0.4))\n",
        "\n",
        "# Hidden layer with L2 regularization\n",
        "model.add(Dense(1024, kernel_regularizer=regularizers.l2(0.0001)))\n",
        "model.add(LeakyReLU(alpha=0.01))\n",
        "model.add(BatchNormalization())\n",
        "model.add(Dropout(0.3))\n",
        "\n",
        "# Another hidden layer with L2 regularization\n",
        "model.add(Dense(512, kernel_regularizer=regularizers.l2(0.0001)))\n",
        "model.add(LeakyReLU(alpha=0.01))\n",
        "model.add(BatchNormalization())\n",
        "model.add(Dropout(0.2))\n",
        "\n",
        "model.add(Dense(512, kernel_regularizer=regularizers.l2(0.0001)))\n",
        "model.add(LeakyReLU(alpha=0.01))\n",
        "model.add(BatchNormalization())\n",
        "model.add(Dropout(0.2))\n",
        "\n",
        "model.add(Dense(256, kernel_regularizer=regularizers.l2(0.0001)))\n",
        "model.add(LeakyReLU(alpha=0.01))\n",
        "model.add(BatchNormalization())\n",
        "model.add(Dropout(0.2))\n",
        "\n",
        "model.add(Dense(128, kernel_regularizer=regularizers.l2(0.0001)))\n",
        "model.add(LeakyReLU(alpha=0.01))\n",
        "model.add(BatchNormalization())\n",
        "model.add(Dropout(0.2))\n",
        "\n",
        "# Output layer\n",
        "model.add(Dense(3, activation=\"softmax\"))\n",
        "\n",
        "# Compile model with a custom learning rate\n",
        "optimizer = Adam(learning_rate=0.0001)# Adam\n",
        "model.compile(loss='categorical_crossentropy', optimizer=optimizer, metrics=['accuracy'])\n",
        "\n",
        "# Callbacks\n",
        "early_stop = EarlyStopping(monitor='val_loss', patience=100)\n",
        "model_checkpoint = ModelCheckpoint('best_model.h5', monitor='val_loss', save_best_only=True)\n",
        "\n",
        "# Summary\n",
        "model.summary()\n",
        "\n",
        "# Fit model\n",
        "model.fit(\n",
        "    X_train, y_train_categorical,\n",
        "    epochs=1000,\n",
        "    batch_size=32,\n",
        "    validation_split=0.2,  # Use either validation_split or validation_data\n",
        "    callbacks=[early_stop, model_checkpoint],\n",
        "    class_weight = class_weight_dict\n",
        ")\n",
        "\n",
        "loss, accuracy = model.evaluate(X_test, y_test_categorical)\n",
        "print(f'Loss: {loss}, Accuracy: {accuracy}')"
      ]
    },
    {
      "cell_type": "code",
      "execution_count": null,
      "metadata": {
        "colab": {
          "base_uri": "https://localhost:8080/",
          "height": 1000
        },
        "id": "rjDt1xaDUzA9",
        "outputId": "24001bf4-6c3d-49dd-ba28-3c639a8704cc"
      },
      "outputs": [
        {
          "output_type": "error",
          "ename": "KeyError",
          "evalue": "ignored",
          "traceback": [
            "\u001b[0;31m---------------------------------------------------------------------------\u001b[0m",
            "\u001b[0;31mKeyError\u001b[0m                                  Traceback (most recent call last)",
            "\u001b[0;32m/usr/local/lib/python3.10/dist-packages/pandas/core/indexes/base.py\u001b[0m in \u001b[0;36mget_loc\u001b[0;34m(self, key, method, tolerance)\u001b[0m\n\u001b[1;32m   3801\u001b[0m             \u001b[0;32mtry\u001b[0m\u001b[0;34m:\u001b[0m\u001b[0;34m\u001b[0m\u001b[0;34m\u001b[0m\u001b[0m\n\u001b[0;32m-> 3802\u001b[0;31m                 \u001b[0;32mreturn\u001b[0m \u001b[0mself\u001b[0m\u001b[0;34m.\u001b[0m\u001b[0m_engine\u001b[0m\u001b[0;34m.\u001b[0m\u001b[0mget_loc\u001b[0m\u001b[0;34m(\u001b[0m\u001b[0mcasted_key\u001b[0m\u001b[0;34m)\u001b[0m\u001b[0;34m\u001b[0m\u001b[0;34m\u001b[0m\u001b[0m\n\u001b[0m\u001b[1;32m   3803\u001b[0m             \u001b[0;32mexcept\u001b[0m \u001b[0mKeyError\u001b[0m \u001b[0;32mas\u001b[0m \u001b[0merr\u001b[0m\u001b[0;34m:\u001b[0m\u001b[0;34m\u001b[0m\u001b[0;34m\u001b[0m\u001b[0m\n",
            "\u001b[0;32m/usr/local/lib/python3.10/dist-packages/pandas/_libs/index.pyx\u001b[0m in \u001b[0;36mpandas._libs.index.IndexEngine.get_loc\u001b[0;34m()\u001b[0m\n",
            "\u001b[0;32m/usr/local/lib/python3.10/dist-packages/pandas/_libs/index.pyx\u001b[0m in \u001b[0;36mpandas._libs.index.IndexEngine.get_loc\u001b[0;34m()\u001b[0m\n",
            "\u001b[0;32mpandas/_libs/hashtable_class_helper.pxi\u001b[0m in \u001b[0;36mpandas._libs.hashtable.PyObjectHashTable.get_item\u001b[0;34m()\u001b[0m\n",
            "\u001b[0;32mpandas/_libs/hashtable_class_helper.pxi\u001b[0m in \u001b[0;36mpandas._libs.hashtable.PyObjectHashTable.get_item\u001b[0;34m()\u001b[0m\n",
            "\u001b[0;31mKeyError\u001b[0m: 'loss'",
            "\nThe above exception was the direct cause of the following exception:\n",
            "\u001b[0;31mKeyError\u001b[0m                                  Traceback (most recent call last)",
            "\u001b[0;32m<ipython-input-20-758b09de0971>\u001b[0m in \u001b[0;36m<cell line: 11>\u001b[0;34m()\u001b[0m\n\u001b[1;32m      9\u001b[0m \u001b[0;34m\u001b[0m\u001b[0m\n\u001b[1;32m     10\u001b[0m \u001b[0;31m# Loss plot\u001b[0m\u001b[0;34m\u001b[0m\u001b[0;34m\u001b[0m\u001b[0m\n\u001b[0;32m---> 11\u001b[0;31m \u001b[0maxes\u001b[0m\u001b[0;34m[\u001b[0m\u001b[0;36m0\u001b[0m\u001b[0;34m]\u001b[0m\u001b[0;34m.\u001b[0m\u001b[0mplot\u001b[0m\u001b[0;34m(\u001b[0m\u001b[0mlosses_df\u001b[0m\u001b[0;34m[\u001b[0m\u001b[0;34m'loss'\u001b[0m\u001b[0;34m]\u001b[0m\u001b[0;34m,\u001b[0m \u001b[0mlabel\u001b[0m\u001b[0;34m=\u001b[0m\u001b[0;34m'Training Loss'\u001b[0m\u001b[0;34m)\u001b[0m\u001b[0;34m\u001b[0m\u001b[0;34m\u001b[0m\u001b[0m\n\u001b[0m\u001b[1;32m     12\u001b[0m \u001b[0maxes\u001b[0m\u001b[0;34m[\u001b[0m\u001b[0;36m0\u001b[0m\u001b[0;34m]\u001b[0m\u001b[0;34m.\u001b[0m\u001b[0mplot\u001b[0m\u001b[0;34m(\u001b[0m\u001b[0mlosses_df\u001b[0m\u001b[0;34m[\u001b[0m\u001b[0;34m'val_loss'\u001b[0m\u001b[0;34m]\u001b[0m\u001b[0;34m,\u001b[0m \u001b[0mlabel\u001b[0m\u001b[0;34m=\u001b[0m\u001b[0;34m'Validation Loss'\u001b[0m\u001b[0;34m)\u001b[0m\u001b[0;34m\u001b[0m\u001b[0;34m\u001b[0m\u001b[0m\n\u001b[1;32m     13\u001b[0m \u001b[0maxes\u001b[0m\u001b[0;34m[\u001b[0m\u001b[0;36m0\u001b[0m\u001b[0;34m]\u001b[0m\u001b[0;34m.\u001b[0m\u001b[0mset_title\u001b[0m\u001b[0;34m(\u001b[0m\u001b[0;34m'Training and Validation Loss'\u001b[0m\u001b[0;34m)\u001b[0m\u001b[0;34m\u001b[0m\u001b[0;34m\u001b[0m\u001b[0m\n",
            "\u001b[0;32m/usr/local/lib/python3.10/dist-packages/pandas/core/frame.py\u001b[0m in \u001b[0;36m__getitem__\u001b[0;34m(self, key)\u001b[0m\n\u001b[1;32m   3805\u001b[0m             \u001b[0;32mif\u001b[0m \u001b[0mself\u001b[0m\u001b[0;34m.\u001b[0m\u001b[0mcolumns\u001b[0m\u001b[0;34m.\u001b[0m\u001b[0mnlevels\u001b[0m \u001b[0;34m>\u001b[0m \u001b[0;36m1\u001b[0m\u001b[0;34m:\u001b[0m\u001b[0;34m\u001b[0m\u001b[0;34m\u001b[0m\u001b[0m\n\u001b[1;32m   3806\u001b[0m                 \u001b[0;32mreturn\u001b[0m \u001b[0mself\u001b[0m\u001b[0;34m.\u001b[0m\u001b[0m_getitem_multilevel\u001b[0m\u001b[0;34m(\u001b[0m\u001b[0mkey\u001b[0m\u001b[0;34m)\u001b[0m\u001b[0;34m\u001b[0m\u001b[0;34m\u001b[0m\u001b[0m\n\u001b[0;32m-> 3807\u001b[0;31m             \u001b[0mindexer\u001b[0m \u001b[0;34m=\u001b[0m \u001b[0mself\u001b[0m\u001b[0;34m.\u001b[0m\u001b[0mcolumns\u001b[0m\u001b[0;34m.\u001b[0m\u001b[0mget_loc\u001b[0m\u001b[0;34m(\u001b[0m\u001b[0mkey\u001b[0m\u001b[0;34m)\u001b[0m\u001b[0;34m\u001b[0m\u001b[0;34m\u001b[0m\u001b[0m\n\u001b[0m\u001b[1;32m   3808\u001b[0m             \u001b[0;32mif\u001b[0m \u001b[0mis_integer\u001b[0m\u001b[0;34m(\u001b[0m\u001b[0mindexer\u001b[0m\u001b[0;34m)\u001b[0m\u001b[0;34m:\u001b[0m\u001b[0;34m\u001b[0m\u001b[0;34m\u001b[0m\u001b[0m\n\u001b[1;32m   3809\u001b[0m                 \u001b[0mindexer\u001b[0m \u001b[0;34m=\u001b[0m \u001b[0;34m[\u001b[0m\u001b[0mindexer\u001b[0m\u001b[0;34m]\u001b[0m\u001b[0;34m\u001b[0m\u001b[0;34m\u001b[0m\u001b[0m\n",
            "\u001b[0;32m/usr/local/lib/python3.10/dist-packages/pandas/core/indexes/base.py\u001b[0m in \u001b[0;36mget_loc\u001b[0;34m(self, key, method, tolerance)\u001b[0m\n\u001b[1;32m   3802\u001b[0m                 \u001b[0;32mreturn\u001b[0m \u001b[0mself\u001b[0m\u001b[0;34m.\u001b[0m\u001b[0m_engine\u001b[0m\u001b[0;34m.\u001b[0m\u001b[0mget_loc\u001b[0m\u001b[0;34m(\u001b[0m\u001b[0mcasted_key\u001b[0m\u001b[0;34m)\u001b[0m\u001b[0;34m\u001b[0m\u001b[0;34m\u001b[0m\u001b[0m\n\u001b[1;32m   3803\u001b[0m             \u001b[0;32mexcept\u001b[0m \u001b[0mKeyError\u001b[0m \u001b[0;32mas\u001b[0m \u001b[0merr\u001b[0m\u001b[0;34m:\u001b[0m\u001b[0;34m\u001b[0m\u001b[0;34m\u001b[0m\u001b[0m\n\u001b[0;32m-> 3804\u001b[0;31m                 \u001b[0;32mraise\u001b[0m \u001b[0mKeyError\u001b[0m\u001b[0;34m(\u001b[0m\u001b[0mkey\u001b[0m\u001b[0;34m)\u001b[0m \u001b[0;32mfrom\u001b[0m \u001b[0merr\u001b[0m\u001b[0;34m\u001b[0m\u001b[0;34m\u001b[0m\u001b[0m\n\u001b[0m\u001b[1;32m   3805\u001b[0m             \u001b[0;32mexcept\u001b[0m \u001b[0mTypeError\u001b[0m\u001b[0;34m:\u001b[0m\u001b[0;34m\u001b[0m\u001b[0;34m\u001b[0m\u001b[0m\n\u001b[1;32m   3806\u001b[0m                 \u001b[0;31m# If we have a listlike key, _check_indexing_error will raise\u001b[0m\u001b[0;34m\u001b[0m\u001b[0;34m\u001b[0m\u001b[0m\n",
            "\u001b[0;31mKeyError\u001b[0m: 'loss'"
          ]
        },
        {
          "output_type": "display_data",
          "data": {
            "text/plain": [
              "<Figure size 1000x1000 with 2 Axes>"
            ],
            "image/png": "[encoded data removed]"
          },
          "metadata": {}
        }
      ],
      "source": [
        "import pandas as pd\n",
        "import matplotlib.pyplot as plt\n",
        "\n",
        "# Convert model history into a Pandas DataFrame\n",
        "losses_df = pd.DataFrame(model.history.history)\n",
        "\n",
        "# Plot the losses and MSE on separate subplots\n",
        "fig, axes = plt.subplots(nrows=2, ncols=1, figsize=(10, 10), sharex=True)\n",
        "\n",
        "# Loss plot\n",
        "axes[0].plot(losses_df['loss'], label='Training Loss')\n",
        "axes[0].plot(losses_df['val_loss'], label='Validation Loss')\n",
        "axes[0].set_title('Training and Validation Loss')\n",
        "axes[0].set_ylabel('Loss')\n",
        "axes[0].legend()\n",
        "axes[0].set_yscale('log')\n",
        "\n",
        "# MSE plot\n",
        "axes[1].plot(losses_df['mean_absolute_error'], label='Training MAE', linestyle='--')\n",
        "axes[1].plot(losses_df['val_mean_absolute_error'], label='Validation MAE', linestyle='--')\n",
        "axes[1].set_title('Training and Validation MAE')\n",
        "axes[1].set_ylabel('MAE')\n",
        "axes[1].set_xlabel('Epoch')\n",
        "axes[1].legend()\n",
        "axes[1].set_yscale('log')\n",
        "\n",
        "# Show the plot\n",
        "plt.show()\n"
      ]
    },
    {
      "cell_type": "code",
      "execution_count": null,
      "metadata": {
        "colab": {
          "base_uri": "https://localhost:8080/",
          "height": 557
        },
        "id": "8cWz9KA7UaeD",
        "outputId": "c880ef78-e8ff-40a3-b927-42d7b1292bab"
      },
      "outputs": [
        {
          "name": "stdout",
          "output_type": "stream",
          "text": [
            "40/40 [==============================] - 0s 3ms/step\n",
            "Mean Squared Error: 12.328424060999989\n",
            "Mean Absolute Error: 2.8195762991023767\n"
          ]
        },
        {
          "data": {
            "image/png": "[encoded data removed]",
            "text/plain": [
              "<Figure size 1500x600 with 1 Axes>"
            ]
          },
          "metadata": {},
          "output_type": "display_data"
        }
      ],
      "source": [
        "import numpy as np\n",
        "import matplotlib.pyplot as plt\n",
        "from sklearn.metrics import mean_squared_error, mean_absolute_error\n",
        "\n",
        "# Make predictions on the test set\n",
        "y_pred = model.predict(X_test).flatten()\n",
        "\n",
        "# Calculate MSE and MAE\n",
        "mse = mean_squared_error(y_test, y_pred)\n",
        "mae = mean_absolute_error(y_test, y_pred)\n",
        "print(\"Mean Squared Error:\", mse)\n",
        "print(\"Mean Absolute Error:\", mae)\n",
        "\n",
        "# Sort by actual values while keeping track of predictions\n",
        "N = 200\n",
        "sorted_indices = np.argsort(y_test[:N])\n",
        "sorted_actual = y_test[sorted_indices]\n",
        "sorted_predicted = y_pred[sorted_indices]\n",
        "\n",
        "# Plotting the first N test samples for comparison after sorting\n",
        "plt.figure(figsize=(15, 6))\n",
        "plt.scatter(range(N), sorted_actual, label='Actual', marker='o')\n",
        "plt.scatter(range(N), sorted_predicted, label='Predicted', marker='x')\n",
        "plt.title('Comparison of Actual and Predicted Values')\n",
        "plt.xlabel('Sample')\n",
        "plt.ylabel('Slider Value')\n",
        "plt.legend()\n",
        "plt.show()"
      ]
    },
    {
      "cell_type": "markdown",
      "source": [
        "#### Plotting Accuracy and loss for categorical predicting"
      ],
      "metadata": {
        "id": "YEkQA68TPXF3"
      }
    },
    {
      "cell_type": "code",
      "source": [
        "import numpy as np\n",
        "import matplotlib.pyplot as plt\n",
        "from sklearn.metrics import accuracy_score, confusion_matrix, classification_report\n",
        "import seaborn as sns\n",
        "\n",
        "y_pred = model.predict(X_test)\n",
        "\n",
        "# Convert predictions from one-hot encoded to class labels if necessary\n",
        "y_pred_labels = np.argmax(y_pred, axis=1)\n",
        "y_test_labels = np.argmax(y_test_categorical, axis=1)\n",
        "\n",
        "accuracy = accuracy_score(y_test_labels, y_pred_labels)\n",
        "print(\"Accuracy:\", accuracy)\n",
        "print(classification_report(y_test_labels, y_pred_labels))\n",
        "\n",
        "cm = confusion_matrix(y_test_labels, y_pred_labels)\n",
        "plt.figure(figsize=(8, 6))\n",
        "sns.heatmap(cm, annot=True, fmt='d', cmap='Blues')\n",
        "plt.title('Confusion Matrix')\n",
        "plt.xlabel('Predicted Label')\n",
        "plt.ylabel('True Label')\n",
        "plt.show()\n",
        "\n",
        "plt.figure(figsize=(10, 5))\n",
        "plt.hist(y_test_labels, bins=np.arange(-0.5, 3, 1), alpha=0.5, label='Actual')\n",
        "plt.hist(y_pred_labels, bins=np.arange(-0.5, 3, 1), alpha=0.5, label='Predicted')\n",
        "plt.xticks([0, 1, 2])\n",
        "plt.title('Comparison of Actual and Predicted Class Distributions')\n",
        "plt.xlabel('Class')\n",
        "plt.ylabel('Frequency')\n",
        "plt.legend()\n",
        "plt.show()"
      ],
      "metadata": {
        "colab": {
          "base_uri": "https://localhost:8080/",
          "height": 1000
        },
        "id": "xBFw1lPMQ7OP",
        "outputId": "ac305b9f-732f-4e9c-de91-d0118dee0605"
      },
      "execution_count": null,
      "outputs": [
        {
          "output_type": "stream",
          "name": "stdout",
          "text": [
            "40/40 [==============================] - 1s 5ms/step\n",
            "Accuracy: 0.6163069544364509\n",
            "              precision    recall  f1-score   support\n",
            "\n",
            "           0       0.71      0.71      0.71       692\n",
            "           1       0.33      0.09      0.14       139\n",
            "           2       0.51      0.64      0.57       420\n",
            "\n",
            "    accuracy                           0.62      1251\n",
            "   macro avg       0.52      0.48      0.47      1251\n",
            "weighted avg       0.60      0.62      0.60      1251\n",
            "\n"
          ]
        },
        {
          "output_type": "display_data",
          "data": {
            "text/plain": [
              "<Figure size 800x600 with 2 Axes>"
            ],
            "image/png": "[encoded data removed]"
          },
          "metadata": {}
        },
        {
          "output_type": "display_data",
          "data": {
            "text/plain": [
              "<Figure size 1000x500 with 1 Axes>"
            ],
            "image/png": "[encoded data removed]"
          },
          "metadata": {}
        }
      ]
    }
  ],
  "metadata": {
    "colab": {
      "provenance": [],
      "gpuType": "T4"
    },
    "kernelspec": {
      "display_name": "Python 3",
      "name": "python3"
    },
    "language_info": {
      "name": "python"
    },
    "widgets": {
      "application/vnd.jupyter.widget-state+json": {
        "ed00d77238894fd99843c78cde4c12a1": {
          "model_module": "@jupyter-widgets/controls",
          "model_name": "HBoxModel",
          "model_module_version": "1.5.0",
          "state": {
            "_dom_classes": [],
            "_model_module": "@jupyter-widgets/controls",
            "_model_module_version": "1.5.0",
            "_model_name": "HBoxModel",
            "_view_count": null,
            "_view_module": "@jupyter-widgets/controls",
            "_view_module_version": "1.5.0",
            "_view_name": "HBoxView",
            "box_style": "",
            "children": [
              "IPY_MODEL_0282d10e51724e66931a0bcdcc831963",
              "IPY_MODEL_784f8dd1f7f448f0bbecee40cabce8cc",
              "IPY_MODEL_7721b980d9de42d19dcc857abf149bf4"
            ],
            "layout": "IPY_MODEL_92cf17e1ada44dcbade3591b063d16ca"
          }
        },
        "0282d10e51724e66931a0bcdcc831963": {
          "model_module": "@jupyter-widgets/controls",
          "model_name": "HTMLModel",
          "model_module_version": "1.5.0",
          "state": {
            "_dom_classes": [],
            "_model_module": "@jupyter-widgets/controls",
            "_model_module_version": "1.5.0",
            "_model_name": "HTMLModel",
            "_view_count": null,
            "_view_module": "@jupyter-widgets/controls",
            "_view_module_version": "1.5.0",
            "_view_name": "HTMLView",
            "description": "",
            "description_tooltip": null,
            "layout": "IPY_MODEL_4a9178683afb466e8e64b2f794e83f00",
            "placeholder": "​",
            "style": "IPY_MODEL_b0d9cea045b74a3f97dbae39b645cdaf",
            "value": "config.json: 100%"
          }
        },
        "784f8dd1f7f448f0bbecee40cabce8cc": {
          "model_module": "@jupyter-widgets/controls",
          "model_name": "FloatProgressModel",
          "model_module_version": "1.5.0",
          "state": {
            "_dom_classes": [],
            "_model_module": "@jupyter-widgets/controls",
            "_model_module_version": "1.5.0",
            "_model_name": "FloatProgressModel",
            "_view_count": null,
            "_view_module": "@jupyter-widgets/controls",
            "_view_module_version": "1.5.0",
            "_view_name": "ProgressView",
            "bar_style": "success",
            "description": "",
            "description_tooltip": null,
            "layout": "IPY_MODEL_184fbae3df5e41a0a80d7e30d7070ffe",
            "max": 570,
            "min": 0,
            "orientation": "horizontal",
            "style": "IPY_MODEL_6356bdc0d797401aa638f6d74f7741d0",
            "value": 570
          }
        },
        "7721b980d9de42d19dcc857abf149bf4": {
          "model_module": "@jupyter-widgets/controls",
          "model_name": "HTMLModel",
          "model_module_version": "1.5.0",
          "state": {
            "_dom_classes": [],
            "_model_module": "@jupyter-widgets/controls",
            "_model_module_version": "1.5.0",
            "_model_name": "HTMLModel",
            "_view_count": null,
            "_view_module": "@jupyter-widgets/controls",
            "_view_module_version": "1.5.0",
            "_view_name": "HTMLView",
            "description": "",
            "description_tooltip": null,
            "layout": "IPY_MODEL_5a346f30e3644c5aa7f467204a09ba37",
            "placeholder": "​",
            "style": "IPY_MODEL_dd1a8b7ec79d4e73ae399c04ffab121e",
            "value": " 570/570 [00:00&lt;00:00, 35.3kB/s]"
          }
        },
        "92cf17e1ada44dcbade3591b063d16ca": {
          "model_module": "@jupyter-widgets/base",
          "model_name": "LayoutModel",
          "model_module_version": "1.2.0",
          "state": {
            "_model_module": "@jupyter-widgets/base",
            "_model_module_version": "1.2.0",
            "_model_name": "LayoutModel",
            "_view_count": null,
            "_view_module": "@jupyter-widgets/base",
            "_view_module_version": "1.2.0",
            "_view_name": "LayoutView",
            "align_content": null,
            "align_items": null,
            "align_self": null,
            "border": null,
            "bottom": null,
            "display": null,
            "flex": null,
            "flex_flow": null,
            "grid_area": null,
            "grid_auto_columns": null,
            "grid_auto_flow": null,
            "grid_auto_rows": null,
            "grid_column": null,
            "grid_gap": null,
            "grid_row": null,
            "grid_template_areas": null,
            "grid_template_columns": null,
            "grid_template_rows": null,
            "height": null,
            "justify_content": null,
            "justify_items": null,
            "left": null,
            "margin": null,
            "max_height": null,
            "max_width": null,
            "min_height": null,
            "min_width": null,
            "object_fit": null,
            "object_position": null,
            "order": null,
            "overflow": null,
            "overflow_x": null,
            "overflow_y": null,
            "padding": null,
            "right": null,
            "top": null,
            "visibility": null,
            "width": null
          }
        },
        "4a9178683afb466e8e64b2f794e83f00": {
          "model_module": "@jupyter-widgets/base",
          "model_name": "LayoutModel",
          "model_module_version": "1.2.0",
          "state": {
            "_model_module": "@jupyter-widgets/base",
            "_model_module_version": "1.2.0",
            "_model_name": "LayoutModel",
            "_view_count": null,
            "_view_module": "@jupyter-widgets/base",
            "_view_module_version": "1.2.0",
            "_view_name": "LayoutView",
            "align_content": null,
            "align_items": null,
            "align_self": null,
            "border": null,
            "bottom": null,
            "display": null,
            "flex": null,
            "flex_flow": null,
            "grid_area": null,
            "grid_auto_columns": null,
            "grid_auto_flow": null,
            "grid_auto_rows": null,
            "grid_column": null,
            "grid_gap": null,
            "grid_row": null,
            "grid_template_areas": null,
            "grid_template_columns": null,
            "grid_template_rows": null,
            "height": null,
            "justify_content": null,
            "justify_items": null,
            "left": null,
            "margin": null,
            "max_height": null,
            "max_width": null,
            "min_height": null,
            "min_width": null,
            "object_fit": null,
            "object_position": null,
            "order": null,
            "overflow": null,
            "overflow_x": null,
            "overflow_y": null,
            "padding": null,
            "right": null,
            "top": null,
            "visibility": null,
            "width": null
          }
        },
        "b0d9cea045b74a3f97dbae39b645cdaf": {
          "model_module": "@jupyter-widgets/controls",
          "model_name": "DescriptionStyleModel",
          "model_module_version": "1.5.0",
          "state": {
            "_model_module": "@jupyter-widgets/controls",
            "_model_module_version": "1.5.0",
            "_model_name": "DescriptionStyleModel",
            "_view_count": null,
            "_view_module": "@jupyter-widgets/base",
            "_view_module_version": "1.2.0",
            "_view_name": "StyleView",
            "description_width": ""
          }
        },
        "184fbae3df5e41a0a80d7e30d7070ffe": {
          "model_module": "@jupyter-widgets/base",
          "model_name": "LayoutModel",
          "model_module_version": "1.2.0",
          "state": {
            "_model_module": "@jupyter-widgets/base",
            "_model_module_version": "1.2.0",
            "_model_name": "LayoutModel",
            "_view_count": null,
            "_view_module": "@jupyter-widgets/base",
            "_view_module_version": "1.2.0",
            "_view_name": "LayoutView",
            "align_content": null,
            "align_items": null,
            "align_self": null,
            "border": null,
            "bottom": null,
            "display": null,
            "flex": null,
            "flex_flow": null,
            "grid_area": null,
            "grid_auto_columns": null,
            "grid_auto_flow": null,
            "grid_auto_rows": null,
            "grid_column": null,
            "grid_gap": null,
            "grid_row": null,
            "grid_template_areas": null,
            "grid_template_columns": null,
            "grid_template_rows": null,
            "height": null,
            "justify_content": null,
            "justify_items": null,
            "left": null,
            "margin": null,
            "max_height": null,
            "max_width": null,
            "min_height": null,
            "min_width": null,
            "object_fit": null,
            "object_position": null,
            "order": null,
            "overflow": null,
            "overflow_x": null,
            "overflow_y": null,
            "padding": null,
            "right": null,
            "top": null,
            "visibility": null,
            "width": null
          }
        },
        "6356bdc0d797401aa638f6d74f7741d0": {
          "model_module": "@jupyter-widgets/controls",
          "model_name": "ProgressStyleModel",
          "model_module_version": "1.5.0",
          "state": {
            "_model_module": "@jupyter-widgets/controls",
            "_model_module_version": "1.5.0",
            "_model_name": "ProgressStyleModel",
            "_view_count": null,
            "_view_module": "@jupyter-widgets/base",
            "_view_module_version": "1.2.0",
            "_view_name": "StyleView",
            "bar_color": null,
            "description_width": ""
          }
        },
        "5a346f30e3644c5aa7f467204a09ba37": {
          "model_module": "@jupyter-widgets/base",
          "model_name": "LayoutModel",
          "model_module_version": "1.2.0",
          "state": {
            "_model_module": "@jupyter-widgets/base",
            "_model_module_version": "1.2.0",
            "_model_name": "LayoutModel",
            "_view_count": null,
            "_view_module": "@jupyter-widgets/base",
            "_view_module_version": "1.2.0",
            "_view_name": "LayoutView",
            "align_content": null,
            "align_items": null,
            "align_self": null,
            "border": null,
            "bottom": null,
            "display": null,
            "flex": null,
            "flex_flow": null,
            "grid_area": null,
            "grid_auto_columns": null,
            "grid_auto_flow": null,
            "grid_auto_rows": null,
            "grid_column": null,
            "grid_gap": null,
            "grid_row": null,
            "grid_template_areas": null,
            "grid_template_columns": null,
            "grid_template_rows": null,
            "height": null,
            "justify_content": null,
            "justify_items": null,
            "left": null,
            "margin": null,
            "max_height": null,
            "max_width": null,
            "min_height": null,
            "min_width": null,
            "object_fit": null,
            "object_position": null,
            "order": null,
            "overflow": null,
            "overflow_x": null,
            "overflow_y": null,
            "padding": null,
            "right": null,
            "top": null,
            "visibility": null,
            "width": null
          }
        },
        "dd1a8b7ec79d4e73ae399c04ffab121e": {
          "model_module": "@jupyter-widgets/controls",
          "model_name": "DescriptionStyleModel",
          "model_module_version": "1.5.0",
          "state": {
            "_model_module": "@jupyter-widgets/controls",
            "_model_module_version": "1.5.0",
            "_model_name": "DescriptionStyleModel",
            "_view_count": null,
            "_view_module": "@jupyter-widgets/base",
            "_view_module_version": "1.2.0",
            "_view_name": "StyleView",
            "description_width": ""
          }
        }
      }
    },
    "accelerator": "GPU"
  },
  "nbformat": 4,
  "nbformat_minor": 0
}